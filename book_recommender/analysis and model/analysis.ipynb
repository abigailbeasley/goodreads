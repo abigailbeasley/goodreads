{
 "cells": [
  {
   "cell_type": "markdown",
   "metadata": {},
   "source": [
    "## Book Recommendation System\n",
    "\n",
    "By Abigail Beasley\n",
    "\n",
    " Despite being the largest social media site dedicated to reading, with millions of active users logging books and book reviews, Goodreads has lagged behind other sites in tailoring recommendations to users based on their interests. My recommendations very rarely seem customized, routinely consisting of what is currently most popular and, worst of all, books I have already read. \n",
    " \n",
    " I got tired of not knowing what to read, so I made my own book recommender. Since using this book recommendation system, I have gotten out of reading rut and my yearly reading has gone up 142% from 38 books in 2023 to 53 books in 2024. Some of my favorite books that I found because of this recommender are:\n",
    "\n",
    "- The Idiot, Elif Batuman\n",
    "- My Brilliant Friend, Elena Farrente \n",
    "- My Name is Lucy Barton, Elizabeth Strout\n",
    "\n",
    "Because I tend to be quite a moody reader, I wanted to create an item-item recommendation system to allow me to find books similar to a specific book I have read and enjoyed. This book recommender employs a KNN algorithm to find books that are similar based on user ratings. Follow along to see how I did it!"
   ]
  },
  {
   "cell_type": "markdown",
   "metadata": {},
   "source": [
    "## Data Collection\n",
    "\n",
    "In preparation, I scraped roughly 1.2M rows of book reviews from Goodreads, resulting in 695k complete reviews from 1,852 users.\n",
    "\n",
    "About the data: In an effort to gather data from like-minded readers, I compiled a list of users by collecting the first 30 reviewers for each book I had read. For all public profiles, I then scraped all their library data. This allowed me to get a list of readers related to me, since we had at least one book in common, but also provided a very large amount of new reading material."
   ]
  },
  {
   "cell_type": "markdown",
   "metadata": {},
   "source": [
    "### Step 1: Import Libraries & Load Data"
   ]
  },
  {
   "cell_type": "code",
   "execution_count": 1,
   "metadata": {},
   "outputs": [],
   "source": [
    "import numpy as np\n",
    "import pandas as pd\n",
    "import matplotlib.pyplot as plt\n",
    "import seaborn as sns\n",
    "from scipy.sparse import csr_matrix\n",
    "import re\n",
    "import plotly.express as px"
   ]
  },
  {
   "cell_type": "code",
   "execution_count": 2,
   "metadata": {},
   "outputs": [],
   "source": [
    "# Loading in Goodreads book reviews\n",
    "reads = pd.read_csv('data/combined_ratings_2024_april.csv', usecols=['user_id', 'link', 'title', 'rating', 'author', 'date read', 'date added', '# times read', 'num ratings'])"
   ]
  },
  {
   "cell_type": "markdown",
   "metadata": {},
   "source": [
    "### Step 2: Cleaning Data\n",
    "\n",
    "In the code chunk below, I do some basic string cleaning"
   ]
  },
  {
   "cell_type": "code",
   "execution_count": 3,
   "metadata": {},
   "outputs": [],
   "source": [
    "\n",
    "# Removing * symbol that is on some author names\n",
    "reads['author'] = reads['author'].str.replace('*', '')\n",
    "\n",
    "# Converting ratings to numeric numbers 1-5\n",
    "reads['rating'] = reads['rating'].fillna(0)\n",
    "mapping = {\n",
    "    'did not like it': 1,\n",
    "    'it was ok': 2,\n",
    "    'liked it': 3,\n",
    "    'really liked it': 4,\n",
    "    'it was amazing': 5\n",
    "}\n",
    "\n",
    "reads['rating'] = reads['rating'].map(mapping).fillna(0)\n",
    "\n",
    "reads['rating'] = reads['rating'].apply(float)\n",
    "\n",
    "# Cleaning book titles\n",
    "reads['title'] = reads['title'].astype(str)\n",
    "reads['title'] = list(map(lambda x: re.sub(r\"[\\(\\[].*?[\\)\\]]\", \"\", x), reads['title']))\n",
    "reads['title'] = reads['title'].str.strip()\n",
    "\n",
    "# User ID as string\n",
    "reads['user_id'] = reads['user_id'].astype(str)\n",
    "\n",
    "# Removing numbers from num_ratings\n",
    "reads['num ratings'] = reads['num ratings'].str.replace(',','')\n",
    "\n",
    "# Converting global pop counts to numeric\n",
    "reads['global_pop'] = pd.to_numeric(reads['num ratings'], errors ='coerce')\n",
    "\n",
    "# Cleaning up book ID\n",
    "reads['book_id'] = reads['link'].str.replace('/book/show', '')\n",
    "reads['book_id'] = reads['book_id'].apply(lambda x: re.sub(r'[^0-9.]', '', x))\n",
    "reads['book_id'] = reads['book_id'].str.replace('.', '')\n"
   ]
  },
  {
   "cell_type": "markdown",
   "metadata": {},
   "source": [
    "Because some user's have rated the same book multiple times, we are going to remove any duplicate reviews. Some books in this data set are books that users want to read, not books they have already read. We are going to filter those out as well."
   ]
  },
  {
   "cell_type": "code",
   "execution_count": 4,
   "metadata": {},
   "outputs": [],
   "source": [
    "# removing duplicate entries\n",
    "reads = reads.sort_values('rating', ascending=False)\n",
    "reads = reads.drop_duplicates(['user_id', 'book_id'], keep='first')\n",
    "\n",
    "# removing 'want-to-read' books\n",
    "reads = reads[reads['# times read'] > 0]"
   ]
  },
  {
   "cell_type": "markdown",
   "metadata": {},
   "source": [
    "## Adding New Features\n",
    "\n",
    "In the following code chunk I am creating a new book ID (I will explain why in a the following section) as well as adding in user statistics and book statistics. These will come in handy when visualizing the data as well as determining how best to go about building the recommender."
   ]
  },
  {
   "cell_type": "code",
   "execution_count": 5,
   "metadata": {},
   "outputs": [],
   "source": [
    "# Creating & cleaning book_tag (book ID for recommendation)\n",
    "reads['book_tag'] = reads['title'] + '; ' + reads['author']\n",
    "reads['book_tag'] = reads['book_tag'].apply(str)\n",
    "reads['is_rated'] = reads['rating'] > 0\n",
    "\n",
    "# Calculating average user rating (ignoring rating = 0, which is not a rating)\n",
    "reads['average_user_rating'] = reads.groupby('user_id')['rating'].transform(lambda x: x[x > 0].mean())\n",
    "\n",
    "# Calculating number of times book as been rated\n",
    "reads['book_popularity_rated'] = reads.groupby('book_tag')['is_rated'].transform('sum')\n",
    "\n",
    "# Calculating number of times book has been read\n",
    "reads['book_popularity_read'] = reads.groupby('book_tag')['book_tag'].transform('size')\n",
    "\n",
    "# Calculating number of books rated by user\n",
    "reads['user_books_rated'] = reads.groupby('user_id')['is_rated'].transform('sum')\n",
    "\n",
    "# Calculating number of books read by user\n",
    "reads['user_books_read'] = reads.groupby('user_id')['user_id'].transform('size')\n",
    "\n",
    "# Calculating each user's rating variability\n",
    "reads['user_rating_variability'] = reads.groupby('user_id')['rating'].transform('std')\n",
    "\n",
    "# Calculating what percentage of books read each user has rated\n",
    "reads['user_rating_percentage'] = round(reads['user_books_rated'] / reads['user_books_read'] * 100, 2)\n",
    "\n",
    "# Calculating what percentage of readers of a book rate it.\n",
    "reads['book_rating_percentage'] = round(reads['book_popularity_rated'] / reads['book_popularity_read'] * 100, 2)\n",
    "\n",
    "# creating an adjusted rating which fills empty ratings with mean value\n",
    "reads['adjusted_rating'] = reads['rating']\n",
    "reads.loc[(reads['rating']==0), 'adjusted_rating'] = reads['average_user_rating']"
   ]
  },
  {
   "cell_type": "markdown",
   "metadata": {},
   "source": [
    "## Creating Data Sets\n",
    "\n",
    "This dataset contains 1.27M read books, of which only about 695k have been reviewed. The rest of these books have been read by the user, but have not been rated yet. In some of the questions below, I am going to be interested in only looking at book ratings, but I am also interested in all books, rated or not. For this reason, we will create a dataset that just contains complete ratings."
   ]
  },
  {
   "cell_type": "code",
   "execution_count": 6,
   "metadata": {},
   "outputs": [],
   "source": [
    "# Removing null ratings (no review occurs when 'rating'=0)\n",
    "ratings = reads[reads['is_rated']]"
   ]
  },
  {
   "cell_type": "markdown",
   "metadata": {},
   "source": [
    "Because we will spend a fair bit of time analyzing books and user behavior, we will also want datasets of books and users."
   ]
  },
  {
   "cell_type": "code",
   "execution_count": 7,
   "metadata": {},
   "outputs": [],
   "source": [
    "books = reads[['title', 'author', 'num ratings', 'global_pop', 'book_id', 'book_tag', 'book_popularity_rated', 'book_popularity_read', 'book_rating_percentage', 'link']].drop_duplicates('book_tag')\n",
    "\n",
    "users = reads[['user_id', 'average_user_rating', 'user_books_rated', 'user_books_read', 'user_rating_variability', 'user_rating_percentage']].drop_duplicates('user_id')"
   ]
  },
  {
   "cell_type": "markdown",
   "metadata": {},
   "source": [
    "## Exploratory Analysis\n",
    "\n",
    "Now that we have cleaned the data, it's time to get a better idea what it looks like. Below, we can see not only how many user profiles and books are in this data set, but also the average number of reviews each user has given and the average number or ratings each book has received."
   ]
  },
  {
   "cell_type": "markdown",
   "metadata": {},
   "source": [
    "### Question 1: How many books and users are there?"
   ]
  },
  {
   "cell_type": "code",
   "execution_count": 10,
   "metadata": {},
   "outputs": [
    {
     "name": "stdout",
     "output_type": "stream",
     "text": [
      "Number of ratings: 693628\n",
      "Number of recorded reads: 758708\n",
      "Number of unique books: 280590\n",
      "Number of unique users: 1843\n",
      "Average number of ratings per user: 376.36\n",
      "Average number of ratings per book: 2.47\n",
      "Average number of reads per book: 2.7\n",
      "Average number of reads per user: 411.67\n"
     ]
    }
   ],
   "source": [
    "n_ratings = len(ratings)\n",
    "n_reads = len(reads)\n",
    "n_users = len(users)\n",
    "n_books = len(books) # Note: see question 5 for why I use book_tag, not book_id\n",
    "\n",
    "print(f\"Number of ratings: {n_ratings}\")\n",
    "print(f'Number of recorded reads: {n_reads}')\n",
    "print(f\"Number of unique books: {n_books}\")\n",
    "print(f\"Number of unique users: {n_users}\")\n",
    "print(f\"Average number of ratings per user: {round(n_ratings/n_users, 2)}\")\n",
    "print(f\"Average number of ratings per book: {round(n_ratings/n_books, 2)}\")\n",
    "print(f\"Average number of reads per book: {round(n_reads/n_books, 2)}\")\n",
    "print(f\"Average number of reads per user: {round(n_reads/n_users, 2)}\")\n"
   ]
  },
  {
   "cell_type": "markdown",
   "metadata": {},
   "source": [
    "### Question 2: How many users have not rated any books?\n",
    "\n",
    "In theory, this should never happen because every user library came from a user that reviewed at least one book I read."
   ]
  },
  {
   "cell_type": "code",
   "execution_count": null,
   "metadata": {},
   "outputs": [
    {
     "name": "stdout",
     "output_type": "stream",
     "text": [
      "15 users have not rated any books.\n",
      "0.81% users have not rated any books.\n"
     ]
    }
   ],
   "source": [
    "users_no_ratings = reads[reads['user_books_rated'] == 0]['user_id'].nunique()\n",
    "\n",
    "pct0_ratings = round(users_no_ratings / n_users * 100, 2)\n",
    "print(f\"{users_no_ratings} users have not rated any books.\")\n",
    "print(f\"{pct0_ratings}% users have not rated any books.\")\n"
   ]
  },
  {
   "cell_type": "markdown",
   "metadata": {},
   "source": [
    "From above, we can see that, in practice, a very small number of cases (~1% of users), those reviews do not appear in their library. This may be because they scrubbed ratings from their library, but left them on the book's review page."
   ]
  },
  {
   "cell_type": "markdown",
   "metadata": {},
   "source": [
    "### Question 3: How many ratings has the typical user given?\n",
    "\n",
    "From above, we know the average user rates roughly 376 books, but how many users have actually rated that many books? Below we can get a better idea by looking at the distribution of ratings per user."
   ]
  },
  {
   "cell_type": "code",
   "execution_count": null,
   "metadata": {},
   "outputs": [
    {
     "data": {
      "image/png": "[encoded data removed]",
      "text/plain": [
       "<Figure size 640x480 with 1 Axes>"
      ]
     },
     "metadata": {},
     "output_type": "display_data"
    }
   ],
   "source": [
    "sns.histplot(data=users['user_books_rated'], bins='fd')\n",
    "plt.title('Distribution of Users by Review Counts')\n",
    "plt.show()"
   ]
  },
  {
   "cell_type": "markdown",
   "metadata": {},
   "source": [
    "It looks like a few users have rated a lot of books, and that is dragging up the average a lot. To get a better idea of what the typical user behavior looks like, I am going to look at the median number of reviews per user."
   ]
  },
  {
   "cell_type": "code",
   "execution_count": null,
   "metadata": {},
   "outputs": [
    {
     "name": "stdout",
     "output_type": "stream",
     "text": [
      "The median number of books reviewed by a user is: 229.0\n",
      "The median number of books read by a user is: 260.0\n"
     ]
    }
   ],
   "source": [
    "median_user_review_count = users['user_books_rated'].median()\n",
    "median_user_read_count = users['user_books_read'].median()\n",
    "\n",
    "print(f\"The median number of books reviewed by a user is: {median_user_review_count}\")\n",
    "print(f\"The median number of books read by a user is: {median_user_read_count}\")\n"
   ]
  },
  {
   "cell_type": "markdown",
   "metadata": {},
   "source": [
    "As expected, the median is a lot lower! Despite the average number of reviews per user being 376, fifty percent of users have rated fewer than 229 books. In a similar vein, the average number of books read is 411, but half of all users have read fewer than 260."
   ]
  },
  {
   "cell_type": "markdown",
   "metadata": {},
   "source": [
    "### Question 4: How best can we ID books?\n",
    "\n",
    "I want find out how users interact with a typical book, but it will be a little bit more complicated because first I need to figure out how best to ID each book. While I could default to the 'book_id' generated by Goodreads, it can be far too specific for a recommendation algorithm. In Goodreads, a 'book id' is tied to an edition or format (e.g. Kindle, Audiobook, Paperback etc.) of each book. For example, in the output below we can see there are 91 different Goodreads book IDs associated with *Jane Eyre*."
   ]
  },
  {
   "cell_type": "code",
   "execution_count": null,
   "metadata": {},
   "outputs": [
    {
     "data": {
      "text/html": [
       "<div>\n",
       "<style scoped>\n",
       "    .dataframe tbody tr th:only-of-type {\n",
       "        vertical-align: middle;\n",
       "    }\n",
       "\n",
       "    .dataframe tbody tr th {\n",
       "        vertical-align: top;\n",
       "    }\n",
       "\n",
       "    .dataframe thead th {\n",
       "        text-align: right;\n",
       "    }\n",
       "</style>\n",
       "<table border=\"1\" class=\"dataframe\">\n",
       "  <thead>\n",
       "    <tr style=\"text-align: right;\">\n",
       "      <th></th>\n",
       "      <th>title</th>\n",
       "      <th>occurances</th>\n",
       "      <th>book_ids</th>\n",
       "      <th>num_unique</th>\n",
       "    </tr>\n",
       "  </thead>\n",
       "  <tbody>\n",
       "    <tr>\n",
       "      <th>22</th>\n",
       "      <td>Jane Eyre</td>\n",
       "      <td>296</td>\n",
       "      <td>[41223532, 22009309, 11016, 31568454, 10210, 1...</td>\n",
       "      <td>79</td>\n",
       "    </tr>\n",
       "    <tr>\n",
       "      <th>60</th>\n",
       "      <td>Frankenstein</td>\n",
       "      <td>229</td>\n",
       "      <td>[18490, 20793663, 603259, 41571339, 7991688, 1...</td>\n",
       "      <td>63</td>\n",
       "    </tr>\n",
       "    <tr>\n",
       "      <th>100</th>\n",
       "      <td>Dracula</td>\n",
       "      <td>193</td>\n",
       "      <td>[17245, 9786023, 588495, 100101805, 33532, 112...</td>\n",
       "      <td>55</td>\n",
       "    </tr>\n",
       "    <tr>\n",
       "      <th>655</th>\n",
       "      <td>Selected Poems</td>\n",
       "      <td>82</td>\n",
       "      <td>[295149, 386270, 112200, 1058137, 65349, 33015...</td>\n",
       "      <td>54</td>\n",
       "    </tr>\n",
       "    <tr>\n",
       "      <th>128</th>\n",
       "      <td>Emma</td>\n",
       "      <td>179</td>\n",
       "      <td>[7181805, 6969, 15861555, 51125383, 57941142, ...</td>\n",
       "      <td>53</td>\n",
       "    </tr>\n",
       "    <tr>\n",
       "      <th>12</th>\n",
       "      <td>Pride and Prejudice</td>\n",
       "      <td>324</td>\n",
       "      <td>[110844, 1885, 15994711, 15769088, 1886, 11082...</td>\n",
       "      <td>53</td>\n",
       "    </tr>\n",
       "    <tr>\n",
       "      <th>65</th>\n",
       "      <td>Wuthering Heights</td>\n",
       "      <td>223</td>\n",
       "      <td>[6147457, 348914, 6185, 36589634, 3819780, 484...</td>\n",
       "      <td>51</td>\n",
       "    </tr>\n",
       "    <tr>\n",
       "      <th>127</th>\n",
       "      <td>Anna Karenina</td>\n",
       "      <td>179</td>\n",
       "      <td>[15841795, 5685, 15823480, 153, 58560955, 1734...</td>\n",
       "      <td>50</td>\n",
       "    </tr>\n",
       "    <tr>\n",
       "      <th>104</th>\n",
       "      <td>A Christmas Carol</td>\n",
       "      <td>192</td>\n",
       "      <td>[37837745, 5326, 5981667, 5327, 4836076, 88290...</td>\n",
       "      <td>48</td>\n",
       "    </tr>\n",
       "    <tr>\n",
       "      <th>50</th>\n",
       "      <td>Little Women</td>\n",
       "      <td>237</td>\n",
       "      <td>[15796908, 20893528, 45457693, 48814947, 59747...</td>\n",
       "      <td>47</td>\n",
       "    </tr>\n",
       "  </tbody>\n",
       "</table>\n",
       "</div>"
      ],
      "text/plain": [
       "                   title  occurances  \\\n",
       "22             Jane Eyre         296   \n",
       "60          Frankenstein         229   \n",
       "100              Dracula         193   \n",
       "655       Selected Poems          82   \n",
       "128                 Emma         179   \n",
       "12   Pride and Prejudice         324   \n",
       "65     Wuthering Heights         223   \n",
       "127        Anna Karenina         179   \n",
       "104    A Christmas Carol         192   \n",
       "50          Little Women         237   \n",
       "\n",
       "                                              book_ids  num_unique  \n",
       "22   [41223532, 22009309, 11016, 31568454, 10210, 1...          79  \n",
       "60   [18490, 20793663, 603259, 41571339, 7991688, 1...          63  \n",
       "100  [17245, 9786023, 588495, 100101805, 33532, 112...          55  \n",
       "655  [295149, 386270, 112200, 1058137, 65349, 33015...          54  \n",
       "128  [7181805, 6969, 15861555, 51125383, 57941142, ...          53  \n",
       "12   [110844, 1885, 15994711, 15769088, 1886, 11082...          53  \n",
       "65   [6147457, 348914, 6185, 36589634, 3819780, 484...          51  \n",
       "127  [15841795, 5685, 15823480, 153, 58560955, 1734...          50  \n",
       "104  [37837745, 5326, 5981667, 5327, 4836076, 88290...          48  \n",
       "50   [15796908, 20893528, 45457693, 48814947, 59747...          47  "
      ]
     },
     "execution_count": 1193,
     "metadata": {},
     "output_type": "execute_result"
    }
   ],
   "source": [
    "# Examining titles with multiple book Ids\n",
    "most_common_titles = reads['title'].value_counts().reset_index()\n",
    "most_common_titles.columns = ['title', 'occurances']\n",
    "\n",
    "# Grouping book_ids to titles\n",
    "title_ids = reads.groupby('title')['book_id'].unique().reset_index()\n",
    "title_ids.columns = ['title', 'book_ids']\n",
    "title_ids['num_unique'] = title_ids['book_ids'].apply(len)\n",
    "\n",
    "titles = most_common_titles.merge(title_ids, on = 'title', how = 'inner', validate = \"1:1\")\n",
    "titles.sort_values('num_unique', ascending=False,inplace=True)\n",
    "titles.head(10)"
   ]
  },
  {
   "cell_type": "markdown",
   "metadata": {},
   "source": [
    "For a book recommendation system, the book format is not of particular importance and so I want to find a way of identifying books that lumps all formats and editions under one ID. One thought would be to just use book title, but then I might run into the opposite issue: rather than having an identifier that is too specific, it could conflate two completely different books that share the same name. For example, in the output above, *Selected Poems* is associated with multiple book IDs, but this is likely because many poets have 'Selected Poems' as a title of a book.\n",
    "\n",
    "In the code below, we can see the book titles that have been used by the most authors. As we might expect, these are very generic book names that are likely to be used by many authors.\n",
    "\n",
    "Note: For anyone who is curious, Und = 'Untitled'"
   ]
  },
  {
   "cell_type": "code",
   "execution_count": null,
   "metadata": {},
   "outputs": [
    {
     "data": {
      "text/html": [
       "<div>\n",
       "<style scoped>\n",
       "    .dataframe tbody tr th:only-of-type {\n",
       "        vertical-align: middle;\n",
       "    }\n",
       "\n",
       "    .dataframe tbody tr th {\n",
       "        vertical-align: top;\n",
       "    }\n",
       "\n",
       "    .dataframe thead th {\n",
       "        text-align: right;\n",
       "    }\n",
       "</style>\n",
       "<table border=\"1\" class=\"dataframe\">\n",
       "  <thead>\n",
       "    <tr style=\"text-align: right;\">\n",
       "      <th></th>\n",
       "      <th>title</th>\n",
       "      <th>authors</th>\n",
       "      <th>num_unique</th>\n",
       "    </tr>\n",
       "  </thead>\n",
       "  <tbody>\n",
       "    <tr>\n",
       "      <th>157676</th>\n",
       "      <td>Selected Poems</td>\n",
       "      <td>[Plath, Sylvia, Eliot, T.S., Dickinson, Emily,...</td>\n",
       "      <td>42</td>\n",
       "    </tr>\n",
       "    <tr>\n",
       "      <th>30515</th>\n",
       "      <td>Broken</td>\n",
       "      <td>[Slaughter, Karin, Haken, Nicola, Clay, Daniel...</td>\n",
       "      <td>20</td>\n",
       "    </tr>\n",
       "    <tr>\n",
       "      <th>84196</th>\n",
       "      <td>Hunted</td>\n",
       "      <td>[Melki-Wegner, Skye, Todd, G.X., Spooner, Meag...</td>\n",
       "      <td>20</td>\n",
       "    </tr>\n",
       "    <tr>\n",
       "      <th>38712</th>\n",
       "      <td>Collected Stories</td>\n",
       "      <td>[McCullers, Carson, Doctorow, E.L., Kipling, R...</td>\n",
       "      <td>20</td>\n",
       "    </tr>\n",
       "    <tr>\n",
       "      <th>149939</th>\n",
       "      <td>Redemption</td>\n",
       "      <td>[Baldacci, David, Friend, J.E., Kingsbury, Kar...</td>\n",
       "      <td>19</td>\n",
       "    </tr>\n",
       "    <tr>\n",
       "      <th>224829</th>\n",
       "      <td>Twisted</td>\n",
       "      <td>[McIntire, Emily, Shepard, Sara, Brody, Marjor...</td>\n",
       "      <td>18</td>\n",
       "    </tr>\n",
       "    <tr>\n",
       "      <th>81507</th>\n",
       "      <td>Home</td>\n",
       "      <td>[Robinson, Marilynne, Berriman, Amanda, Harlan...</td>\n",
       "      <td>18</td>\n",
       "    </tr>\n",
       "    <tr>\n",
       "      <th>68185</th>\n",
       "      <td>Forget Me Not</td>\n",
       "      <td>[Tyler, Q.B., Soto, Julie, Lewis, Luana, Allan...</td>\n",
       "      <td>18</td>\n",
       "    </tr>\n",
       "    <tr>\n",
       "      <th>210978</th>\n",
       "      <td>The Stranger</td>\n",
       "      <td>[Camus, Albert, Hall, Joan, Coben, Harlan, Fer...</td>\n",
       "      <td>18</td>\n",
       "    </tr>\n",
       "    <tr>\n",
       "      <th>149525</th>\n",
       "      <td>Reckless</td>\n",
       "      <td>[Silver, Elsie, Brubaker, Ed, Montgomery, Sele...</td>\n",
       "      <td>18</td>\n",
       "    </tr>\n",
       "  </tbody>\n",
       "</table>\n",
       "</div>"
      ],
      "text/plain": [
       "                    title                                            authors  \\\n",
       "157676     Selected Poems  [Plath, Sylvia, Eliot, T.S., Dickinson, Emily,...   \n",
       "30515              Broken  [Slaughter, Karin, Haken, Nicola, Clay, Daniel...   \n",
       "84196              Hunted  [Melki-Wegner, Skye, Todd, G.X., Spooner, Meag...   \n",
       "38712   Collected Stories  [McCullers, Carson, Doctorow, E.L., Kipling, R...   \n",
       "149939         Redemption  [Baldacci, David, Friend, J.E., Kingsbury, Kar...   \n",
       "224829            Twisted  [McIntire, Emily, Shepard, Sara, Brody, Marjor...   \n",
       "81507                Home  [Robinson, Marilynne, Berriman, Amanda, Harlan...   \n",
       "68185       Forget Me Not  [Tyler, Q.B., Soto, Julie, Lewis, Luana, Allan...   \n",
       "210978       The Stranger  [Camus, Albert, Hall, Joan, Coben, Harlan, Fer...   \n",
       "149525           Reckless  [Silver, Elsie, Brubaker, Ed, Montgomery, Sele...   \n",
       "\n",
       "        num_unique  \n",
       "157676          42  \n",
       "30515           20  \n",
       "84196           20  \n",
       "38712           20  \n",
       "149939          19  \n",
       "224829          18  \n",
       "81507           18  \n",
       "68185           18  \n",
       "210978          18  \n",
       "149525          18  "
      ]
     },
     "execution_count": 1194,
     "metadata": {},
     "output_type": "execute_result"
    }
   ],
   "source": [
    "# Examining books associated with multiple authors\n",
    "book_to_author = reads.groupby('title')['author'].unique().reset_index()\n",
    "book_to_author.columns = ['title', 'authors']\n",
    "book_to_author['num_unique'] = book_to_author['authors'].apply(len)\n",
    "\n",
    "# Looking at titles that have the highest number of different authors associated with them\n",
    "book_to_author.sort_values('num_unique', ascending=False, inplace=True)\n",
    "book_to_author.head(10)"
   ]
  },
  {
   "cell_type": "markdown",
   "metadata": {},
   "source": [
    " Since authors are generally unlikely to give two of their books the same name, and it is very unlikely that two people with the same name would write a book with the same title, we can safely rely on this as a way identify specific books. The only potential drawback is this will not lump translations since the title will likely be in a different language, but it is still an improvement over the Goodreads generated ID. For this reason, I created a new ID, 'book_tag', which uses the author name and title to uniquely identify each book. (Scroll above to the Adding New Features section to see how that is done)."
   ]
  },
  {
   "cell_type": "markdown",
   "metadata": {},
   "source": [
    "### Question 5: Which books are most popular?\n",
    "\n",
    "As we saw above, the average book in this data set has been read 2.7 times by these users, with an average of 2.47 ratings. Below we can see which books have been read the most, as well as the number of times they have been read."
   ]
  },
  {
   "cell_type": "code",
   "execution_count": null,
   "metadata": {},
   "outputs": [
    {
     "data": {
      "text/html": [
       "<div>\n",
       "<style scoped>\n",
       "    .dataframe tbody tr th:only-of-type {\n",
       "        vertical-align: middle;\n",
       "    }\n",
       "\n",
       "    .dataframe tbody tr th {\n",
       "        vertical-align: top;\n",
       "    }\n",
       "\n",
       "    .dataframe thead th {\n",
       "        text-align: right;\n",
       "    }\n",
       "</style>\n",
       "<table border=\"1\" class=\"dataframe\">\n",
       "  <thead>\n",
       "    <tr style=\"text-align: right;\">\n",
       "      <th></th>\n",
       "      <th>title</th>\n",
       "      <th>book_popularity_read</th>\n",
       "    </tr>\n",
       "  </thead>\n",
       "  <tbody>\n",
       "    <tr>\n",
       "      <th>528649</th>\n",
       "      <td>The Great Gatsby</td>\n",
       "      <td>376</td>\n",
       "    </tr>\n",
       "    <tr>\n",
       "      <th>529526</th>\n",
       "      <td>The Seven Husbands of Evelyn Hugo</td>\n",
       "      <td>366</td>\n",
       "    </tr>\n",
       "    <tr>\n",
       "      <th>529493</th>\n",
       "      <td>Daisy Jones &amp; The Six</td>\n",
       "      <td>366</td>\n",
       "    </tr>\n",
       "    <tr>\n",
       "      <th>530262</th>\n",
       "      <td>The Guest List</td>\n",
       "      <td>364</td>\n",
       "    </tr>\n",
       "    <tr>\n",
       "      <th>1105235</th>\n",
       "      <td>Tomorrow, and Tomorrow, and Tomorrow</td>\n",
       "      <td>359</td>\n",
       "    </tr>\n",
       "    <tr>\n",
       "      <th>531373</th>\n",
       "      <td>Harry Potter and the Chamber of Secrets</td>\n",
       "      <td>355</td>\n",
       "    </tr>\n",
       "    <tr>\n",
       "      <th>530206</th>\n",
       "      <td>The Midnight Library</td>\n",
       "      <td>349</td>\n",
       "    </tr>\n",
       "    <tr>\n",
       "      <th>1108005</th>\n",
       "      <td>Where the Crawdads Sing</td>\n",
       "      <td>348</td>\n",
       "    </tr>\n",
       "    <tr>\n",
       "      <th>531372</th>\n",
       "      <td>Harry Potter and the Prisoner of Azkaban</td>\n",
       "      <td>342</td>\n",
       "    </tr>\n",
       "    <tr>\n",
       "      <th>539159</th>\n",
       "      <td>The Hunger Games</td>\n",
       "      <td>342</td>\n",
       "    </tr>\n",
       "    <tr>\n",
       "      <th>1107124</th>\n",
       "      <td>The Silent Patient</td>\n",
       "      <td>341</td>\n",
       "    </tr>\n",
       "    <tr>\n",
       "      <th>1106089</th>\n",
       "      <td>Normal People</td>\n",
       "      <td>325</td>\n",
       "    </tr>\n",
       "    <tr>\n",
       "      <th>531429</th>\n",
       "      <td>Pride and Prejudice</td>\n",
       "      <td>321</td>\n",
       "    </tr>\n",
       "    <tr>\n",
       "      <th>528650</th>\n",
       "      <td>To Kill a Mockingbird</td>\n",
       "      <td>321</td>\n",
       "    </tr>\n",
       "    <tr>\n",
       "      <th>529552</th>\n",
       "      <td>1984</td>\n",
       "      <td>321</td>\n",
       "    </tr>\n",
       "    <tr>\n",
       "      <th>531520</th>\n",
       "      <td>Harry Potter and the Sorcerer's Stone</td>\n",
       "      <td>318</td>\n",
       "    </tr>\n",
       "    <tr>\n",
       "      <th>529190</th>\n",
       "      <td>Circe</td>\n",
       "      <td>311</td>\n",
       "    </tr>\n",
       "    <tr>\n",
       "      <th>1106222</th>\n",
       "      <td>Gone Girl</td>\n",
       "      <td>308</td>\n",
       "    </tr>\n",
       "    <tr>\n",
       "      <th>531371</th>\n",
       "      <td>Harry Potter and the Goblet of Fire</td>\n",
       "      <td>307</td>\n",
       "    </tr>\n",
       "    <tr>\n",
       "      <th>529379</th>\n",
       "      <td>Harry Potter and the Order of the Phoenix</td>\n",
       "      <td>302</td>\n",
       "    </tr>\n",
       "  </tbody>\n",
       "</table>\n",
       "</div>"
      ],
      "text/plain": [
       "                                             title  book_popularity_read\n",
       "528649                            The Great Gatsby                   376\n",
       "529526           The Seven Husbands of Evelyn Hugo                   366\n",
       "529493                       Daisy Jones & The Six                   366\n",
       "530262                              The Guest List                   364\n",
       "1105235       Tomorrow, and Tomorrow, and Tomorrow                   359\n",
       "531373     Harry Potter and the Chamber of Secrets                   355\n",
       "530206                        The Midnight Library                   349\n",
       "1108005                    Where the Crawdads Sing                   348\n",
       "531372    Harry Potter and the Prisoner of Azkaban                   342\n",
       "539159                            The Hunger Games                   342\n",
       "1107124                         The Silent Patient                   341\n",
       "1106089                              Normal People                   325\n",
       "531429                         Pride and Prejudice                   321\n",
       "528650                       To Kill a Mockingbird                   321\n",
       "529552                                        1984                   321\n",
       "531520       Harry Potter and the Sorcerer's Stone                   318\n",
       "529190                                       Circe                   311\n",
       "1106222                                  Gone Girl                   308\n",
       "531371         Harry Potter and the Goblet of Fire                   307\n",
       "529379   Harry Potter and the Order of the Phoenix                   302"
      ]
     },
     "execution_count": 1195,
     "metadata": {},
     "output_type": "execute_result"
    }
   ],
   "source": [
    "books.sort_values('book_popularity_read', ascending=False).head(20)[['title', 'book_popularity_read']]"
   ]
  },
  {
   "cell_type": "markdown",
   "metadata": {},
   "source": [
    "This list of books above makes a lot of sense; it includes some of the most popular books at the time I scraped the data, as well as some classics like *The Great Gatsby*, *1984* and *Harry Potter*.\n",
    "\n",
    "Given these numbers, I suspect that a few books are dragging up the average number of times each book is read or rated. Let's take a look at the distribution of ratings and reads for books."
   ]
  },
  {
   "cell_type": "code",
   "execution_count": null,
   "metadata": {},
   "outputs": [
    {
     "data": {
      "image/png": "[encoded data removed]",
      "text/plain": [
       "<Figure size 1200x500 with 2 Axes>"
      ]
     },
     "metadata": {},
     "output_type": "display_data"
    }
   ],
   "source": [
    "# Create a Figure and two Axes\n",
    "fig, axes = plt.subplots(1, 2, figsize=(12, 5))  # 1 row, 2 columns\n",
    "\n",
    "sns.histplot(data=books, bins=80, x='book_popularity_read', ax=axes[0])\n",
    "axes[0].set_title('Distribution of Book Read Counts')\n",
    "\n",
    "sns.histplot(data=books, bins=80, x='book_popularity_rated', ax=axes[1])\n",
    "axes[1].set_title('Distribution of Book Rating Counts')\n",
    "\n",
    "# Adjust layout for better spacing\n",
    "plt.tight_layout()\n",
    "\n",
    "# Show the plots\n",
    "plt.show()"
   ]
  },
  {
   "cell_type": "markdown",
   "metadata": {},
   "source": [
    "It looks like an overwhelming majority of books have been rated or read only once, but it is very difficult to see from the figures alone. Let's take a closer look."
   ]
  },
  {
   "cell_type": "code",
   "execution_count": null,
   "metadata": {},
   "outputs": [
    {
     "name": "stdout",
     "output_type": "stream",
     "text": [
      "71.58% of books have received less than one review.\n",
      "69.16% of books have been read at most once.\n"
     ]
    }
   ],
   "source": [
    "one_review = len(books[books['book_popularity_rated'] <= 1])\n",
    "one_read = len(books[books['book_popularity_read'] <= 1])\n",
    "\n",
    "print(f\"{round(one_review /n_books *100, 2)}% of books have received less than one review.\")\n",
    "print(f\"{round(one_read /n_books* 100, 2)}% of books have been read at most once.\")\n"
   ]
  },
  {
   "cell_type": "markdown",
   "metadata": {},
   "source": [
    "### Question 6: How are readers rating books?\n",
    "\n",
    "In the following section, we will dive into how users tend to rate books and how we can most accurately predict a book's average rating, given the reviews we have.\n",
    "\n",
    "First, let's look at the distribution of user ratings"
   ]
  },
  {
   "cell_type": "code",
   "execution_count": null,
   "metadata": {},
   "outputs": [
    {
     "data": {
      "image/png": "[encoded data removed]",
      "text/plain": [
       "<Figure size 640x480 with 1 Axes>"
      ]
     },
     "metadata": {},
     "output_type": "display_data"
    }
   ],
   "source": [
    "sns.histplot(ratings['rating'],discrete=True)\n",
    "plt.title('Distribution of User Ratings')\n",
    "plt.show()"
   ]
  },
  {
   "cell_type": "markdown",
   "metadata": {},
   "source": [
    "Reviewers tend to lean positive in their ratings, with the most common book rating being a 4, followed far behind by 5 and 3, which are nearly tied for second place. Let's take a look at the mean and median reviews."
   ]
  },
  {
   "cell_type": "code",
   "execution_count": null,
   "metadata": {},
   "outputs": [
    {
     "name": "stdout",
     "output_type": "stream",
     "text": [
      "Mean global rating: 3.79.\n",
      "Median global rating: 4.0.\n"
     ]
    }
   ],
   "source": [
    "print(f\"Mean global rating: {round(ratings['rating'].mean(),2)}.\")\n",
    "print(f\"Median global rating: {round(ratings['rating'].median(),0)}.\")"
   ]
  },
  {
   "cell_type": "code",
   "execution_count": null,
   "metadata": {},
   "outputs": [
    {
     "name": "stdout",
     "output_type": "stream",
     "text": [
      "Mean rating per user: 3.84.\n",
      "Median rating per user: 3.84.\n"
     ]
    }
   ],
   "source": [
    "mean_user_average_rating = ratings.drop_duplicates(['user_id'])['average_user_rating'].mean()\n",
    "median_user_average_rating = ratings.drop_duplicates(['user_id'])['average_user_rating'].median()\n",
    "\n",
    "print(f\"Mean rating per user: {round(mean_user_average_rating,2)}.\")\n",
    "print(f\"Median rating per user: {round(median_user_average_rating,2)}.\")"
   ]
  },
  {
   "cell_type": "markdown",
   "metadata": {},
   "source": [
    "\n",
    "As we can see above, we get a slightly different mean if we first group by user. This is likely because a) users differ widely in the number of books they have read and b) users tend to rate books differently.\n",
    "\n",
    "Some users may be more likely to give higher ratings than others users. The following graph displays the distribution of average ratings by user."
   ]
  },
  {
   "cell_type": "code",
   "execution_count": null,
   "metadata": {},
   "outputs": [
    {
     "data": {
      "image/png": "[encoded data removed]",
      "text/plain": [
       "<Figure size 640x480 with 1 Axes>"
      ]
     },
     "metadata": {},
     "output_type": "display_data"
    }
   ],
   "source": [
    "sns.histplot(ratings['average_user_rating'], bins=50)\n",
    "plt.title('Distribution of Average User Rating')\n",
    "plt.show()"
   ]
  },
  {
   "cell_type": "markdown",
   "metadata": {},
   "source": [
    "From the graph above, we can see that user's tend to rate books very differently. What may be a very good rating to one user, could be a very low rating for another user. One way to can account for this is normalizing ratings by user, which will be done later in preprocessing."
   ]
  },
  {
   "cell_type": "markdown",
   "metadata": {},
   "source": [
    "### Question 7: What are the lowest and highest rated books? What is the average book rating?"
   ]
  },
  {
   "cell_type": "code",
   "execution_count": null,
   "metadata": {},
   "outputs": [
    {
     "name": "stdout",
     "output_type": "stream",
     "text": [
      "Lowest rated book: Prague Winter: A Personal Story of Remembrance and War, 1937-1948; Albright, Madeleine K.\n",
      "Highest rated book: !خرگوش گوش داد; Doerrfeld, Cori\n"
     ]
    }
   ],
   "source": [
    "mean_ratings = ratings.groupby('book_tag')[['rating']].mean().reset_index().sort_values('rating', ascending =False)\n",
    "lowest_rated = mean_ratings['rating'].idxmin()\n",
    "highest_rated = mean_ratings['rating'].idxmax()\n",
    "\n",
    "print(f'Lowest rated book: {mean_ratings.iloc[lowest_rated, 0]}')\n",
    "print(f'Highest rated book: {mean_ratings.iloc[highest_rated, 0]}')"
   ]
  },
  {
   "cell_type": "markdown",
   "metadata": {},
   "source": [
    "Most of the books in this dataset have very few ratings. Therefore, calculating an average rating provides little value because the books with the highest and lowest reviews are likely to be books with one very high and low review, respectively. Thus, we are likely to get very strange answers for highest rated books if we rely solely on the traditional mean formula.\n",
    "\n",
    "One potential solution to get a more accurate average for books with few ratings is the Bayesian average. A Bayesian average will rely on preexisting knowledge to form an estimate for the mean, and then update that estimate based on the data available. Below, we can use the average mean for each book as starting point and adjust based on user reviews of the book. The Bayesian average also involves a constant C, which determines how heavily the pior mean estimate will factor into the result. A larger C value means the prior mean will weigh more heavily. For the purposes of this calculation, we will use the average number of ratings a book has as our C value.\n",
    "\n",
    "Before we do that, however, let's look at the mean rating for books that recieved the most reviews."
   ]
  },
  {
   "cell_type": "code",
   "execution_count": null,
   "metadata": {},
   "outputs": [
    {
     "data": {
      "text/html": [
       "<div>\n",
       "<style scoped>\n",
       "    .dataframe tbody tr th:only-of-type {\n",
       "        vertical-align: middle;\n",
       "    }\n",
       "\n",
       "    .dataframe tbody tr th {\n",
       "        vertical-align: top;\n",
       "    }\n",
       "\n",
       "    .dataframe thead th {\n",
       "        text-align: right;\n",
       "    }\n",
       "</style>\n",
       "<table border=\"1\" class=\"dataframe\">\n",
       "  <thead>\n",
       "    <tr style=\"text-align: right;\">\n",
       "      <th></th>\n",
       "      <th>book_tag</th>\n",
       "      <th>count</th>\n",
       "      <th>mean</th>\n",
       "    </tr>\n",
       "  </thead>\n",
       "  <tbody>\n",
       "    <tr>\n",
       "      <th>188176</th>\n",
       "      <td>The Great Gatsby; Fitzgerald, F. Scott</td>\n",
       "      <td>353</td>\n",
       "      <td>3.971671</td>\n",
       "    </tr>\n",
       "    <tr>\n",
       "      <th>42921</th>\n",
       "      <td>Daisy Jones &amp; The Six; Reid, Taylor Jenkins</td>\n",
       "      <td>348</td>\n",
       "      <td>4.109195</td>\n",
       "    </tr>\n",
       "    <tr>\n",
       "      <th>206854</th>\n",
       "      <td>The Seven Husbands of Evelyn Hugo; Reid, Taylo...</td>\n",
       "      <td>348</td>\n",
       "      <td>4.215517</td>\n",
       "    </tr>\n",
       "    <tr>\n",
       "      <th>188548</th>\n",
       "      <td>The Guest List; Foley, Lucy</td>\n",
       "      <td>342</td>\n",
       "      <td>3.561404</td>\n",
       "    </tr>\n",
       "    <tr>\n",
       "      <th>220409</th>\n",
       "      <td>Tomorrow, and Tomorrow, and Tomorrow; Zevin, G...</td>\n",
       "      <td>332</td>\n",
       "      <td>4.207831</td>\n",
       "    </tr>\n",
       "  </tbody>\n",
       "</table>\n",
       "</div>"
      ],
      "text/plain": [
       "                                                 book_tag  count      mean\n",
       "188176             The Great Gatsby; Fitzgerald, F. Scott    353  3.971671\n",
       "42921         Daisy Jones & The Six; Reid, Taylor Jenkins    348  4.109195\n",
       "206854  The Seven Husbands of Evelyn Hugo; Reid, Taylo...    348  4.215517\n",
       "188548                        The Guest List; Foley, Lucy    342  3.561404\n",
       "220409  Tomorrow, and Tomorrow, and Tomorrow; Zevin, G...    332  4.207831"
      ]
     },
     "execution_count": 1203,
     "metadata": {},
     "output_type": "execute_result"
    }
   ],
   "source": [
    "book_stats = ratings.groupby('book_tag')['rating'].agg(['count', 'mean']).reset_index().sort_values('count', ascending=False)\n",
    "book_stats.head()"
   ]
  },
  {
   "cell_type": "markdown",
   "metadata": {},
   "source": [
    "As expected, the most popular books have relatively high reviews, but we are not seeing any 5-star or 1-stars. Instead, they are all relatively close to the average book score.\n",
    "\n",
    "Now let's compute the Bayesian average."
   ]
  },
  {
   "cell_type": "code",
   "execution_count": null,
   "metadata": {},
   "outputs": [
    {
     "name": "stdout",
     "output_type": "stream",
     "text": [
      "Average number of ratings for a given book, given that book has receieved at least one rating: 2.67\n",
      "Average rating for a given book: 3.73\n"
     ]
    }
   ],
   "source": [
    "C = book_stats['count'].mean() # average number of reviews per book\n",
    "m = book_stats['mean'].mean() # average rating per book\n",
    "\n",
    "print(f\"Average number of ratings for a given book, given that book has receieved at least one rating: {C:.2f}\")\n",
    "print(f\"Average rating for a given book: {m:.2f}\")\n",
    "\n",
    "def bayesian_avg(ratings):\n",
    "    bayesian_avg = (C*m+ratings.sum())/(C+ratings.count())\n",
    "    return round(bayesian_avg, 3)"
   ]
  },
  {
   "cell_type": "code",
   "execution_count": null,
   "metadata": {},
   "outputs": [],
   "source": [
    "bayesian_avg_ratings = ratings.groupby('book_tag')['rating'].agg(bayesian_avg).reset_index()\n",
    "bayesian_avg_ratings.columns = ['book_tag', 'bayesian_avg']\n",
    "book_stats = book_stats.merge(bayesian_avg_ratings, on='book_tag')"
   ]
  },
  {
   "cell_type": "markdown",
   "metadata": {},
   "source": [
    "Now, when we look at the most popular books, the bayesian average will be very close to the mean rating."
   ]
  },
  {
   "cell_type": "code",
   "execution_count": null,
   "metadata": {},
   "outputs": [
    {
     "data": {
      "text/html": [
       "<div>\n",
       "<style scoped>\n",
       "    .dataframe tbody tr th:only-of-type {\n",
       "        vertical-align: middle;\n",
       "    }\n",
       "\n",
       "    .dataframe tbody tr th {\n",
       "        vertical-align: top;\n",
       "    }\n",
       "\n",
       "    .dataframe thead th {\n",
       "        text-align: right;\n",
       "    }\n",
       "</style>\n",
       "<table border=\"1\" class=\"dataframe\">\n",
       "  <thead>\n",
       "    <tr style=\"text-align: right;\">\n",
       "      <th></th>\n",
       "      <th>book_tag</th>\n",
       "      <th>count</th>\n",
       "      <th>mean</th>\n",
       "      <th>bayesian_avg</th>\n",
       "    </tr>\n",
       "  </thead>\n",
       "  <tbody>\n",
       "    <tr>\n",
       "      <th>0</th>\n",
       "      <td>The Great Gatsby; Fitzgerald, F. Scott</td>\n",
       "      <td>353</td>\n",
       "      <td>3.971671</td>\n",
       "      <td>3.970</td>\n",
       "    </tr>\n",
       "    <tr>\n",
       "      <th>1</th>\n",
       "      <td>Daisy Jones &amp; The Six; Reid, Taylor Jenkins</td>\n",
       "      <td>348</td>\n",
       "      <td>4.109195</td>\n",
       "      <td>4.106</td>\n",
       "    </tr>\n",
       "    <tr>\n",
       "      <th>2</th>\n",
       "      <td>The Seven Husbands of Evelyn Hugo; Reid, Taylo...</td>\n",
       "      <td>348</td>\n",
       "      <td>4.215517</td>\n",
       "      <td>4.212</td>\n",
       "    </tr>\n",
       "    <tr>\n",
       "      <th>3</th>\n",
       "      <td>The Guest List; Foley, Lucy</td>\n",
       "      <td>342</td>\n",
       "      <td>3.561404</td>\n",
       "      <td>3.563</td>\n",
       "    </tr>\n",
       "    <tr>\n",
       "      <th>4</th>\n",
       "      <td>Tomorrow, and Tomorrow, and Tomorrow; Zevin, G...</td>\n",
       "      <td>332</td>\n",
       "      <td>4.207831</td>\n",
       "      <td>4.204</td>\n",
       "    </tr>\n",
       "  </tbody>\n",
       "</table>\n",
       "</div>"
      ],
      "text/plain": [
       "                                            book_tag  count      mean  \\\n",
       "0             The Great Gatsby; Fitzgerald, F. Scott    353  3.971671   \n",
       "1        Daisy Jones & The Six; Reid, Taylor Jenkins    348  4.109195   \n",
       "2  The Seven Husbands of Evelyn Hugo; Reid, Taylo...    348  4.215517   \n",
       "3                        The Guest List; Foley, Lucy    342  3.561404   \n",
       "4  Tomorrow, and Tomorrow, and Tomorrow; Zevin, G...    332  4.207831   \n",
       "\n",
       "   bayesian_avg  \n",
       "0         3.970  \n",
       "1         4.106  \n",
       "2         4.212  \n",
       "3         3.563  \n",
       "4         4.204  "
      ]
     },
     "execution_count": 1206,
     "metadata": {},
     "output_type": "execute_result"
    }
   ],
   "source": [
    "book_stats.sort_values('count', ascending=False).head()"
   ]
  },
  {
   "cell_type": "markdown",
   "metadata": {},
   "source": [
    "Where we see the biggest difference between the bayesian average and the mean rating is with the books with fewer ratings. In these cases, the prior rating plays a much bigger role."
   ]
  },
  {
   "cell_type": "code",
   "execution_count": null,
   "metadata": {},
   "outputs": [
    {
     "data": {
      "text/html": [
       "<div>\n",
       "<style scoped>\n",
       "    .dataframe tbody tr th:only-of-type {\n",
       "        vertical-align: middle;\n",
       "    }\n",
       "\n",
       "    .dataframe tbody tr th {\n",
       "        vertical-align: top;\n",
       "    }\n",
       "\n",
       "    .dataframe thead th {\n",
       "        text-align: right;\n",
       "    }\n",
       "</style>\n",
       "<table border=\"1\" class=\"dataframe\">\n",
       "  <thead>\n",
       "    <tr style=\"text-align: right;\">\n",
       "      <th></th>\n",
       "      <th>book_tag</th>\n",
       "      <th>count</th>\n",
       "      <th>mean</th>\n",
       "      <th>bayesian_avg</th>\n",
       "    </tr>\n",
       "  </thead>\n",
       "  <tbody>\n",
       "    <tr>\n",
       "      <th>129915</th>\n",
       "      <td>i$ubscribe: Gen Verismo Genesis; Flower, P.B. ...</td>\n",
       "      <td>1</td>\n",
       "      <td>3.0</td>\n",
       "      <td>3.532</td>\n",
       "    </tr>\n",
       "    <tr>\n",
       "      <th>173212</th>\n",
       "      <td>Eunoia; Bök, Christian</td>\n",
       "      <td>1</td>\n",
       "      <td>4.0</td>\n",
       "      <td>3.804</td>\n",
       "    </tr>\n",
       "    <tr>\n",
       "      <th>173213</th>\n",
       "      <td>Kilted Yoga: Yoga Laid Bare; Wilson, Finlay</td>\n",
       "      <td>1</td>\n",
       "      <td>5.0</td>\n",
       "      <td>4.077</td>\n",
       "    </tr>\n",
       "    <tr>\n",
       "      <th>173214</th>\n",
       "      <td>Eumeswil; Jünger, Ernst</td>\n",
       "      <td>1</td>\n",
       "      <td>4.0</td>\n",
       "      <td>3.804</td>\n",
       "    </tr>\n",
       "    <tr>\n",
       "      <th>173215</th>\n",
       "      <td>Killing the Rising Sun: How America Vanquished...</td>\n",
       "      <td>1</td>\n",
       "      <td>3.0</td>\n",
       "      <td>3.532</td>\n",
       "    </tr>\n",
       "  </tbody>\n",
       "</table>\n",
       "</div>"
      ],
      "text/plain": [
       "                                                 book_tag  count  mean  \\\n",
       "129915  i$ubscribe: Gen Verismo Genesis; Flower, P.B. ...      1   3.0   \n",
       "173212                             Eunoia; Bök, Christian      1   4.0   \n",
       "173213        Kilted Yoga: Yoga Laid Bare; Wilson, Finlay      1   5.0   \n",
       "173214                            Eumeswil; Jünger, Ernst      1   4.0   \n",
       "173215  Killing the Rising Sun: How America Vanquished...      1   3.0   \n",
       "\n",
       "        bayesian_avg  \n",
       "129915         3.532  \n",
       "173212         3.804  \n",
       "173213         4.077  \n",
       "173214         3.804  \n",
       "173215         3.532  "
      ]
     },
     "execution_count": 1207,
     "metadata": {},
     "output_type": "execute_result"
    }
   ],
   "source": [
    "book_stats.sort_values('count', ascending=True).head()"
   ]
  },
  {
   "cell_type": "markdown",
   "metadata": {},
   "source": [
    "## Data Preprocessing\n",
    "\n",
    "Now that we have a fairly good idea what the data looks like, it's time to preprocess the data for modeling. In order to prep the data for the KNN model, we need to:\n",
    "\n",
    "- normalize ratings\n",
    "- filter outliers\n",
    "- reshape data\n",
    "- evaluate sparsity (and take appropriate measures)"
   ]
  },
  {
   "cell_type": "markdown",
   "metadata": {},
   "source": [
    "#### Part A: Normalizing Ratings by User"
   ]
  },
  {
   "cell_type": "markdown",
   "metadata": {},
   "source": [
    "Earlier we saw that users have vastly different average scores. One way we can account for this is by subtracting every users average rating from their book rating. This gives us a better idea how the user felt about the book by showing how it compared to their average score."
   ]
  },
  {
   "cell_type": "code",
   "execution_count": 8,
   "metadata": {},
   "outputs": [
    {
     "name": "stderr",
     "output_type": "stream",
     "text": [
      "/var/folders/8j/jqvkfjr12ns3lzbxz2m8scx00000gp/T/ipykernel_36382/1278963452.py:1: SettingWithCopyWarning: \n",
      "A value is trying to be set on a copy of a slice from a DataFrame.\n",
      "Try using .loc[row_indexer,col_indexer] = value instead\n",
      "\n",
      "See the caveats in the documentation: https://pandas.pydata.org/pandas-docs/stable/user_guide/indexing.html#returning-a-view-versus-a-copy\n",
      "  ratings['rating_norm'] = ((ratings['rating'] - ratings['average_user_rating']) /ratings['user_rating_variability']).fillna(0)\n"
     ]
    }
   ],
   "source": [
    "ratings['rating_norm'] = ((ratings['rating'] - ratings['average_user_rating']) /ratings['user_rating_variability']).fillna(0)"
   ]
  },
  {
   "cell_type": "code",
   "execution_count": 9,
   "metadata": {},
   "outputs": [
    {
     "data": {
      "image/png": "[encoded data removed]",
      "text/plain": [
       "<Figure size 640x480 with 1 Axes>"
      ]
     },
     "metadata": {},
     "output_type": "display_data"
    }
   ],
   "source": [
    "sns.histplot(ratings['rating_norm'], bins=50)\n",
    "plt.title('Distribution of Normalized Average User Rating')\n",
    "plt.show()"
   ]
  },
  {
   "cell_type": "markdown",
   "metadata": {},
   "source": [
    "### Part B: Filtering Outliers\n",
    "\n",
    "It may be beneficial to filter out users that have reviewed very few books (<5), as these users will not provide much information. Similarly, I am going to experiment with removing books with only one review, since I do not want the model to making connections solely off one data point. \n",
    "\n",
    "I am also going to remove ratings from users with very low rating variability. One of my favorite authors gives all the books she reads 5 stars which is incredibly sweet and kind, but very unhelpful for our purposes."
   ]
  },
  {
   "cell_type": "code",
   "execution_count": 10,
   "metadata": {},
   "outputs": [
    {
     "name": "stdout",
     "output_type": "stream",
     "text": [
      "After filtering, 74.02% of ratings are remaining.\n"
     ]
    }
   ],
   "source": [
    "# Removing books with only one rating\n",
    "ratings_filtered = ratings[ratings.book_popularity_rated > 1]\n",
    "\n",
    "# Selecting only users that have read more than 5 books\n",
    "ratings_filtered = ratings_filtered[ratings_filtered['user_books_rated'] > 5]\n",
    "\n",
    "# Removing users that give every book the same rating\n",
    "ratings_filtered = ratings_filtered[ratings_filtered['user_rating_variability'] > .001]\n",
    "\n",
    "percent_remaining = round(len(ratings_filtered) / len(ratings) * 100, 2)\n",
    "\n",
    "print(f\"After filtering, {percent_remaining}% of ratings are remaining.\")"
   ]
  },
  {
   "cell_type": "markdown",
   "metadata": {},
   "source": [
    "### Part C: Reshaping Data\n",
    "\n",
    "The function below generates a sparse matrix with rows representing each user and columns representing each book. Most indices of the matrix will be empty since most books have been read only once or twice, but wherever a user has read a book, the rating will appear in the matrix."
   ]
  },
  {
   "cell_type": "code",
   "execution_count": 11,
   "metadata": {},
   "outputs": [],
   "source": [
    "def generate_sparse_matrix(df, user_id, book_id, rating):\n",
    "    \"\"\"\n",
    "    Generates a sparse matrix from ratings dataframe.\n",
    "    \n",
    "    Arguments:\n",
    "        df: pandas dataframe\n",
    "        user_id: column name of user id\n",
    "        book_id: column name of book id\n",
    "        rating: column name of rating\n",
    "    \n",
    "    Returns:\n",
    "        R: sparse ratings matrix\n",
    "        user_mapper: dict that maps user id's to user indices\n",
    "        user_inv_mapper: dict that maps user indices to user id's\n",
    "        book_mapper: dict that maps book id's to book indices\n",
    "        book_inv_mapper: dict that maps book indices to book id's\n",
    "    \"\"\"\n",
    "    M = df[user_id].nunique()\n",
    "    N = df[book_id].nunique()\n",
    "\n",
    "    user_mapper = dict(zip(np.unique(df[user_id]), list(range(M))))\n",
    "    book_mapper = dict(zip(np.unique(df[book_id]), list(range(N))))\n",
    "    \n",
    "    user_inv_mapper = dict(zip(list(range(M)), np.unique(df[user_id])))\n",
    "    book_inv_mapper = dict(zip(list(range(N)), np.unique(df[book_id])))\n",
    "    \n",
    "    user_index = [user_mapper[i] for i in df[user_id]]\n",
    "    item_index = [book_mapper[i] for i in df[book_id]]\n",
    "\n",
    "    R = csr_matrix((df[rating], (user_index,item_index)), shape=(M,N))\n",
    "    \n",
    "    return R, user_mapper, book_mapper, user_inv_mapper, book_inv_mapper\n"
   ]
  },
  {
   "cell_type": "markdown",
   "metadata": {},
   "source": [
    "In the section below, 4 reshaped matrices are generated to test out for modeling purposes. The first two contain all of the data, with one using the normalized rating and the other using the unmodified rating. The second also has one with the regular rating and one with the normalized rating, however both are made with only the filtered data."
   ]
  },
  {
   "cell_type": "code",
   "execution_count": 12,
   "metadata": {},
   "outputs": [],
   "source": [
    "# Using all ratings to create X, using both rating and rating_norm for comparison\n",
    "X, user_mapper, book_mapper, user_inv_mapper, book_inv_mapper = generate_sparse_matrix(ratings, user_id='user_id', book_id='book_tag', rating='rating')\n",
    "Xn, user_mapper, book_mapper, user_inv_mapper, book_inv_mapper = generate_sparse_matrix(ratings, user_id='user_id', book_id='book_tag', rating='rating_norm')\n",
    "\n",
    "# Using filtered ratings to create X, using both rating and rating_norm for comparison\n",
    "Xf, user_mapper_f, book_mapper_f, user_inv_mapper_f, book_inv_mapper_f = generate_sparse_matrix(ratings_filtered, user_id='user_id', book_id='book_tag', rating='rating')\n",
    "Xfn, user_mapper_f, book_mapper_f, user_inv_mapper_f, book_inv_mapper_f = generate_sparse_matrix(ratings_filtered, user_id='user_id', book_id='book_tag', rating='rating_norm')"
   ]
  },
  {
   "cell_type": "code",
   "execution_count": 13,
   "metadata": {},
   "outputs": [
    {
     "name": "stdout",
     "output_type": "stream",
     "text": [
      "(1828, 259831)\n",
      "(1828, 259831)\n",
      "(1773, 79730)\n",
      "(1773, 79730)\n"
     ]
    }
   ],
   "source": [
    "print(X.shape)\n",
    "print(Xn.shape)\n",
    "print(Xf.shape)\n",
    "print(Xfn.shape)"
   ]
  },
  {
   "cell_type": "markdown",
   "metadata": {},
   "source": [
    "Since the first two matrices both use all the data, they have the same shape: 1,828 rows representing the 1,828 users and 259,831 rows to represent each book.\n",
    "\n",
    "The last two matrices are smaller to represent the subset of users with more than 5 book reviews and books with more than one review. In total, we get 1,773 users reviewing 79,730 books."
   ]
  },
  {
   "cell_type": "markdown",
   "metadata": {},
   "source": [
    "### Part D: Evaluating matrix density\n",
    "\n",
    "In order for KNN to run properly, it usually requires a certain level of density. A general rule of thumb is you want to have a density of at least 10%. Below, the density levels for all the matrices are calculated and reported."
   ]
  },
  {
   "cell_type": "code",
   "execution_count": 14,
   "metadata": {},
   "outputs": [],
   "source": [
    "\n",
    "def matrix_density(mat, name):\n",
    "    '''\n",
    "    Prints the matrix density of the matrix.\n",
    "\n",
    "    Parameters:\n",
    "        mat: a matrix\n",
    "        name: a name for the matrix\n",
    "    '''\n",
    "    n_total = mat.shape[0]*mat.shape[1]\n",
    "    n_ratings = mat.nnz\n",
    "    density = n_ratings/n_total\n",
    "    print(f\"The {name} has a density of: {round(density * 100, 2)}%\")"
   ]
  },
  {
   "cell_type": "code",
   "execution_count": 15,
   "metadata": {},
   "outputs": [
    {
     "name": "stdout",
     "output_type": "stream",
     "text": [
      "The All Ratings Matrix has a density of: 0.15%\n",
      "The All Normalized Ratings Matrix has a density of: 0.15%\n",
      "The Filtered Ratings Matrix has a density of: 0.36%\n",
      "The Filtered Normalized Ratings Matrix has a density of: 0.36%\n"
     ]
    }
   ],
   "source": [
    "names = ['All Ratings Matrix', 'All Normalized Ratings Matrix', 'Filtered Ratings Matrix', 'Filtered Normalized Ratings Matrix']\n",
    "\n",
    "matrices = dict(zip(names, [X, Xn, Xf, Xfn]))\n",
    "\n",
    "for a, b in matrices.items():\n",
    "    matrix_density(b, a)"
   ]
  },
  {
   "cell_type": "markdown",
   "metadata": {},
   "source": [
    "The first two matrices have the same density of 0.15%, and the last two are over twice as dense with a 0.36% density. Both matrices are very far from the suggested 10% density.\n",
    "\n",
    "The best approach to address this is likely to increase density by:\n",
    "- filtering further (e.g. dropping books fewer than 5 ratings)\n",
    "- using the user mean to fill empty ratings for books users have read\n",
    "- predict user ratings via dimensionality reduction methods such as PCA or SVD\n",
    "\n",
    "I spent a very long time trying to use SVD to accomplish this, and have not succeeded yet. The best RMSE score was around 3.1, which is pretty terrible. I have not given up just yet, but I have decided that, for the purposes of this project, we will focus solely on the first two approaches. \n",
    "\n",
    "Since we have already tried some filtering, let's start by filling missing ratings with user average reviews.\n",
    "\n",
    "It is very convientient that we have the 'adjusted_rating' which fills all missing ratings with the user's average rating. Let's build a matrix with that."
   ]
  },
  {
   "cell_type": "code",
   "execution_count": 16,
   "metadata": {},
   "outputs": [
    {
     "name": "stdout",
     "output_type": "stream",
     "text": [
      "After filtering, 30.37% of ratings are remaining.\n",
      "After filtering, there are 1586 users remaining.\n",
      "After filtering, there are 4494 books remaining.\n"
     ]
    }
   ],
   "source": [
    "# Removing books with only one rating\n",
    "filled_and_filtered = reads[reads.book_popularity_read > 20]\n",
    "\n",
    "# Selecting only users that have read more than 5 books\n",
    "filled_and_filtered = filled_and_filtered[filled_and_filtered['user_books_read'] > 30]\n",
    "\n",
    "# Removing users that give every book the same rating\n",
    "filled_and_filtered = filled_and_filtered[filled_and_filtered['user_rating_variability'] > .001]\n",
    "\n",
    "percent_remaining = round(len(filled_and_filtered) / len(reads) * 100, 2)\n",
    "\n",
    "n_filtered_books = filled_and_filtered['book_tag'].nunique()\n",
    "n_filtered_users = filled_and_filtered['user_id'].nunique()\n",
    "\n",
    "print(f\"After filtering, {percent_remaining}% of ratings are remaining.\")\n",
    "print(f\"After filtering, there are {n_filtered_users} users remaining.\")\n",
    "print(f\"After filtering, there are {n_filtered_books} books remaining.\")"
   ]
  },
  {
   "cell_type": "code",
   "execution_count": 17,
   "metadata": {},
   "outputs": [],
   "source": [
    "\n",
    "Xf_adjusted, user_mapper_f_adf, book_mapper_f_adj, user_inv_mapper_f_adj, book_inv_mapper_f_adj = generate_sparse_matrix(filled_and_filtered, user_id='user_id', book_id='book_tag', rating='adjusted_rating')\n",
    "X_adjusted, user_mapper_adj, book_mapper_adj, user_inv_mapper_adj, book_inv_mapper_adj = generate_sparse_matrix(reads.dropna(subset='adjusted_rating'), user_id='user_id', book_id='book_tag', rating='adjusted_rating')"
   ]
  },
  {
   "cell_type": "code",
   "execution_count": 18,
   "metadata": {},
   "outputs": [
    {
     "name": "stdout",
     "output_type": "stream",
     "text": [
      "The Filtered Adjusted Matrix has a density of: 3.21%\n",
      "The Adjusted Matrix has a density of: 0.15%\n"
     ]
    }
   ],
   "source": [
    "matrix_density(Xf_adjusted, 'Filtered Adjusted Matrix')\n",
    "matrix_density(X_adjusted, 'Adjusted Matrix')"
   ]
  },
  {
   "cell_type": "markdown",
   "metadata": {},
   "source": [
    "The density is still not great, but it is at least slightly better. Let's see how the KNN algorithm performs on these datasets."
   ]
  },
  {
   "cell_type": "markdown",
   "metadata": {},
   "source": [
    "## Item-item Recommendations with k-Nearest Neighbors"
   ]
  },
  {
   "cell_type": "markdown",
   "metadata": {},
   "source": [
    "We are going to find the $k$ books that have the most similar user engagement vectors for book $i$."
   ]
  },
  {
   "cell_type": "code",
   "execution_count": 19,
   "metadata": {},
   "outputs": [],
   "source": [
    "from sklearn.neighbors import NearestNeighbors\n",
    "\n",
    "def find_similar_books(book_id, X, book_mapper, book_inv_mapper, k, metric='cosine'):\n",
    "    \"\"\"\n",
    "    Finds k-nearest neighbours for a given book id.\n",
    "    \n",
    "    Args:\n",
    "        book_id: id of the book of interest\n",
    "        X: user-item utility matrix\n",
    "        k: number of similar movies to retrieve\n",
    "        metric: distance metric for kNN calculations\n",
    "    \n",
    "    Output: returns list of k similar book ID's\n",
    "    \"\"\"\n",
    "    X = X.T\n",
    "    neighbour_ids = []\n",
    "    \n",
    "    book_ind = book_mapper[book_id]\n",
    "    book_vec = X[book_ind]\n",
    "    if isinstance(book_vec, (np.ndarray)):\n",
    "        book_vec = book_vec.reshape(1,-1)\n",
    "    # use k+1 since kNN output includes the movieId of interest\n",
    "    kNN = NearestNeighbors(n_neighbors=k+1, algorithm=\"brute\", metric=metric)\n",
    "    kNN.fit(X)\n",
    "    neighbour = kNN.kneighbors(book_vec, return_distance=False)\n",
    "    for i in range(0,k):\n",
    "        n = neighbour.item(i)\n",
    "        neighbour_ids.append(book_inv_mapper[n])\n",
    "    neighbour_ids.pop(0)\n",
    "    return neighbour_ids"
   ]
  },
  {
   "cell_type": "markdown",
   "metadata": {},
   "source": [
    "## Compare Recommenders"
   ]
  },
  {
   "cell_type": "markdown",
   "metadata": {},
   "source": [
    "In order to determine which recommender does the best job of recommending similar books, I am going to compare the recommendations each model outputs in two ways:\n",
    "\n",
    "- First, I will be using genre data that I scraped from Goodreads. My theory is that a good recommendation system will tend to suggest books that have similar user-generated tags. The genre data can help create a difference score, indicating which recommendation systems tend to suggest books with different genres.\n",
    "\n",
    "- Second, we will look at the recommendations for a few books I know quite well to see which model gives recommendations that make the most sense."
   ]
  },
  {
   "cell_type": "markdown",
   "metadata": {},
   "source": [
    "#### Recommendation Comparison function\n",
    "\n",
    "In the chunk below, I am making a function that takes a book and generates recommendations with each function. I will use this later on to benchmark each model."
   ]
  },
  {
   "cell_type": "code",
   "execution_count": 111,
   "metadata": {},
   "outputs": [],
   "source": [
    "# Compare recommenders\n",
    "\n",
    "def compare_recommenders(book, n):\n",
    "    '''\n",
    "    Returns a dataframe of n recommendations (rows) from each model (col)\n",
    "\n",
    "    Parameters:\n",
    "    book - the book to base recommendations on\n",
    "    n - the number of recommendations to provide\n",
    "\n",
    "    '''\n",
    "\n",
    "    recs = []\n",
    "\n",
    "    recs.append({'all_ratings': find_similar_books(book, X, book_mapper, book_inv_mapper, k=n)})\n",
    "    recs.append({'all_ratings_normalized': find_similar_books(book, Xn, book_mapper, book_inv_mapper, k=n)})\n",
    "\n",
    "    recs.append({'filtered_ratings': find_similar_books(book, Xf, book_mapper_f, book_inv_mapper_f, k=n)})\n",
    "    recs.append({'filtered_ratings_normalized': find_similar_books(book, Xfn, book_mapper_f, book_inv_mapper_f, k=n)})\n",
    "\n",
    "    recs.append({'ratings_filled': find_similar_books(book, X_adjusted, book_mapper_adj, book_inv_mapper_adj, k=n)})\n",
    "    recs.append({'filtered_ratings_filled': find_similar_books(book, Xf_adjusted, book_mapper_f_adj, book_inv_mapper_f_adj, k=n)})\n",
    "\n",
    "    recs_df = pd.DataFrame()\n",
    "\n",
    "    for model in recs:\n",
    "        recs_df[list(model.keys())[0]] = list(model.values())[0]\n",
    "\n",
    "    recs_df.columns = ['Unfiltered Ratings', 'Unfiltered Normalized Ratings', 'Filtered Ratings', 'Filtered Normalized Ratings', 'Filled Ratings', 'Filtered & Filled Ratings']\n",
    "\n",
    "    return recs_df"
   ]
  },
  {
   "cell_type": "markdown",
   "metadata": {},
   "source": [
    "#### Loading in Genre Data\n",
    "\n",
    "As mentioned above, I am going to use book genre data to assess which recommender does the best job suggesting books. The top 6 genre tags for roughly 8.5k books were scraped from Goodreads.\n",
    "\n",
    "Genres are user-generated tags given to each book, allowing books to be classified and added to lists. For example, *Pride and Prejudice* is tagged as: fiction, \"historical fiction\", \"historical\", \"literature\", \"audiobook\", and \"novels\". My favorite book *My Brilliant Friend* is tagged as \"fiction\", \"historical fiction\", \"italy\", \"literary fiction\", \"italian literature\", and \"contemporary\". Some books have hundreds of tags, but only the top 6 for each book were collected.\n",
    "\n",
    "In a previous project, the 25 most common genres were calculated and, for each of these genres, a column was added to the genre data indiciating if the book fell into that genre. For example, the most common genre is \"Fiction\" and for each book there is a column titled \"is_fiction\" that tracks whether the book is fiction or not.\n",
    "\n",
    "Because only 6 genres for each book were tracked and the genres are user-generated, there are likely some missing genres for many of the books. In some cases this cannot be fixed, but further processing is done to ensure that each book's genre data is as accurate as possible. For example, if a book is tagged as 'mystery thriller', the code below also tags it as a 'mystery' and a 'thriller' independently."
   ]
  },
  {
   "cell_type": "code",
   "execution_count": 609,
   "metadata": {},
   "outputs": [],
   "source": [
    "# pulling in genre data\n",
    "genres = pd.read_csv('data/genre_data.csv', index_col=False).drop_duplicates('link')\n",
    "\n",
    "# Generating book ID from goodreads link\n",
    "genres['book_id'] = genres['link'].str.replace('https://www.goodreads.com', '')\n",
    "genres['book_id'] = genres['book_id'].str.replace('/book/show', '')\n",
    "genres['book_id'] = genres['book_id'].apply(lambda x: re.sub(r'[^0-9.]', '', x))\n",
    "genres['book_id'] = genres['book_id'].str.replace('.', '')\n",
    "\n",
    "# Adding book tags to genre data\n",
    "genres = genres.merge(reads[['book_tag', 'book_id', 'book_popularity_read']].drop_duplicates(['book_tag', 'book_id']),\n",
    " on = 'book_id', how = 'left', validate='1:m').drop_duplicates('book_tag')\n",
    "\n",
    "# if all_genres contains literature: is literature, is novel\n",
    "genres.loc[(genres['all_genres'].str.contains('literature', case=False, na=False)), ['is_literature', 'is_novel']] = True\n",
    "\n",
    "# if all_genres contains literary: is literature, is literary\n",
    "genres.loc[(genres['all_genres'].str.contains('literary', case=False, na=False)), ['is_literature', 'is_literary']] = True\n",
    "\n",
    "# if all_genres contains romantic: is literature, is romance\n",
    "genres.loc[(genres['all_genres'].str.contains('romantic', case=False, na=False)), ['is_romance']] = True\n",
    "\n",
    "# if all_genres contains queer: is_lgbt\n",
    "genres.loc[(genres['all_genres'].str.contains('queer', case=False, na=False)), ['is_lgbt']] = True\n",
    "\n",
    "# if literary fiction then literary: is literary, is fiction\n",
    "genres.loc[(genres['is_literary fiction']), ['is_literary', 'is_fiction']] = True\n",
    "\n",
    "# if contemporary romance: is romance, is contemporary\n",
    "genres.loc[(genres['is_contemporary romance']), ['is_contemporary', 'is_romance', 'is_fiction']] = True\n",
    "\n",
    "# if is mystery thriller: is mystery, is thriller\n",
    "genres.loc[(genres['is_mystery thriller']), ['is_mystery', 'is_thriller', 'is_fiction']] = True\n",
    "\n",
    "# if historical fiction then: is historical, is fiction\n",
    "genres.loc[(genres['is_historical fiction']), ['is_historical', 'is_fiction']] = True\n",
    "\n",
    "# if literature -> fiction\n",
    "genres.loc[(genres['is_literature']), ['is_literary', 'is_fiction', 'is_classic']] = True\n",
    "\n",
    "# if mystery -> fiction\n",
    "genres.loc[(genres['is_mystery']), ['is_suspense', 'is_fiction']] = True\n",
    "\n",
    "# if novels -> fiction\n",
    "genres.loc[(genres['is_novels']), ['is_fiction']] = True\n",
    "\n",
    "# if science fiction -> fiction\n",
    "genres.loc[(genres['is_science fiction']), ['is_fiction']] = True\n",
    "\n",
    "# if is horror -> thriller\n",
    "genres.loc[(genres['is_horror']), ['is_thriller']] = True\n",
    "\n",
    "# if crime -> mystery (probably)\n",
    "genres.loc[(genres['is_crime']), ['is_thriller', 'is_mystery']] = True\n",
    "\n",
    "# subsetting relevent genres (leaving out audiobook because that edition specific)\n",
    "genre_classification_data = genres[['book_tag','is_fiction', 'is_contemporary', 'is_fantasy',\n",
    "       'is_mystery', 'is_historical fiction', 'is_romance', 'is_thriller',\n",
    "       'is_literary fiction', 'is_young adult', 'is_classics',\n",
    "       'is_mystery thriller', 'is_adult', 'is_historical', 'is_horror',\n",
    "       'is_science fiction', 'is_nonfiction', 'is_literature', 'is_novels',\n",
    "       'is_lgbt', 'is_suspense', 'is_crime', 'is_memoir',\n",
    "       'is_contemporary romance']]\n"
   ]
  },
  {
   "cell_type": "markdown",
   "metadata": {},
   "source": [
    "Now I am going to make a function that computes a difference between the genres of a given book and a list of recommended books."
   ]
  },
  {
   "cell_type": "code",
   "execution_count": 610,
   "metadata": {},
   "outputs": [],
   "source": [
    "def genre_match_score(book, rec_list):\n",
    "    '''\n",
    "    Compares genre info of book to recommendations to the associated book\n",
    "    \n",
    "    Returns a tuple with the number of books for which genre info exists,\n",
    "    as well as the mean score of agreement (i.e. the mean of differences in genre\n",
    "    between the book and the recommended books.)\n",
    "    '''\n",
    "\n",
    "    # getting book info\n",
    "    book_vec = book_genre_data.loc[(book_genre_data['book_tag'] == book), :].drop(columns=['book_tag'])\n",
    "    n_matches = 0\n",
    "    diff_sum = 0\n",
    "\n",
    "    # checking if the book has genre info\n",
    "    if len(book_vec) > 0:\n",
    "        # going through each recommended book\n",
    "        for book in rec_list:\n",
    "            # getting genre info for book\n",
    "            comp_vec = book_genre_data.loc[book_genre_data['book_tag'] == book, :].drop(columns=['book_tag'])\n",
    "            # if book has genre info\n",
    "            if len(comp_vec > 0):\n",
    "                n_matches += 1\n",
    "                diff = (book_vec.squeeze() != comp_vec.squeeze()).sum()\n",
    "                diff_sum += diff\n",
    "            else:\n",
    "                pass\n",
    "        if n_matches > 0:\n",
    "            return tuple([n_matches, round(diff_sum / n_matches, 2)])\n",
    "        else:\n",
    "            return tuple([0,-2])\n",
    "\n",
    "    else:\n",
    "        return tuple([0, -1])"
   ]
  },
  {
   "cell_type": "markdown",
   "metadata": {},
   "source": [
    "Below is an example of the score difference between two different novels"
   ]
  },
  {
   "cell_type": "code",
   "execution_count": 611,
   "metadata": {},
   "outputs": [
    {
     "data": {
      "text/plain": [
       "(2, np.float64(4.0))"
      ]
     },
     "execution_count": 611,
     "metadata": {},
     "output_type": "execute_result"
    }
   ],
   "source": [
    "genre_match_score('My Brilliant Friend; Ferrante, Elena', ['Persuasion; Austen, Jane', 'The Bell Jar; Plath, Sylvia'])"
   ]
  },
  {
   "cell_type": "markdown",
   "metadata": {},
   "source": [
    "These novels are similar; they are literary fiction and historical accounts of female experiences. They have a similarity score of 4, which is relatively low. Now let's take a look at a few books that are very different from *My Brilliant Friend*: two fantasy books: *Babel* and *A Court of Thorns and Roses*."
   ]
  },
  {
   "cell_type": "code",
   "execution_count": 612,
   "metadata": {},
   "outputs": [
    {
     "data": {
      "text/plain": [
       "(2, np.float64(8.0))"
      ]
     },
     "execution_count": 612,
     "metadata": {},
     "output_type": "execute_result"
    }
   ],
   "source": [
    "genre_match_score('My Brilliant Friend; Ferrante, Elena', ['Babel; Kuang, R.F.', 'A Court of Thorns and Roses; Maas, Sarah J.'])"
   ]
  },
  {
   "cell_type": "markdown",
   "metadata": {},
   "source": [
    "As expected, the two books that are less similar have a much higher score of 8--double that of the similar books. \n",
    "\n",
    "Of course, there is more to a book than its Goodreads tags which is why the primary way of assessing similarity is through user ratings, but this will serve as helpful corroboration. In the following section, we will assess model performance based on which model is more likely to suggest books with more genre differences. "
   ]
  },
  {
   "cell_type": "code",
   "execution_count": 613,
   "metadata": {},
   "outputs": [],
   "source": [
    "books_to_check = genres.sort_values('book_popularity_read', ascending=False).head(1500)['book_tag']"
   ]
  },
  {
   "cell_type": "code",
   "execution_count": 621,
   "metadata": {},
   "outputs": [],
   "source": [
    "models = ['Unfiltered Ratings', 'Unfiltered Normalized Ratings', 'Filtered Ratings', 'Filtered Normalized Ratings', 'Filled Ratings', 'Filtered & Filled Ratings']\n",
    "\n",
    "score_df = pd.DataFrame(columns = ['Book', 'Unfiltered Ratings', 'Unfiltered Normalized Ratings', 'Filtered Ratings', 'Filtered Normalized Ratings', 'Filled Ratings', 'Filtered & Filled Ratings'])\n",
    "\n",
    "n_match_df =pd.DataFrame(columns = ['Book', 'Unfiltered Ratings', 'Unfiltered Normalized Ratings', 'Filtered Ratings', 'Filtered Normalized Ratings', 'Filled Ratings', 'Filtered & Filled Ratings'])\n",
    "\n",
    "# iterating through books \n",
    "for book in books_to_check:\n",
    "    # get df of recs from each model\n",
    "    recs = compare_recommenders(book, 20)\n",
    "    scores_for_book = [book]\n",
    "    matches_for_book = [book]\n",
    "    # get genre_match_score for each model\n",
    "    for model in models:\n",
    "        n_matches, mean_diff = genre_match_score(book, recs[model])\n",
    "        scores_for_book.append(mean_diff)\n",
    "        matches_for_book.append(n_matches)\n",
    "    score_df.loc[len(score_df)] = scores_for_book\n",
    "    n_match_df.loc[len(score_df)] = matches_for_book\n"
   ]
  },
  {
   "cell_type": "code",
   "execution_count": 623,
   "metadata": {},
   "outputs": [
    {
     "name": "stdout",
     "output_type": "stream",
     "text": [
      "570 books have matches for all models\n"
     ]
    },
    {
     "data": {
      "text/plain": [
       "Unfiltered Ratings               4.336018\n",
       "Unfiltered Normalized Ratings    5.009947\n",
       "Filtered Ratings                 4.350789\n",
       "Filtered Normalized Ratings      5.179719\n",
       "Filled Ratings                   4.339579\n",
       "Filtered & Filled Ratings        4.512088\n",
       "dtype: float64"
      ]
     },
     "execution_count": 623,
     "metadata": {},
     "output_type": "execute_result"
    }
   ],
   "source": [
    "scores_complete = score_df.drop('Book', axis=1)\n",
    "\n",
    "scores_complete = scores_complete[(scores_complete > -1).all(axis=1)]\n",
    "\n",
    "print(f\"{len(scores_complete)} books have matches for all models\")\n",
    "\n",
    "average_model_scores = scores_complete.agg('mean')\n",
    "average_model_scores"
   ]
  },
  {
   "cell_type": "markdown",
   "metadata": {},
   "source": [
    "Based on the scores above, the model that tended to have the fewest genre deviations is Filled Ratings. Now let's take a look at the recommendations for a few books."
   ]
  },
  {
   "cell_type": "code",
   "execution_count": 584,
   "metadata": {},
   "outputs": [
    {
     "data": {
      "text/html": [
       "<div>\n",
       "<style scoped>\n",
       "    .dataframe tbody tr th:only-of-type {\n",
       "        vertical-align: middle;\n",
       "    }\n",
       "\n",
       "    .dataframe tbody tr th {\n",
       "        vertical-align: top;\n",
       "    }\n",
       "\n",
       "    .dataframe thead th {\n",
       "        text-align: right;\n",
       "    }\n",
       "</style>\n",
       "<table border=\"1\" class=\"dataframe\">\n",
       "  <thead>\n",
       "    <tr style=\"text-align: right;\">\n",
       "      <th></th>\n",
       "      <th>Unfiltered Ratings</th>\n",
       "      <th>Unfiltered Normalized Ratings</th>\n",
       "      <th>Filtered Ratings</th>\n",
       "      <th>Filtered Normalized Ratings</th>\n",
       "      <th>Filled Ratings</th>\n",
       "      <th>Filtered &amp; Filled Ratings</th>\n",
       "    </tr>\n",
       "  </thead>\n",
       "  <tbody>\n",
       "    <tr>\n",
       "      <th>0</th>\n",
       "      <td>Sense and Sensibility; Austen, Jane</td>\n",
       "      <td>Sense and Sensibility; Austen, Jane</td>\n",
       "      <td>Sense and Sensibility; Austen, Jane</td>\n",
       "      <td>Sense and Sensibility; Austen, Jane</td>\n",
       "      <td>Sense and Sensibility; Austen, Jane</td>\n",
       "      <td>Sense and Sensibility; Austen, Jane</td>\n",
       "    </tr>\n",
       "    <tr>\n",
       "      <th>1</th>\n",
       "      <td>Jane Eyre; Brontë, Charlotte</td>\n",
       "      <td>To Kill a Mockingbird; Lee, Harper</td>\n",
       "      <td>Jane Eyre; Brontë, Charlotte</td>\n",
       "      <td>To Kill a Mockingbird; Lee, Harper</td>\n",
       "      <td>Jane Eyre; Brontë, Charlotte</td>\n",
       "      <td>Jane Eyre; Brontë, Charlotte</td>\n",
       "    </tr>\n",
       "    <tr>\n",
       "      <th>2</th>\n",
       "      <td>Wuthering Heights; Brontë, Emily</td>\n",
       "      <td>Emma; Austen, Jane</td>\n",
       "      <td>Wuthering Heights; Brontë, Emily</td>\n",
       "      <td>Emma; Austen, Jane</td>\n",
       "      <td>Wuthering Heights; Brontë, Emily</td>\n",
       "      <td>Wuthering Heights; Brontë, Emily</td>\n",
       "    </tr>\n",
       "    <tr>\n",
       "      <th>3</th>\n",
       "      <td>To Kill a Mockingbird; Lee, Harper</td>\n",
       "      <td>Persuasion; Austen, Jane</td>\n",
       "      <td>To Kill a Mockingbird; Lee, Harper</td>\n",
       "      <td>Persuasion; Austen, Jane</td>\n",
       "      <td>To Kill a Mockingbird; Lee, Harper</td>\n",
       "      <td>To Kill a Mockingbird; Lee, Harper</td>\n",
       "    </tr>\n",
       "    <tr>\n",
       "      <th>4</th>\n",
       "      <td>Emma; Austen, Jane</td>\n",
       "      <td>Jane Eyre; Brontë, Charlotte</td>\n",
       "      <td>Emma; Austen, Jane</td>\n",
       "      <td>Jane Eyre; Brontë, Charlotte</td>\n",
       "      <td>Emma; Austen, Jane</td>\n",
       "      <td>Emma; Austen, Jane</td>\n",
       "    </tr>\n",
       "    <tr>\n",
       "      <th>5</th>\n",
       "      <td>The Great Gatsby; Fitzgerald, F. Scott</td>\n",
       "      <td>Anne of Green Gables; Montgomery, L.M.</td>\n",
       "      <td>The Great Gatsby; Fitzgerald, F. Scott</td>\n",
       "      <td>Anne of Green Gables; Montgomery, L.M.</td>\n",
       "      <td>The Great Gatsby; Fitzgerald, F. Scott</td>\n",
       "      <td>The Great Gatsby; Fitzgerald, F. Scott</td>\n",
       "    </tr>\n",
       "    <tr>\n",
       "      <th>6</th>\n",
       "      <td>Persuasion; Austen, Jane</td>\n",
       "      <td>One Piece, Volume 15: Straight Ahead!; Oda, Ei...</td>\n",
       "      <td>Persuasion; Austen, Jane</td>\n",
       "      <td>One Piece, Volume 15: Straight Ahead!; Oda, Ei...</td>\n",
       "      <td>Persuasion; Austen, Jane</td>\n",
       "      <td>Persuasion; Austen, Jane</td>\n",
       "    </tr>\n",
       "    <tr>\n",
       "      <th>7</th>\n",
       "      <td>Little Women; Alcott, Louisa May</td>\n",
       "      <td>The Importance of Being Earnest; Wilde, Oscar</td>\n",
       "      <td>Little Women; Alcott, Louisa May</td>\n",
       "      <td>The Importance of Being Earnest; Wilde, Oscar</td>\n",
       "      <td>Little Women; Alcott, Louisa May</td>\n",
       "      <td>Little Women; Alcott, Louisa May</td>\n",
       "    </tr>\n",
       "    <tr>\n",
       "      <th>8</th>\n",
       "      <td>The Hunger Games; Collins, Suzanne</td>\n",
       "      <td>East of Eden; Steinbeck, John</td>\n",
       "      <td>The Hunger Games; Collins, Suzanne</td>\n",
       "      <td>East of Eden; Steinbeck, John</td>\n",
       "      <td>The Hunger Games; Collins, Suzanne</td>\n",
       "      <td>The Hunger Games; Collins, Suzanne</td>\n",
       "    </tr>\n",
       "    <tr>\n",
       "      <th>9</th>\n",
       "      <td>The Book Thief; Zusak, Markus</td>\n",
       "      <td>Harry Potter and the Prisoner of Azkaban; Rowl...</td>\n",
       "      <td>The Book Thief; Zusak, Markus</td>\n",
       "      <td>Harry Potter and the Prisoner of Azkaban; Rowl...</td>\n",
       "      <td>Animal Farm; Orwell, George</td>\n",
       "      <td>Animal Farm; Orwell, George</td>\n",
       "    </tr>\n",
       "  </tbody>\n",
       "</table>\n",
       "</div>"
      ],
      "text/plain": [
       "                       Unfiltered Ratings  \\\n",
       "0     Sense and Sensibility; Austen, Jane   \n",
       "1            Jane Eyre; Brontë, Charlotte   \n",
       "2        Wuthering Heights; Brontë, Emily   \n",
       "3      To Kill a Mockingbird; Lee, Harper   \n",
       "4                      Emma; Austen, Jane   \n",
       "5  The Great Gatsby; Fitzgerald, F. Scott   \n",
       "6                Persuasion; Austen, Jane   \n",
       "7        Little Women; Alcott, Louisa May   \n",
       "8      The Hunger Games; Collins, Suzanne   \n",
       "9           The Book Thief; Zusak, Markus   \n",
       "\n",
       "                       Unfiltered Normalized Ratings  \\\n",
       "0                Sense and Sensibility; Austen, Jane   \n",
       "1                 To Kill a Mockingbird; Lee, Harper   \n",
       "2                                 Emma; Austen, Jane   \n",
       "3                           Persuasion; Austen, Jane   \n",
       "4                       Jane Eyre; Brontë, Charlotte   \n",
       "5             Anne of Green Gables; Montgomery, L.M.   \n",
       "6  One Piece, Volume 15: Straight Ahead!; Oda, Ei...   \n",
       "7      The Importance of Being Earnest; Wilde, Oscar   \n",
       "8                      East of Eden; Steinbeck, John   \n",
       "9  Harry Potter and the Prisoner of Azkaban; Rowl...   \n",
       "\n",
       "                         Filtered Ratings  \\\n",
       "0     Sense and Sensibility; Austen, Jane   \n",
       "1            Jane Eyre; Brontë, Charlotte   \n",
       "2        Wuthering Heights; Brontë, Emily   \n",
       "3      To Kill a Mockingbird; Lee, Harper   \n",
       "4                      Emma; Austen, Jane   \n",
       "5  The Great Gatsby; Fitzgerald, F. Scott   \n",
       "6                Persuasion; Austen, Jane   \n",
       "7        Little Women; Alcott, Louisa May   \n",
       "8      The Hunger Games; Collins, Suzanne   \n",
       "9           The Book Thief; Zusak, Markus   \n",
       "\n",
       "                         Filtered Normalized Ratings  \\\n",
       "0                Sense and Sensibility; Austen, Jane   \n",
       "1                 To Kill a Mockingbird; Lee, Harper   \n",
       "2                                 Emma; Austen, Jane   \n",
       "3                           Persuasion; Austen, Jane   \n",
       "4                       Jane Eyre; Brontë, Charlotte   \n",
       "5             Anne of Green Gables; Montgomery, L.M.   \n",
       "6  One Piece, Volume 15: Straight Ahead!; Oda, Ei...   \n",
       "7      The Importance of Being Earnest; Wilde, Oscar   \n",
       "8                      East of Eden; Steinbeck, John   \n",
       "9  Harry Potter and the Prisoner of Azkaban; Rowl...   \n",
       "\n",
       "                           Filled Ratings  \\\n",
       "0     Sense and Sensibility; Austen, Jane   \n",
       "1            Jane Eyre; Brontë, Charlotte   \n",
       "2        Wuthering Heights; Brontë, Emily   \n",
       "3      To Kill a Mockingbird; Lee, Harper   \n",
       "4                      Emma; Austen, Jane   \n",
       "5  The Great Gatsby; Fitzgerald, F. Scott   \n",
       "6                Persuasion; Austen, Jane   \n",
       "7        Little Women; Alcott, Louisa May   \n",
       "8      The Hunger Games; Collins, Suzanne   \n",
       "9             Animal Farm; Orwell, George   \n",
       "\n",
       "                Filtered & Filled Ratings  \n",
       "0     Sense and Sensibility; Austen, Jane  \n",
       "1            Jane Eyre; Brontë, Charlotte  \n",
       "2        Wuthering Heights; Brontë, Emily  \n",
       "3      To Kill a Mockingbird; Lee, Harper  \n",
       "4                      Emma; Austen, Jane  \n",
       "5  The Great Gatsby; Fitzgerald, F. Scott  \n",
       "6                Persuasion; Austen, Jane  \n",
       "7        Little Women; Alcott, Louisa May  \n",
       "8      The Hunger Games; Collins, Suzanne  \n",
       "9             Animal Farm; Orwell, George  "
      ]
     },
     "execution_count": 584,
     "metadata": {},
     "output_type": "execute_result"
    }
   ],
   "source": [
    "compare_recommenders('Pride and Prejudice; Austen, Jane', 11)"
   ]
  },
  {
   "cell_type": "code",
   "execution_count": 521,
   "metadata": {},
   "outputs": [
    {
     "data": {
      "text/html": [
       "<div>\n",
       "<style scoped>\n",
       "    .dataframe tbody tr th:only-of-type {\n",
       "        vertical-align: middle;\n",
       "    }\n",
       "\n",
       "    .dataframe tbody tr th {\n",
       "        vertical-align: top;\n",
       "    }\n",
       "\n",
       "    .dataframe thead th {\n",
       "        text-align: right;\n",
       "    }\n",
       "</style>\n",
       "<table border=\"1\" class=\"dataframe\">\n",
       "  <thead>\n",
       "    <tr style=\"text-align: right;\">\n",
       "      <th></th>\n",
       "      <th>Unfiltered Ratings</th>\n",
       "      <th>Unfiltered Normalized Ratings</th>\n",
       "      <th>Filtered Ratings</th>\n",
       "      <th>Filtered Normalized Ratings</th>\n",
       "      <th>Filled Ratings</th>\n",
       "      <th>Filtered &amp; Filled Ratings</th>\n",
       "    </tr>\n",
       "  </thead>\n",
       "  <tbody>\n",
       "    <tr>\n",
       "      <th>0</th>\n",
       "      <td>The Last Thing He Told Me; Dave, Laura</td>\n",
       "      <td>Wolfhunter River; Caine, Rachel</td>\n",
       "      <td>The Last Thing He Told Me; Dave, Laura</td>\n",
       "      <td>Wolfhunter River; Caine, Rachel</td>\n",
       "      <td>The Paris Apartment; Foley, Lucy</td>\n",
       "      <td>The Paris Apartment; Foley, Lucy</td>\n",
       "    </tr>\n",
       "    <tr>\n",
       "      <th>1</th>\n",
       "      <td>The Paris Apartment; Foley, Lucy</td>\n",
       "      <td>The Blood Spilt; Larsson, Åsa</td>\n",
       "      <td>The Paris Apartment; Foley, Lucy</td>\n",
       "      <td>The Blood Spilt; Larsson, Åsa</td>\n",
       "      <td>The Last Thing He Told Me; Dave, Laura</td>\n",
       "      <td>The Last Thing He Told Me; Dave, Laura</td>\n",
       "    </tr>\n",
       "    <tr>\n",
       "      <th>2</th>\n",
       "      <td>The Midnight Library; Haig, Matt</td>\n",
       "      <td>The Stranger; Conway, Simon</td>\n",
       "      <td>The Midnight Library; Haig, Matt</td>\n",
       "      <td>Victim Without a Face; Ahnhem, Stefan</td>\n",
       "      <td>Rock Paper Scissors; Feeney, Alice</td>\n",
       "      <td>Rock Paper Scissors; Feeney, Alice</td>\n",
       "    </tr>\n",
       "    <tr>\n",
       "      <th>3</th>\n",
       "      <td>The Silent Patient; Michaelides, Alex</td>\n",
       "      <td>Темные аллеи. Повести и рассказы; Bunin, Ivan</td>\n",
       "      <td>The Silent Patient; Michaelides, Alex</td>\n",
       "      <td>Мои мужчины; Tokareva, Viktoriya</td>\n",
       "      <td>The Silent Patient; Michaelides, Alex</td>\n",
       "      <td>The Silent Patient; Michaelides, Alex</td>\n",
       "    </tr>\n",
       "    <tr>\n",
       "      <th>4</th>\n",
       "      <td>Rock Paper Scissors; Feeney, Alice</td>\n",
       "      <td>Я исповедуюсь; Cabré, Jaume</td>\n",
       "      <td>Rock Paper Scissors; Feeney, Alice</td>\n",
       "      <td>Metro 2033; Glukhovsky, Dmitry</td>\n",
       "      <td>Malibu Rising; Reid, Taylor Jenkins</td>\n",
       "      <td>Malibu Rising; Reid, Taylor Jenkins</td>\n",
       "    </tr>\n",
       "    <tr>\n",
       "      <th>5</th>\n",
       "      <td>The Family Upstairs; Jewell, Lisa</td>\n",
       "      <td>An Ace and A Pair; Banner, Blake</td>\n",
       "      <td>The Family Upstairs; Jewell, Lisa</td>\n",
       "      <td>Crimson Rivers; Grangé, Jean-Christophe</td>\n",
       "      <td>The Family Upstairs; Jewell, Lisa</td>\n",
       "      <td>The Family Upstairs; Jewell, Lisa</td>\n",
       "    </tr>\n",
       "    <tr>\n",
       "      <th>6</th>\n",
       "      <td>The Maidens; Michaelides, Alex</td>\n",
       "      <td>The Sea Detective; Douglas-Home, Mark</td>\n",
       "      <td>The Maidens; Michaelides, Alex</td>\n",
       "      <td>Понаехавшая; Abgaryan, Narine</td>\n",
       "      <td>Home Before Dark; Sager, Riley</td>\n",
       "      <td>The Midnight Library; Haig, Matt</td>\n",
       "    </tr>\n",
       "    <tr>\n",
       "      <th>7</th>\n",
       "      <td>Malibu Rising; Reid, Taylor Jenkins</td>\n",
       "      <td>Одиночество в сети; Wiśniewski, Janusz Leon</td>\n",
       "      <td>Malibu Rising; Reid, Taylor Jenkins</td>\n",
       "      <td>Date Night; Hayes, Samantha</td>\n",
       "      <td>The Midnight Library; Haig, Matt</td>\n",
       "      <td>Home Before Dark; Sager, Riley</td>\n",
       "    </tr>\n",
       "    <tr>\n",
       "      <th>8</th>\n",
       "      <td>Home Before Dark; Sager, Riley</td>\n",
       "      <td>Дневник кота-убийцы. Все истории; Fine, Anne</td>\n",
       "      <td>Home Before Dark; Sager, Riley</td>\n",
       "      <td>The Nicomachean Ethics; Aristotle</td>\n",
       "      <td>The Maidens; Michaelides, Alex</td>\n",
       "      <td>The Maidens; Michaelides, Alex</td>\n",
       "    </tr>\n",
       "    <tr>\n",
       "      <th>9</th>\n",
       "      <td>Book Lovers; Henry, Emily</td>\n",
       "      <td>Брошенная в бездну; Kemal, Orhan</td>\n",
       "      <td>Book Lovers; Henry, Emily</td>\n",
       "      <td>Under the Overpass: A Journey of Faith on the ...</td>\n",
       "      <td>The Seven Husbands of Evelyn Hugo; Reid, Taylo...</td>\n",
       "      <td>The Seven Husbands of Evelyn Hugo; Reid, Taylo...</td>\n",
       "    </tr>\n",
       "  </tbody>\n",
       "</table>\n",
       "</div>"
      ],
      "text/plain": [
       "                       Unfiltered Ratings  \\\n",
       "0  The Last Thing He Told Me; Dave, Laura   \n",
       "1        The Paris Apartment; Foley, Lucy   \n",
       "2        The Midnight Library; Haig, Matt   \n",
       "3   The Silent Patient; Michaelides, Alex   \n",
       "4      Rock Paper Scissors; Feeney, Alice   \n",
       "5       The Family Upstairs; Jewell, Lisa   \n",
       "6          The Maidens; Michaelides, Alex   \n",
       "7     Malibu Rising; Reid, Taylor Jenkins   \n",
       "8          Home Before Dark; Sager, Riley   \n",
       "9               Book Lovers; Henry, Emily   \n",
       "\n",
       "                   Unfiltered Normalized Ratings  \\\n",
       "0                Wolfhunter River; Caine, Rachel   \n",
       "1                  The Blood Spilt; Larsson, Åsa   \n",
       "2                    The Stranger; Conway, Simon   \n",
       "3  Темные аллеи. Повести и рассказы; Bunin, Ivan   \n",
       "4                    Я исповедуюсь; Cabré, Jaume   \n",
       "5               An Ace and A Pair; Banner, Blake   \n",
       "6          The Sea Detective; Douglas-Home, Mark   \n",
       "7    Одиночество в сети; Wiśniewski, Janusz Leon   \n",
       "8   Дневник кота-убийцы. Все истории; Fine, Anne   \n",
       "9               Брошенная в бездну; Kemal, Orhan   \n",
       "\n",
       "                         Filtered Ratings  \\\n",
       "0  The Last Thing He Told Me; Dave, Laura   \n",
       "1        The Paris Apartment; Foley, Lucy   \n",
       "2        The Midnight Library; Haig, Matt   \n",
       "3   The Silent Patient; Michaelides, Alex   \n",
       "4      Rock Paper Scissors; Feeney, Alice   \n",
       "5       The Family Upstairs; Jewell, Lisa   \n",
       "6          The Maidens; Michaelides, Alex   \n",
       "7     Malibu Rising; Reid, Taylor Jenkins   \n",
       "8          Home Before Dark; Sager, Riley   \n",
       "9               Book Lovers; Henry, Emily   \n",
       "\n",
       "                         Filtered Normalized Ratings  \\\n",
       "0                    Wolfhunter River; Caine, Rachel   \n",
       "1                      The Blood Spilt; Larsson, Åsa   \n",
       "2              Victim Without a Face; Ahnhem, Stefan   \n",
       "3                   Мои мужчины; Tokareva, Viktoriya   \n",
       "4                     Metro 2033; Glukhovsky, Dmitry   \n",
       "5            Crimson Rivers; Grangé, Jean-Christophe   \n",
       "6                      Понаехавшая; Abgaryan, Narine   \n",
       "7                        Date Night; Hayes, Samantha   \n",
       "8                  The Nicomachean Ethics; Aristotle   \n",
       "9  Under the Overpass: A Journey of Faith on the ...   \n",
       "\n",
       "                                      Filled Ratings  \\\n",
       "0                   The Paris Apartment; Foley, Lucy   \n",
       "1             The Last Thing He Told Me; Dave, Laura   \n",
       "2                 Rock Paper Scissors; Feeney, Alice   \n",
       "3              The Silent Patient; Michaelides, Alex   \n",
       "4                Malibu Rising; Reid, Taylor Jenkins   \n",
       "5                  The Family Upstairs; Jewell, Lisa   \n",
       "6                     Home Before Dark; Sager, Riley   \n",
       "7                   The Midnight Library; Haig, Matt   \n",
       "8                     The Maidens; Michaelides, Alex   \n",
       "9  The Seven Husbands of Evelyn Hugo; Reid, Taylo...   \n",
       "\n",
       "                           Filtered & Filled Ratings  \n",
       "0                   The Paris Apartment; Foley, Lucy  \n",
       "1             The Last Thing He Told Me; Dave, Laura  \n",
       "2                 Rock Paper Scissors; Feeney, Alice  \n",
       "3              The Silent Patient; Michaelides, Alex  \n",
       "4                Malibu Rising; Reid, Taylor Jenkins  \n",
       "5                  The Family Upstairs; Jewell, Lisa  \n",
       "6                   The Midnight Library; Haig, Matt  \n",
       "7                     Home Before Dark; Sager, Riley  \n",
       "8                     The Maidens; Michaelides, Alex  \n",
       "9  The Seven Husbands of Evelyn Hugo; Reid, Taylo...  "
      ]
     },
     "execution_count": 521,
     "metadata": {},
     "output_type": "execute_result"
    }
   ],
   "source": [
    "compare_recommenders('The Guest List; Foley, Lucy', 11)"
   ]
  },
  {
   "cell_type": "code",
   "execution_count": 522,
   "metadata": {},
   "outputs": [
    {
     "data": {
      "text/html": [
       "<div>\n",
       "<style scoped>\n",
       "    .dataframe tbody tr th:only-of-type {\n",
       "        vertical-align: middle;\n",
       "    }\n",
       "\n",
       "    .dataframe tbody tr th {\n",
       "        vertical-align: top;\n",
       "    }\n",
       "\n",
       "    .dataframe thead th {\n",
       "        text-align: right;\n",
       "    }\n",
       "</style>\n",
       "<table border=\"1\" class=\"dataframe\">\n",
       "  <thead>\n",
       "    <tr style=\"text-align: right;\">\n",
       "      <th></th>\n",
       "      <th>Unfiltered Ratings</th>\n",
       "      <th>Unfiltered Normalized Ratings</th>\n",
       "      <th>Filtered Ratings</th>\n",
       "      <th>Filtered Normalized Ratings</th>\n",
       "      <th>Filled Ratings</th>\n",
       "      <th>Filtered &amp; Filled Ratings</th>\n",
       "    </tr>\n",
       "  </thead>\n",
       "  <tbody>\n",
       "    <tr>\n",
       "      <th>0</th>\n",
       "      <td>The Story of a New Name; Ferrante, Elena</td>\n",
       "      <td>The Story of a New Name; Ferrante, Elena</td>\n",
       "      <td>The Story of a New Name; Ferrante, Elena</td>\n",
       "      <td>The Story of a New Name; Ferrante, Elena</td>\n",
       "      <td>The Story of a New Name; Ferrante, Elena</td>\n",
       "      <td>The Story of a New Name; Ferrante, Elena</td>\n",
       "    </tr>\n",
       "    <tr>\n",
       "      <th>1</th>\n",
       "      <td>Those Who Leave and Those Who Stay; Ferrante, ...</td>\n",
       "      <td>Those Who Leave and Those Who Stay; Ferrante, ...</td>\n",
       "      <td>Those Who Leave and Those Who Stay; Ferrante, ...</td>\n",
       "      <td>Those Who Leave and Those Who Stay; Ferrante, ...</td>\n",
       "      <td>Those Who Leave and Those Who Stay; Ferrante, ...</td>\n",
       "      <td>Those Who Leave and Those Who Stay; Ferrante, ...</td>\n",
       "    </tr>\n",
       "    <tr>\n",
       "      <th>2</th>\n",
       "      <td>The Story of the Lost Child; Ferrante, Elena</td>\n",
       "      <td>The Story of the Lost Child; Ferrante, Elena</td>\n",
       "      <td>The Story of the Lost Child; Ferrante, Elena</td>\n",
       "      <td>The Story of the Lost Child; Ferrante, Elena</td>\n",
       "      <td>The Story of the Lost Child; Ferrante, Elena</td>\n",
       "      <td>The Story of the Lost Child; Ferrante, Elena</td>\n",
       "    </tr>\n",
       "    <tr>\n",
       "      <th>3</th>\n",
       "      <td>Lincoln in the Bardo; Saunders, George</td>\n",
       "      <td>The Kingdom on the Waves; Anderson, M.T.</td>\n",
       "      <td>Lincoln in the Bardo; Saunders, George</td>\n",
       "      <td>The Kingdom on the Waves; Anderson, M.T.</td>\n",
       "      <td>The Goldfinch; Tartt, Donna</td>\n",
       "      <td>The Goldfinch; Tartt, Donna</td>\n",
       "    </tr>\n",
       "    <tr>\n",
       "      <th>4</th>\n",
       "      <td>Pachinko; Lee, Min Jin</td>\n",
       "      <td>How to Cook a Wolf; Fisher, M.F.K.</td>\n",
       "      <td>Pachinko; Lee, Min Jin</td>\n",
       "      <td>How to Cook a Wolf; Fisher, M.F.K.</td>\n",
       "      <td>Americanah; Adichie, Chimamanda Ngozi</td>\n",
       "      <td>Americanah; Adichie, Chimamanda Ngozi</td>\n",
       "    </tr>\n",
       "    <tr>\n",
       "      <th>5</th>\n",
       "      <td>The Goldfinch; Tartt, Donna</td>\n",
       "      <td>Wild by Nature: From Siberia to Australia, Thr...</td>\n",
       "      <td>The Goldfinch; Tartt, Donna</td>\n",
       "      <td>A Life of One's Own: Nine Women Writers Begin ...</td>\n",
       "      <td>Lincoln in the Bardo; Saunders, George</td>\n",
       "      <td>Lincoln in the Bardo; Saunders, George</td>\n",
       "    </tr>\n",
       "    <tr>\n",
       "      <th>6</th>\n",
       "      <td>The Vegetarian; Han Kang</td>\n",
       "      <td>Folk and Fairy Tales; Hallett, Martin</td>\n",
       "      <td>The Vegetarian; Han Kang</td>\n",
       "      <td>The Jedera Adventure; Alexander, Lloyd</td>\n",
       "      <td>Pachinko; Lee, Min Jin</td>\n",
       "      <td>Girl, Woman, Other; Evaristo, Bernardine</td>\n",
       "    </tr>\n",
       "    <tr>\n",
       "      <th>7</th>\n",
       "      <td>The Underground Railroad; Whitehead, Colson</td>\n",
       "      <td>Assume Nothing: A Story of Intimate Violence; ...</td>\n",
       "      <td>The Underground Railroad; Whitehead, Colson</td>\n",
       "      <td>Prologue to Murder; Elliott, Lauren</td>\n",
       "      <td>Girl, Woman, Other; Evaristo, Bernardine</td>\n",
       "      <td>The Vegetarian; Han Kang</td>\n",
       "    </tr>\n",
       "    <tr>\n",
       "      <th>8</th>\n",
       "      <td>Girl, Woman, Other; Evaristo, Bernardine</td>\n",
       "      <td>Escaping the Dead; Lundy, W.J.</td>\n",
       "      <td>Girl, Woman, Other; Evaristo, Bernardine</td>\n",
       "      <td>Delicious Monsters; Sambury, Liselle</td>\n",
       "      <td>The Vegetarian; Han Kang</td>\n",
       "      <td>Pachinko; Lee, Min Jin</td>\n",
       "    </tr>\n",
       "    <tr>\n",
       "      <th>9</th>\n",
       "      <td>The Lost Daughter; Ferrante, Elena</td>\n",
       "      <td>A Natural History of Hell; Ford, Jeffrey</td>\n",
       "      <td>The Lost Daughter; Ferrante, Elena</td>\n",
       "      <td>Sylvia Beach and the Lost Generation: A Histor...</td>\n",
       "      <td>Commonwealth; Patchett, Ann</td>\n",
       "      <td>Commonwealth; Patchett, Ann</td>\n",
       "    </tr>\n",
       "  </tbody>\n",
       "</table>\n",
       "</div>"
      ],
      "text/plain": [
       "                                  Unfiltered Ratings  \\\n",
       "0           The Story of a New Name; Ferrante, Elena   \n",
       "1  Those Who Leave and Those Who Stay; Ferrante, ...   \n",
       "2       The Story of the Lost Child; Ferrante, Elena   \n",
       "3             Lincoln in the Bardo; Saunders, George   \n",
       "4                             Pachinko; Lee, Min Jin   \n",
       "5                        The Goldfinch; Tartt, Donna   \n",
       "6                           The Vegetarian; Han Kang   \n",
       "7        The Underground Railroad; Whitehead, Colson   \n",
       "8           Girl, Woman, Other; Evaristo, Bernardine   \n",
       "9                 The Lost Daughter; Ferrante, Elena   \n",
       "\n",
       "                       Unfiltered Normalized Ratings  \\\n",
       "0           The Story of a New Name; Ferrante, Elena   \n",
       "1  Those Who Leave and Those Who Stay; Ferrante, ...   \n",
       "2       The Story of the Lost Child; Ferrante, Elena   \n",
       "3           The Kingdom on the Waves; Anderson, M.T.   \n",
       "4                 How to Cook a Wolf; Fisher, M.F.K.   \n",
       "5  Wild by Nature: From Siberia to Australia, Thr...   \n",
       "6              Folk and Fairy Tales; Hallett, Martin   \n",
       "7  Assume Nothing: A Story of Intimate Violence; ...   \n",
       "8                     Escaping the Dead; Lundy, W.J.   \n",
       "9           A Natural History of Hell; Ford, Jeffrey   \n",
       "\n",
       "                                    Filtered Ratings  \\\n",
       "0           The Story of a New Name; Ferrante, Elena   \n",
       "1  Those Who Leave and Those Who Stay; Ferrante, ...   \n",
       "2       The Story of the Lost Child; Ferrante, Elena   \n",
       "3             Lincoln in the Bardo; Saunders, George   \n",
       "4                             Pachinko; Lee, Min Jin   \n",
       "5                        The Goldfinch; Tartt, Donna   \n",
       "6                           The Vegetarian; Han Kang   \n",
       "7        The Underground Railroad; Whitehead, Colson   \n",
       "8           Girl, Woman, Other; Evaristo, Bernardine   \n",
       "9                 The Lost Daughter; Ferrante, Elena   \n",
       "\n",
       "                         Filtered Normalized Ratings  \\\n",
       "0           The Story of a New Name; Ferrante, Elena   \n",
       "1  Those Who Leave and Those Who Stay; Ferrante, ...   \n",
       "2       The Story of the Lost Child; Ferrante, Elena   \n",
       "3           The Kingdom on the Waves; Anderson, M.T.   \n",
       "4                 How to Cook a Wolf; Fisher, M.F.K.   \n",
       "5  A Life of One's Own: Nine Women Writers Begin ...   \n",
       "6             The Jedera Adventure; Alexander, Lloyd   \n",
       "7                Prologue to Murder; Elliott, Lauren   \n",
       "8               Delicious Monsters; Sambury, Liselle   \n",
       "9  Sylvia Beach and the Lost Generation: A Histor...   \n",
       "\n",
       "                                      Filled Ratings  \\\n",
       "0           The Story of a New Name; Ferrante, Elena   \n",
       "1  Those Who Leave and Those Who Stay; Ferrante, ...   \n",
       "2       The Story of the Lost Child; Ferrante, Elena   \n",
       "3                        The Goldfinch; Tartt, Donna   \n",
       "4              Americanah; Adichie, Chimamanda Ngozi   \n",
       "5             Lincoln in the Bardo; Saunders, George   \n",
       "6                             Pachinko; Lee, Min Jin   \n",
       "7           Girl, Woman, Other; Evaristo, Bernardine   \n",
       "8                           The Vegetarian; Han Kang   \n",
       "9                        Commonwealth; Patchett, Ann   \n",
       "\n",
       "                           Filtered & Filled Ratings  \n",
       "0           The Story of a New Name; Ferrante, Elena  \n",
       "1  Those Who Leave and Those Who Stay; Ferrante, ...  \n",
       "2       The Story of the Lost Child; Ferrante, Elena  \n",
       "3                        The Goldfinch; Tartt, Donna  \n",
       "4              Americanah; Adichie, Chimamanda Ngozi  \n",
       "5             Lincoln in the Bardo; Saunders, George  \n",
       "6           Girl, Woman, Other; Evaristo, Bernardine  \n",
       "7                           The Vegetarian; Han Kang  \n",
       "8                             Pachinko; Lee, Min Jin  \n",
       "9                        Commonwealth; Patchett, Ann  "
      ]
     },
     "execution_count": 522,
     "metadata": {},
     "output_type": "execute_result"
    }
   ],
   "source": [
    "compare_recommenders('My Brilliant Friend; Ferrante, Elena', 11)"
   ]
  },
  {
   "cell_type": "code",
   "execution_count": 523,
   "metadata": {},
   "outputs": [
    {
     "data": {
      "text/html": [
       "<div>\n",
       "<style scoped>\n",
       "    .dataframe tbody tr th:only-of-type {\n",
       "        vertical-align: middle;\n",
       "    }\n",
       "\n",
       "    .dataframe tbody tr th {\n",
       "        vertical-align: top;\n",
       "    }\n",
       "\n",
       "    .dataframe thead th {\n",
       "        text-align: right;\n",
       "    }\n",
       "</style>\n",
       "<table border=\"1\" class=\"dataframe\">\n",
       "  <thead>\n",
       "    <tr style=\"text-align: right;\">\n",
       "      <th></th>\n",
       "      <th>Unfiltered Ratings</th>\n",
       "      <th>Unfiltered Normalized Ratings</th>\n",
       "      <th>Filtered Ratings</th>\n",
       "      <th>Filtered Normalized Ratings</th>\n",
       "      <th>Filled Ratings</th>\n",
       "      <th>Filtered &amp; Filled Ratings</th>\n",
       "    </tr>\n",
       "  </thead>\n",
       "  <tbody>\n",
       "    <tr>\n",
       "      <th>0</th>\n",
       "      <td>The Secret History; Tartt, Donna</td>\n",
       "      <td>Addicted; Zane</td>\n",
       "      <td>The Secret History; Tartt, Donna</td>\n",
       "      <td>Addicted; Zane</td>\n",
       "      <td>The Secret History; Tartt, Donna</td>\n",
       "      <td>The Secret History; Tartt, Donna</td>\n",
       "    </tr>\n",
       "    <tr>\n",
       "      <th>1</th>\n",
       "      <td>Station Eleven; Mandel, Emily St. John</td>\n",
       "      <td>The Hours; Cunningham, Michael</td>\n",
       "      <td>Station Eleven; Mandel, Emily St. John</td>\n",
       "      <td>The Hours; Cunningham, Michael</td>\n",
       "      <td>Station Eleven; Mandel, Emily St. John</td>\n",
       "      <td>Station Eleven; Mandel, Emily St. John</td>\n",
       "    </tr>\n",
       "    <tr>\n",
       "      <th>2</th>\n",
       "      <td>All the Light We Cannot See; Doerr, Anthony</td>\n",
       "      <td>Being Nixon: The Fears and Hopes of an America...</td>\n",
       "      <td>All the Light We Cannot See; Doerr, Anthony</td>\n",
       "      <td>Being Nixon: The Fears and Hopes of an America...</td>\n",
       "      <td>All the Light We Cannot See; Doerr, Anthony</td>\n",
       "      <td>All the Light We Cannot See; Doerr, Anthony</td>\n",
       "    </tr>\n",
       "    <tr>\n",
       "      <th>3</th>\n",
       "      <td>The Great Gatsby; Fitzgerald, F. Scott</td>\n",
       "      <td>The Wind Done Gone; Randall, Alice</td>\n",
       "      <td>The Great Gatsby; Fitzgerald, F. Scott</td>\n",
       "      <td>The Wind Done Gone; Randall, Alice</td>\n",
       "      <td>The Handmaid’s Tale; Atwood, Margaret</td>\n",
       "      <td>The Handmaid’s Tale; Atwood, Margaret</td>\n",
       "    </tr>\n",
       "    <tr>\n",
       "      <th>4</th>\n",
       "      <td>The Handmaid’s Tale; Atwood, Margaret</td>\n",
       "      <td>Murder as a Fine Art; Morrell, David</td>\n",
       "      <td>The Handmaid’s Tale; Atwood, Margaret</td>\n",
       "      <td>Murder as a Fine Art; Morrell, David</td>\n",
       "      <td>Fates and Furies; Groff, Lauren</td>\n",
       "      <td>Fates and Furies; Groff, Lauren</td>\n",
       "    </tr>\n",
       "    <tr>\n",
       "      <th>5</th>\n",
       "      <td>Never Let Me Go; Ishiguro, Kazuo</td>\n",
       "      <td>Prince Lestat; Rice, Anne</td>\n",
       "      <td>Never Let Me Go; Ishiguro, Kazuo</td>\n",
       "      <td>Prince Lestat; Rice, Anne</td>\n",
       "      <td>The Great Gatsby; Fitzgerald, F. Scott</td>\n",
       "      <td>The Great Gatsby; Fitzgerald, F. Scott</td>\n",
       "    </tr>\n",
       "    <tr>\n",
       "      <th>6</th>\n",
       "      <td>Fates and Furies; Groff, Lauren</td>\n",
       "      <td>The Advantage: Why Organizational Health Trump...</td>\n",
       "      <td>Fates and Furies; Groff, Lauren</td>\n",
       "      <td>Final Exits: The Illustrated Encyclopedia of H...</td>\n",
       "      <td>My Brilliant Friend; Ferrante, Elena</td>\n",
       "      <td>My Brilliant Friend; Ferrante, Elena</td>\n",
       "    </tr>\n",
       "    <tr>\n",
       "      <th>7</th>\n",
       "      <td>Middlesex; Eugenides, Jeffrey</td>\n",
       "      <td>Wisconsin Death Trip; Lesy, Michael</td>\n",
       "      <td>Middlesex; Eugenides, Jeffrey</td>\n",
       "      <td>The 5 Levels of Leadership: Proven Steps to Ma...</td>\n",
       "      <td>Never Let Me Go; Ishiguro, Kazuo</td>\n",
       "      <td>Never Let Me Go; Ishiguro, Kazuo</td>\n",
       "    </tr>\n",
       "    <tr>\n",
       "      <th>8</th>\n",
       "      <td>The Underground Railroad; Whitehead, Colson</td>\n",
       "      <td>In the Dark of the Night; Saul, John</td>\n",
       "      <td>The Underground Railroad; Whitehead, Colson</td>\n",
       "      <td>Whispers Beyond the Veil; Estevao, Jessica</td>\n",
       "      <td>Middlesex; Eugenides, Jeffrey</td>\n",
       "      <td>Middlesex; Eugenides, Jeffrey</td>\n",
       "    </tr>\n",
       "    <tr>\n",
       "      <th>9</th>\n",
       "      <td>The Dutch House; Patchett, Ann</td>\n",
       "      <td>Double Feature: A Novel; King, Owen</td>\n",
       "      <td>The Dutch House; Patchett, Ann</td>\n",
       "      <td>The Unquiet; Robb, J.D.</td>\n",
       "      <td>The Underground Railroad; Whitehead, Colson</td>\n",
       "      <td>The Underground Railroad; Whitehead, Colson</td>\n",
       "    </tr>\n",
       "  </tbody>\n",
       "</table>\n",
       "</div>"
      ],
      "text/plain": [
       "                            Unfiltered Ratings  \\\n",
       "0             The Secret History; Tartt, Donna   \n",
       "1       Station Eleven; Mandel, Emily St. John   \n",
       "2  All the Light We Cannot See; Doerr, Anthony   \n",
       "3       The Great Gatsby; Fitzgerald, F. Scott   \n",
       "4        The Handmaid’s Tale; Atwood, Margaret   \n",
       "5             Never Let Me Go; Ishiguro, Kazuo   \n",
       "6              Fates and Furies; Groff, Lauren   \n",
       "7                Middlesex; Eugenides, Jeffrey   \n",
       "8  The Underground Railroad; Whitehead, Colson   \n",
       "9               The Dutch House; Patchett, Ann   \n",
       "\n",
       "                       Unfiltered Normalized Ratings  \\\n",
       "0                                     Addicted; Zane   \n",
       "1                     The Hours; Cunningham, Michael   \n",
       "2  Being Nixon: The Fears and Hopes of an America...   \n",
       "3                 The Wind Done Gone; Randall, Alice   \n",
       "4               Murder as a Fine Art; Morrell, David   \n",
       "5                          Prince Lestat; Rice, Anne   \n",
       "6  The Advantage: Why Organizational Health Trump...   \n",
       "7                Wisconsin Death Trip; Lesy, Michael   \n",
       "8               In the Dark of the Night; Saul, John   \n",
       "9                Double Feature: A Novel; King, Owen   \n",
       "\n",
       "                              Filtered Ratings  \\\n",
       "0             The Secret History; Tartt, Donna   \n",
       "1       Station Eleven; Mandel, Emily St. John   \n",
       "2  All the Light We Cannot See; Doerr, Anthony   \n",
       "3       The Great Gatsby; Fitzgerald, F. Scott   \n",
       "4        The Handmaid’s Tale; Atwood, Margaret   \n",
       "5             Never Let Me Go; Ishiguro, Kazuo   \n",
       "6              Fates and Furies; Groff, Lauren   \n",
       "7                Middlesex; Eugenides, Jeffrey   \n",
       "8  The Underground Railroad; Whitehead, Colson   \n",
       "9               The Dutch House; Patchett, Ann   \n",
       "\n",
       "                         Filtered Normalized Ratings  \\\n",
       "0                                     Addicted; Zane   \n",
       "1                     The Hours; Cunningham, Michael   \n",
       "2  Being Nixon: The Fears and Hopes of an America...   \n",
       "3                 The Wind Done Gone; Randall, Alice   \n",
       "4               Murder as a Fine Art; Morrell, David   \n",
       "5                          Prince Lestat; Rice, Anne   \n",
       "6  Final Exits: The Illustrated Encyclopedia of H...   \n",
       "7  The 5 Levels of Leadership: Proven Steps to Ma...   \n",
       "8         Whispers Beyond the Veil; Estevao, Jessica   \n",
       "9                            The Unquiet; Robb, J.D.   \n",
       "\n",
       "                                Filled Ratings  \\\n",
       "0             The Secret History; Tartt, Donna   \n",
       "1       Station Eleven; Mandel, Emily St. John   \n",
       "2  All the Light We Cannot See; Doerr, Anthony   \n",
       "3        The Handmaid’s Tale; Atwood, Margaret   \n",
       "4              Fates and Furies; Groff, Lauren   \n",
       "5       The Great Gatsby; Fitzgerald, F. Scott   \n",
       "6         My Brilliant Friend; Ferrante, Elena   \n",
       "7             Never Let Me Go; Ishiguro, Kazuo   \n",
       "8                Middlesex; Eugenides, Jeffrey   \n",
       "9  The Underground Railroad; Whitehead, Colson   \n",
       "\n",
       "                     Filtered & Filled Ratings  \n",
       "0             The Secret History; Tartt, Donna  \n",
       "1       Station Eleven; Mandel, Emily St. John  \n",
       "2  All the Light We Cannot See; Doerr, Anthony  \n",
       "3        The Handmaid’s Tale; Atwood, Margaret  \n",
       "4              Fates and Furies; Groff, Lauren  \n",
       "5       The Great Gatsby; Fitzgerald, F. Scott  \n",
       "6         My Brilliant Friend; Ferrante, Elena  \n",
       "7             Never Let Me Go; Ishiguro, Kazuo  \n",
       "8                Middlesex; Eugenides, Jeffrey  \n",
       "9  The Underground Railroad; Whitehead, Colson  "
      ]
     },
     "execution_count": 523,
     "metadata": {},
     "output_type": "execute_result"
    }
   ],
   "source": [
    "compare_recommenders('The Goldfinch; Tartt, Donna', 11)"
   ]
  },
  {
   "cell_type": "markdown",
   "metadata": {},
   "source": [
    "Looking at actual recommendations for books I know very well, I can see that normalization and seems to provide little value and tends to return stranger results. Filling empty reviews with the average user review did not do much harm to the recommendations, but it did not appear to add much value. Filtering, on the other hand, did seem to provide a small benefit, and so the the filtered rating processing approach is what I will use to generate recommendations in the next section."
   ]
  },
  {
   "cell_type": "markdown",
   "metadata": {},
   "source": [
    "## Generate Recommendations Based on My Recent Reading Habits"
   ]
  },
  {
   "cell_type": "markdown",
   "metadata": {},
   "source": [
    "Now it's time to use the recommender. Below I have compiled a list of some of recent favorites in hopes that I can get some similar books to read next."
   ]
  },
  {
   "cell_type": "code",
   "execution_count": 20,
   "metadata": {},
   "outputs": [
    {
     "name": "stdout",
     "output_type": "stream",
     "text": [
      "There is no data on: Intermezzo; Rooney, Sally\n"
     ]
    }
   ],
   "source": [
    "recent_favorites = ['My Brilliant Friend; Ferrante, Elena',\n",
    "'The Secret History; Tartt, Donna',\n",
    "'Intermezzo; Rooney, Sally',\n",
    "'The Idiot; Batuman, Elif',\n",
    "'The God of the Woods; Moore, Liz',\n",
    "'Sense and Sensibility; Austen, Jane',\n",
    "'Interpreter of Maladies; Lahiri, Jhumpa',\n",
    "'Persuasion; Austen, Jane',\n",
    "'Bel Canto; Patchett, Ann'\n",
    "]\n",
    "\n",
    "def get_new_recs():\n",
    "    #recent_favorites = recent_favorites#\n",
    "    suggestions = list()\n",
    "    for book_tag in recent_favorites:\n",
    "        try:\n",
    "            sugs = find_similar_books(book_tag, X_adjusted, book_mapper_adj, book_inv_mapper_adj, k=7)\n",
    "            suggestions.append({\"Recently Read\": book_tag, **{f\"Suggestion {i+1}\": sugs[i] for i in range(len(sugs))}})\n",
    "        except:\n",
    "            print('There is no data on: ' + book_tag)\n",
    "    return pd.DataFrame(suggestions)\n",
    "\n",
    "reading_list = get_new_recs()\n"
   ]
  },
  {
   "cell_type": "markdown",
   "metadata": {},
   "source": [
    "It makes sense that there is no information on *Intermezzo* since that book came out after most of this data was collected. It looks like I will need to scrape more libraries if I want to get recommendations for the most recent books.\n",
    "\n",
    " For now, let's see what I suggestions I have in the table below."
   ]
  },
  {
   "cell_type": "code",
   "execution_count": 21,
   "metadata": {},
   "outputs": [
    {
     "data": {
      "text/html": [
       "<div>\n",
       "<style scoped>\n",
       "    .dataframe tbody tr th:only-of-type {\n",
       "        vertical-align: middle;\n",
       "    }\n",
       "\n",
       "    .dataframe tbody tr th {\n",
       "        vertical-align: top;\n",
       "    }\n",
       "\n",
       "    .dataframe thead th {\n",
       "        text-align: right;\n",
       "    }\n",
       "</style>\n",
       "<table border=\"1\" class=\"dataframe\">\n",
       "  <thead>\n",
       "    <tr style=\"text-align: right;\">\n",
       "      <th></th>\n",
       "      <th>Recently Read</th>\n",
       "      <th>Suggestion 1</th>\n",
       "      <th>Suggestion 2</th>\n",
       "      <th>Suggestion 3</th>\n",
       "      <th>Suggestion 4</th>\n",
       "      <th>Suggestion 5</th>\n",
       "      <th>Suggestion 6</th>\n",
       "    </tr>\n",
       "  </thead>\n",
       "  <tbody>\n",
       "    <tr>\n",
       "      <th>0</th>\n",
       "      <td>My Brilliant Friend; Ferrante, Elena</td>\n",
       "      <td>The Story of a New Name; Ferrante, Elena</td>\n",
       "      <td>Those Who Leave and Those Who Stay; Ferrante, ...</td>\n",
       "      <td>The Story of the Lost Child; Ferrante, Elena</td>\n",
       "      <td>The Goldfinch; Tartt, Donna</td>\n",
       "      <td>Americanah; Adichie, Chimamanda Ngozi</td>\n",
       "      <td>Lincoln in the Bardo; Saunders, George</td>\n",
       "    </tr>\n",
       "    <tr>\n",
       "      <th>1</th>\n",
       "      <td>The Secret History; Tartt, Donna</td>\n",
       "      <td>The Goldfinch; Tartt, Donna</td>\n",
       "      <td>A Little Life; Yanagihara, Hanya</td>\n",
       "      <td>Never Let Me Go; Ishiguro, Kazuo</td>\n",
       "      <td>The Great Gatsby; Fitzgerald, F. Scott</td>\n",
       "      <td>The Bell Jar; Plath, Sylvia</td>\n",
       "      <td>Normal People; Rooney, Sally</td>\n",
       "    </tr>\n",
       "    <tr>\n",
       "      <th>2</th>\n",
       "      <td>The Idiot; Batuman, Elif</td>\n",
       "      <td>Either/Or; Batuman, Elif</td>\n",
       "      <td>Milk Fed; Broder, Melissa</td>\n",
       "      <td>The Pisces; Broder, Melissa</td>\n",
       "      <td>The Argonauts; Nelson, Maggie</td>\n",
       "      <td>Trick Mirror: Reflections on Self-Delusion; To...</td>\n",
       "      <td>Eileen; Moshfegh, Ottessa</td>\n",
       "    </tr>\n",
       "    <tr>\n",
       "      <th>3</th>\n",
       "      <td>The God of the Woods; Moore, Liz</td>\n",
       "      <td>Someone in the Attic; Mara, Andrea</td>\n",
       "      <td>Hunted; Mukherjee, Abir</td>\n",
       "      <td>The Unquiet Bones; White, Loreth Anne</td>\n",
       "      <td>Sadie Sprocket Builds a Rocket; Fliess, Sue</td>\n",
       "      <td>A Very Cornish Christmas; Good, Beth</td>\n",
       "      <td>Bird Milk &amp; Mosquito Bones: A Memoir; Mattoo, ...</td>\n",
       "    </tr>\n",
       "    <tr>\n",
       "      <th>4</th>\n",
       "      <td>Sense and Sensibility; Austen, Jane</td>\n",
       "      <td>Persuasion; Austen, Jane</td>\n",
       "      <td>Pride and Prejudice; Austen, Jane</td>\n",
       "      <td>Emma; Austen, Jane</td>\n",
       "      <td>Northanger Abbey; Austen, Jane</td>\n",
       "      <td>Mansfield Park; Austen, Jane</td>\n",
       "      <td>Jane Eyre; Brontë, Charlotte</td>\n",
       "    </tr>\n",
       "    <tr>\n",
       "      <th>5</th>\n",
       "      <td>Interpreter of Maladies; Lahiri, Jhumpa</td>\n",
       "      <td>The Namesake; Lahiri, Jhumpa</td>\n",
       "      <td>The God of Small Things; Roy, Arundhati</td>\n",
       "      <td>Unaccustomed Earth; Lahiri, Jhumpa</td>\n",
       "      <td>Bel Canto; Patchett, Ann</td>\n",
       "      <td>The Brief Wondrous Life of Oscar Wao; Díaz, Junot</td>\n",
       "      <td>The Poisonwood Bible; Kingsolver, Barbara</td>\n",
       "    </tr>\n",
       "    <tr>\n",
       "      <th>6</th>\n",
       "      <td>Persuasion; Austen, Jane</td>\n",
       "      <td>Sense and Sensibility; Austen, Jane</td>\n",
       "      <td>Emma; Austen, Jane</td>\n",
       "      <td>Northanger Abbey; Austen, Jane</td>\n",
       "      <td>Pride and Prejudice; Austen, Jane</td>\n",
       "      <td>Mansfield Park; Austen, Jane</td>\n",
       "      <td>Jane Eyre; Brontë, Charlotte</td>\n",
       "    </tr>\n",
       "    <tr>\n",
       "      <th>7</th>\n",
       "      <td>Bel Canto; Patchett, Ann</td>\n",
       "      <td>State of Wonder; Patchett, Ann</td>\n",
       "      <td>The Dutch House; Patchett, Ann</td>\n",
       "      <td>Commonwealth; Patchett, Ann</td>\n",
       "      <td>The Magician's Assistant; Patchett, Ann</td>\n",
       "      <td>To Kill a Mockingbird; Lee, Harper</td>\n",
       "      <td>All the Light We Cannot See; Doerr, Anthony</td>\n",
       "    </tr>\n",
       "  </tbody>\n",
       "</table>\n",
       "</div>"
      ],
      "text/plain": [
       "                             Recently Read  \\\n",
       "0     My Brilliant Friend; Ferrante, Elena   \n",
       "1         The Secret History; Tartt, Donna   \n",
       "2                 The Idiot; Batuman, Elif   \n",
       "3         The God of the Woods; Moore, Liz   \n",
       "4      Sense and Sensibility; Austen, Jane   \n",
       "5  Interpreter of Maladies; Lahiri, Jhumpa   \n",
       "6                 Persuasion; Austen, Jane   \n",
       "7                 Bel Canto; Patchett, Ann   \n",
       "\n",
       "                               Suggestion 1  \\\n",
       "0  The Story of a New Name; Ferrante, Elena   \n",
       "1               The Goldfinch; Tartt, Donna   \n",
       "2                  Either/Or; Batuman, Elif   \n",
       "3        Someone in the Attic; Mara, Andrea   \n",
       "4                  Persuasion; Austen, Jane   \n",
       "5              The Namesake; Lahiri, Jhumpa   \n",
       "6       Sense and Sensibility; Austen, Jane   \n",
       "7            State of Wonder; Patchett, Ann   \n",
       "\n",
       "                                        Suggestion 2  \\\n",
       "0  Those Who Leave and Those Who Stay; Ferrante, ...   \n",
       "1                   A Little Life; Yanagihara, Hanya   \n",
       "2                          Milk Fed; Broder, Melissa   \n",
       "3                            Hunted; Mukherjee, Abir   \n",
       "4                  Pride and Prejudice; Austen, Jane   \n",
       "5            The God of Small Things; Roy, Arundhati   \n",
       "6                                 Emma; Austen, Jane   \n",
       "7                     The Dutch House; Patchett, Ann   \n",
       "\n",
       "                                   Suggestion 3  \\\n",
       "0  The Story of the Lost Child; Ferrante, Elena   \n",
       "1              Never Let Me Go; Ishiguro, Kazuo   \n",
       "2                   The Pisces; Broder, Melissa   \n",
       "3         The Unquiet Bones; White, Loreth Anne   \n",
       "4                            Emma; Austen, Jane   \n",
       "5            Unaccustomed Earth; Lahiri, Jhumpa   \n",
       "6                Northanger Abbey; Austen, Jane   \n",
       "7                   Commonwealth; Patchett, Ann   \n",
       "\n",
       "                                  Suggestion 4  \\\n",
       "0                  The Goldfinch; Tartt, Donna   \n",
       "1       The Great Gatsby; Fitzgerald, F. Scott   \n",
       "2                The Argonauts; Nelson, Maggie   \n",
       "3  Sadie Sprocket Builds a Rocket; Fliess, Sue   \n",
       "4               Northanger Abbey; Austen, Jane   \n",
       "5                     Bel Canto; Patchett, Ann   \n",
       "6            Pride and Prejudice; Austen, Jane   \n",
       "7      The Magician's Assistant; Patchett, Ann   \n",
       "\n",
       "                                        Suggestion 5  \\\n",
       "0              Americanah; Adichie, Chimamanda Ngozi   \n",
       "1                        The Bell Jar; Plath, Sylvia   \n",
       "2  Trick Mirror: Reflections on Self-Delusion; To...   \n",
       "3               A Very Cornish Christmas; Good, Beth   \n",
       "4                       Mansfield Park; Austen, Jane   \n",
       "5  The Brief Wondrous Life of Oscar Wao; Díaz, Junot   \n",
       "6                       Mansfield Park; Austen, Jane   \n",
       "7                 To Kill a Mockingbird; Lee, Harper   \n",
       "\n",
       "                                        Suggestion 6  \n",
       "0             Lincoln in the Bardo; Saunders, George  \n",
       "1                       Normal People; Rooney, Sally  \n",
       "2                          Eileen; Moshfegh, Ottessa  \n",
       "3  Bird Milk & Mosquito Bones: A Memoir; Mattoo, ...  \n",
       "4                       Jane Eyre; Brontë, Charlotte  \n",
       "5          The Poisonwood Bible; Kingsolver, Barbara  \n",
       "6                       Jane Eyre; Brontë, Charlotte  \n",
       "7        All the Light We Cannot See; Doerr, Anthony  "
      ]
     },
     "metadata": {},
     "output_type": "display_data"
    }
   ],
   "source": [
    "display(reading_list)"
   ]
  },
  {
   "cell_type": "code",
   "execution_count": 540,
   "metadata": {},
   "outputs": [
    {
     "data": {
      "application/vnd.plotly.v1+json": {
       "config": {
        "plotlyServerURL": "https://plot.ly"
       },
       "data": [
        {
         "cells": {
          "align": "center",
          "fill": {
           "color": [
            [
             "rgba(50, 50, 50, 0.8)",
             "rgba(35, 35, 35, 0.8)",
             "rgba(50, 50, 50, 0.8)",
             "rgba(35, 35, 35, 0.8)",
             "rgba(50, 50, 50, 0.8)",
             "rgba(35, 35, 35, 0.8)",
             "rgba(50, 50, 50, 0.8)",
             "rgba(35, 35, 35, 0.8)"
            ]
           ]
          },
          "font": {
           "color": "white",
           "family": "Roboto",
           "size": 16
          },
          "height": 30,
          "values": [
           [
            "My Brilliant Friend; Ferrante, Elena",
            "The Secret History; Tartt, Donna",
            "The Idiot; Batuman, Elif",
            "The God of the Woods; Moore, Liz",
            "Sense and Sensibility; Austen, Jane",
            "Interpreter of Maladies; Lahiri, Jhumpa",
            "Persuasion; Austen, Jane",
            "Bel Canto; Patchett, Ann"
           ],
           [
            "The Story of a New Name; Ferrante, Elena",
            "The Goldfinch; Tartt, Donna",
            "Either/Or; Batuman, Elif",
            "Someone in the Attic; Mara, Andrea",
            "Persuasion; Austen, Jane",
            "The Namesake; Lahiri, Jhumpa",
            "Sense and Sensibility; Austen, Jane",
            "State of Wonder; Patchett, Ann"
           ],
           [
            "Those Who Leave and Those Who Stay; Ferrante, Elena",
            "A Little Life; Yanagihara, Hanya",
            "Milk Fed; Broder, Melissa",
            "Hunted; Mukherjee, Abir",
            "Pride and Prejudice; Austen, Jane",
            "The God of Small Things; Roy, Arundhati",
            "Emma; Austen, Jane",
            "The Dutch House; Patchett, Ann"
           ],
           [
            "The Story of the Lost Child; Ferrante, Elena",
            "Never Let Me Go; Ishiguro, Kazuo",
            "The Pisces; Broder, Melissa",
            "The Unquiet Bones; White, Loreth Anne",
            "Emma; Austen, Jane",
            "Unaccustomed Earth; Lahiri, Jhumpa",
            "Northanger Abbey; Austen, Jane",
            "Commonwealth; Patchett, Ann"
           ],
           [
            "The Goldfinch; Tartt, Donna",
            "The Great Gatsby; Fitzgerald, F. Scott",
            "The Argonauts; Nelson, Maggie",
            "Sadie Sprocket Builds a Rocket; Fliess, Sue",
            "Northanger Abbey; Austen, Jane",
            "Bel Canto; Patchett, Ann",
            "Pride and Prejudice; Austen, Jane",
            "The Magician's Assistant; Patchett, Ann"
           ],
           [
            "Americanah; Adichie, Chimamanda Ngozi",
            "The Bell Jar; Plath, Sylvia",
            "Trick Mirror: Reflections on Self-Delusion; Tolentino, Jia",
            "A Very Cornish Christmas; Good, Beth",
            "Mansfield Park; Austen, Jane",
            "The Brief Wondrous Life of Oscar Wao; Díaz, Junot",
            "Mansfield Park; Austen, Jane",
            "To Kill a Mockingbird; Lee, Harper"
           ],
           [
            "Lincoln in the Bardo; Saunders, George",
            "Normal People; Rooney, Sally",
            "Eileen; Moshfegh, Ottessa",
            "Bird Milk & Mosquito Bones: A Memoir; Mattoo, Priyanka",
            "Jane Eyre; Brontë, Charlotte",
            "The Poisonwood Bible; Kingsolver, Barbara",
            "Jane Eyre; Brontë, Charlotte",
            "All the Light We Cannot See; Doerr, Anthony"
           ]
          ]
         },
         "header": {
          "align": "center",
          "fill": {
           "color": "rgba(0, 123, 255, 0.8)"
          },
          "font": {
           "color": "white",
           "family": "Roboto",
           "size": 14
          },
          "height": 40,
          "values": [
           "Recently Read",
           "Suggestion 1",
           "Suggestion 2",
           "Suggestion 3",
           "Suggestion 4",
           "Suggestion 5",
           "Suggestion 6"
          ]
         },
         "type": "table"
        }
       ],
       "layout": {
        "plot_bgcolor": "black",
        "template": {
         "data": {
          "bar": [
           {
            "error_x": {
             "color": "#2a3f5f"
            },
            "error_y": {
             "color": "#2a3f5f"
            },
            "marker": {
             "line": {
              "color": "#E5ECF6",
              "width": 0.5
             },
             "pattern": {
              "fillmode": "overlay",
              "size": 10,
              "solidity": 0.2
             }
            },
            "type": "bar"
           }
          ],
          "barpolar": [
           {
            "marker": {
             "line": {
              "color": "#E5ECF6",
              "width": 0.5
             },
             "pattern": {
              "fillmode": "overlay",
              "size": 10,
              "solidity": 0.2
             }
            },
            "type": "barpolar"
           }
          ],
          "carpet": [
           {
            "aaxis": {
             "endlinecolor": "#2a3f5f",
             "gridcolor": "white",
             "linecolor": "white",
             "minorgridcolor": "white",
             "startlinecolor": "#2a3f5f"
            },
            "baxis": {
             "endlinecolor": "#2a3f5f",
             "gridcolor": "white",
             "linecolor": "white",
             "minorgridcolor": "white",
             "startlinecolor": "#2a3f5f"
            },
            "type": "carpet"
           }
          ],
          "choropleth": [
           {
            "colorbar": {
             "outlinewidth": 0,
             "ticks": ""
            },
            "type": "choropleth"
           }
          ],
          "contour": [
           {
            "colorbar": {
             "outlinewidth": 0,
             "ticks": ""
            },
            "colorscale": [
             [
              0,
              "#0d0887"
             ],
             [
              0.1111111111111111,
              "#46039f"
             ],
             [
              0.2222222222222222,
              "#7201a8"
             ],
             [
              0.3333333333333333,
              "#9c179e"
             ],
             [
              0.4444444444444444,
              "#bd3786"
             ],
             [
              0.5555555555555556,
              "#d8576b"
             ],
             [
              0.6666666666666666,
              "#ed7953"
             ],
             [
              0.7777777777777778,
              "#fb9f3a"
             ],
             [
              0.8888888888888888,
              "#fdca26"
             ],
             [
              1,
              "#f0f921"
             ]
            ],
            "type": "contour"
           }
          ],
          "contourcarpet": [
           {
            "colorbar": {
             "outlinewidth": 0,
             "ticks": ""
            },
            "type": "contourcarpet"
           }
          ],
          "heatmap": [
           {
            "colorbar": {
             "outlinewidth": 0,
             "ticks": ""
            },
            "colorscale": [
             [
              0,
              "#0d0887"
             ],
             [
              0.1111111111111111,
              "#46039f"
             ],
             [
              0.2222222222222222,
              "#7201a8"
             ],
             [
              0.3333333333333333,
              "#9c179e"
             ],
             [
              0.4444444444444444,
              "#bd3786"
             ],
             [
              0.5555555555555556,
              "#d8576b"
             ],
             [
              0.6666666666666666,
              "#ed7953"
             ],
             [
              0.7777777777777778,
              "#fb9f3a"
             ],
             [
              0.8888888888888888,
              "#fdca26"
             ],
             [
              1,
              "#f0f921"
             ]
            ],
            "type": "heatmap"
           }
          ],
          "heatmapgl": [
           {
            "colorbar": {
             "outlinewidth": 0,
             "ticks": ""
            },
            "colorscale": [
             [
              0,
              "#0d0887"
             ],
             [
              0.1111111111111111,
              "#46039f"
             ],
             [
              0.2222222222222222,
              "#7201a8"
             ],
             [
              0.3333333333333333,
              "#9c179e"
             ],
             [
              0.4444444444444444,
              "#bd3786"
             ],
             [
              0.5555555555555556,
              "#d8576b"
             ],
             [
              0.6666666666666666,
              "#ed7953"
             ],
             [
              0.7777777777777778,
              "#fb9f3a"
             ],
             [
              0.8888888888888888,
              "#fdca26"
             ],
             [
              1,
              "#f0f921"
             ]
            ],
            "type": "heatmapgl"
           }
          ],
          "histogram": [
           {
            "marker": {
             "pattern": {
              "fillmode": "overlay",
              "size": 10,
              "solidity": 0.2
             }
            },
            "type": "histogram"
           }
          ],
          "histogram2d": [
           {
            "colorbar": {
             "outlinewidth": 0,
             "ticks": ""
            },
            "colorscale": [
             [
              0,
              "#0d0887"
             ],
             [
              0.1111111111111111,
              "#46039f"
             ],
             [
              0.2222222222222222,
              "#7201a8"
             ],
             [
              0.3333333333333333,
              "#9c179e"
             ],
             [
              0.4444444444444444,
              "#bd3786"
             ],
             [
              0.5555555555555556,
              "#d8576b"
             ],
             [
              0.6666666666666666,
              "#ed7953"
             ],
             [
              0.7777777777777778,
              "#fb9f3a"
             ],
             [
              0.8888888888888888,
              "#fdca26"
             ],
             [
              1,
              "#f0f921"
             ]
            ],
            "type": "histogram2d"
           }
          ],
          "histogram2dcontour": [
           {
            "colorbar": {
             "outlinewidth": 0,
             "ticks": ""
            },
            "colorscale": [
             [
              0,
              "#0d0887"
             ],
             [
              0.1111111111111111,
              "#46039f"
             ],
             [
              0.2222222222222222,
              "#7201a8"
             ],
             [
              0.3333333333333333,
              "#9c179e"
             ],
             [
              0.4444444444444444,
              "#bd3786"
             ],
             [
              0.5555555555555556,
              "#d8576b"
             ],
             [
              0.6666666666666666,
              "#ed7953"
             ],
             [
              0.7777777777777778,
              "#fb9f3a"
             ],
             [
              0.8888888888888888,
              "#fdca26"
             ],
             [
              1,
              "#f0f921"
             ]
            ],
            "type": "histogram2dcontour"
           }
          ],
          "mesh3d": [
           {
            "colorbar": {
             "outlinewidth": 0,
             "ticks": ""
            },
            "type": "mesh3d"
           }
          ],
          "parcoords": [
           {
            "line": {
             "colorbar": {
              "outlinewidth": 0,
              "ticks": ""
             }
            },
            "type": "parcoords"
           }
          ],
          "pie": [
           {
            "automargin": true,
            "type": "pie"
           }
          ],
          "scatter": [
           {
            "fillpattern": {
             "fillmode": "overlay",
             "size": 10,
             "solidity": 0.2
            },
            "type": "scatter"
           }
          ],
          "scatter3d": [
           {
            "line": {
             "colorbar": {
              "outlinewidth": 0,
              "ticks": ""
             }
            },
            "marker": {
             "colorbar": {
              "outlinewidth": 0,
              "ticks": ""
             }
            },
            "type": "scatter3d"
           }
          ],
          "scattercarpet": [
           {
            "marker": {
             "colorbar": {
              "outlinewidth": 0,
              "ticks": ""
             }
            },
            "type": "scattercarpet"
           }
          ],
          "scattergeo": [
           {
            "marker": {
             "colorbar": {
              "outlinewidth": 0,
              "ticks": ""
             }
            },
            "type": "scattergeo"
           }
          ],
          "scattergl": [
           {
            "marker": {
             "colorbar": {
              "outlinewidth": 0,
              "ticks": ""
             }
            },
            "type": "scattergl"
           }
          ],
          "scattermapbox": [
           {
            "marker": {
             "colorbar": {
              "outlinewidth": 0,
              "ticks": ""
             }
            },
            "type": "scattermapbox"
           }
          ],
          "scatterpolar": [
           {
            "marker": {
             "colorbar": {
              "outlinewidth": 0,
              "ticks": ""
             }
            },
            "type": "scatterpolar"
           }
          ],
          "scatterpolargl": [
           {
            "marker": {
             "colorbar": {
              "outlinewidth": 0,
              "ticks": ""
             }
            },
            "type": "scatterpolargl"
           }
          ],
          "scatterternary": [
           {
            "marker": {
             "colorbar": {
              "outlinewidth": 0,
              "ticks": ""
             }
            },
            "type": "scatterternary"
           }
          ],
          "surface": [
           {
            "colorbar": {
             "outlinewidth": 0,
             "ticks": ""
            },
            "colorscale": [
             [
              0,
              "#0d0887"
             ],
             [
              0.1111111111111111,
              "#46039f"
             ],
             [
              0.2222222222222222,
              "#7201a8"
             ],
             [
              0.3333333333333333,
              "#9c179e"
             ],
             [
              0.4444444444444444,
              "#bd3786"
             ],
             [
              0.5555555555555556,
              "#d8576b"
             ],
             [
              0.6666666666666666,
              "#ed7953"
             ],
             [
              0.7777777777777778,
              "#fb9f3a"
             ],
             [
              0.8888888888888888,
              "#fdca26"
             ],
             [
              1,
              "#f0f921"
             ]
            ],
            "type": "surface"
           }
          ],
          "table": [
           {
            "cells": {
             "fill": {
              "color": "#EBF0F8"
             },
             "line": {
              "color": "white"
             }
            },
            "header": {
             "fill": {
              "color": "#C8D4E3"
             },
             "line": {
              "color": "white"
             }
            },
            "type": "table"
           }
          ]
         },
         "layout": {
          "annotationdefaults": {
           "arrowcolor": "#2a3f5f",
           "arrowhead": 0,
           "arrowwidth": 1
          },
          "autotypenumbers": "strict",
          "coloraxis": {
           "colorbar": {
            "outlinewidth": 0,
            "ticks": ""
           }
          },
          "colorscale": {
           "diverging": [
            [
             0,
             "#8e0152"
            ],
            [
             0.1,
             "#c51b7d"
            ],
            [
             0.2,
             "#de77ae"
            ],
            [
             0.3,
             "#f1b6da"
            ],
            [
             0.4,
             "#fde0ef"
            ],
            [
             0.5,
             "#f7f7f7"
            ],
            [
             0.6,
             "#e6f5d0"
            ],
            [
             0.7,
             "#b8e186"
            ],
            [
             0.8,
             "#7fbc41"
            ],
            [
             0.9,
             "#4d9221"
            ],
            [
             1,
             "#276419"
            ]
           ],
           "sequential": [
            [
             0,
             "#0d0887"
            ],
            [
             0.1111111111111111,
             "#46039f"
            ],
            [
             0.2222222222222222,
             "#7201a8"
            ],
            [
             0.3333333333333333,
             "#9c179e"
            ],
            [
             0.4444444444444444,
             "#bd3786"
            ],
            [
             0.5555555555555556,
             "#d8576b"
            ],
            [
             0.6666666666666666,
             "#ed7953"
            ],
            [
             0.7777777777777778,
             "#fb9f3a"
            ],
            [
             0.8888888888888888,
             "#fdca26"
            ],
            [
             1,
             "#f0f921"
            ]
           ],
           "sequentialminus": [
            [
             0,
             "#0d0887"
            ],
            [
             0.1111111111111111,
             "#46039f"
            ],
            [
             0.2222222222222222,
             "#7201a8"
            ],
            [
             0.3333333333333333,
             "#9c179e"
            ],
            [
             0.4444444444444444,
             "#bd3786"
            ],
            [
             0.5555555555555556,
             "#d8576b"
            ],
            [
             0.6666666666666666,
             "#ed7953"
            ],
            [
             0.7777777777777778,
             "#fb9f3a"
            ],
            [
             0.8888888888888888,
             "#fdca26"
            ],
            [
             1,
             "#f0f921"
            ]
           ]
          },
          "colorway": [
           "#636efa",
           "#EF553B",
           "#00cc96",
           "#ab63fa",
           "#FFA15A",
           "#19d3f3",
           "#FF6692",
           "#B6E880",
           "#FF97FF",
           "#FECB52"
          ],
          "font": {
           "color": "#2a3f5f"
          },
          "geo": {
           "bgcolor": "white",
           "lakecolor": "white",
           "landcolor": "#E5ECF6",
           "showlakes": true,
           "showland": true,
           "subunitcolor": "white"
          },
          "hoverlabel": {
           "align": "left"
          },
          "hovermode": "closest",
          "mapbox": {
           "style": "light"
          },
          "paper_bgcolor": "white",
          "plot_bgcolor": "#E5ECF6",
          "polar": {
           "angularaxis": {
            "gridcolor": "white",
            "linecolor": "white",
            "ticks": ""
           },
           "bgcolor": "#E5ECF6",
           "radialaxis": {
            "gridcolor": "white",
            "linecolor": "white",
            "ticks": ""
           }
          },
          "scene": {
           "xaxis": {
            "backgroundcolor": "#E5ECF6",
            "gridcolor": "white",
            "gridwidth": 2,
            "linecolor": "white",
            "showbackground": true,
            "ticks": "",
            "zerolinecolor": "white"
           },
           "yaxis": {
            "backgroundcolor": "#E5ECF6",
            "gridcolor": "white",
            "gridwidth": 2,
            "linecolor": "white",
            "showbackground": true,
            "ticks": "",
            "zerolinecolor": "white"
           },
           "zaxis": {
            "backgroundcolor": "#E5ECF6",
            "gridcolor": "white",
            "gridwidth": 2,
            "linecolor": "white",
            "showbackground": true,
            "ticks": "",
            "zerolinecolor": "white"
           }
          },
          "shapedefaults": {
           "line": {
            "color": "#2a3f5f"
           }
          },
          "ternary": {
           "aaxis": {
            "gridcolor": "white",
            "linecolor": "white",
            "ticks": ""
           },
           "baxis": {
            "gridcolor": "white",
            "linecolor": "white",
            "ticks": ""
           },
           "bgcolor": "#E5ECF6",
           "caxis": {
            "gridcolor": "white",
            "linecolor": "white",
            "ticks": ""
           }
          },
          "title": {
           "x": 0.05
          },
          "xaxis": {
           "automargin": true,
           "gridcolor": "white",
           "linecolor": "white",
           "ticks": "",
           "title": {
            "standoff": 15
           },
           "zerolinecolor": "white",
           "zerolinewidth": 2
          },
          "yaxis": {
           "automargin": true,
           "gridcolor": "white",
           "linecolor": "white",
           "ticks": "",
           "title": {
            "standoff": 15
           },
           "zerolinecolor": "white",
           "zerolinewidth": 2
          }
         }
        },
        "title": {
         "font": {
          "color": "white",
          "family": "Roboto",
          "size": 24
         },
         "text": "Recommendations Based on My Current Reading",
         "x": 0.5
        }
       }
      }
     },
     "metadata": {},
     "output_type": "display_data"
    }
   ],
   "source": [
    "import plotly.graph_objects as go\n",
    "\n",
    "fig = go.Figure(\n",
    "    data=[\n",
    "        go.Table(\n",
    "            header=dict(\n",
    "                values=list(reading_list.columns), \n",
    "                fill_color=\"rgba(0, 123, 255, 0.8)\", \n",
    "                align=\"center\",\n",
    "                font=dict(color=\"white\", size=14, family=\"Roboto\"),\n",
    "                height=40\n",
    "            ),\n",
    "            cells=dict(\n",
    "                values=[reading_list[col] for col in reading_list.columns],\n",
    "                fill_color=[\n",
    "                    ['rgba(50, 50, 50, 0.8)', 'rgba(35, 35, 35, 0.8)'] * (len(reading_list) // 2) \n",
    "                ],  \n",
    "                align=\"center\",\n",
    "                font=dict(color=\"white\", size=16, family=\"Roboto\"),  \n",
    "                height=30\n",
    "            ),\n",
    "        )\n",
    "    ]\n",
    ")\n",
    "\n",
    "fig.update_layout(\n",
    "    title=\"Recommendations Based on My Current Reading\",\n",
    "    title_x=0.5,  # Center the title\n",
    "    title_font=dict(size=24, family=\"Roboto\", color=\"white\"),\n",
    "    plot_bgcolor=\"black\",  \n",
    ")\n",
    "\n",
    "fig.show()\n"
   ]
  }
 ],
 "metadata": {
  "kernelspec": {
   "display_name": "Python 3",
   "language": "python",
   "name": "python3"
  },
  "language_info": {
   "codemirror_mode": {
    "name": "ipython",
    "version": 3
   },
   "file_extension": ".py",
   "mimetype": "text/x-python",
   "name": "python",
   "nbconvert_exporter": "python",
   "pygments_lexer": "ipython3",
   "version": "3.12.3"
  }
 },
 "nbformat": 4,
 "nbformat_minor": 2
}
