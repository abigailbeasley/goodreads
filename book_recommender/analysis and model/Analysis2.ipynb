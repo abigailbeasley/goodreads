{
 "cells": [
  {
   "cell_type": "code",
   "execution_count": 1,
   "metadata": {},
   "outputs": [],
   "source": [
    "import pandas as pd"
   ]
  },
  {
   "cell_type": "code",
   "execution_count": 2,
   "metadata": {},
   "outputs": [],
   "source": [
    "# data source: https://epublications.marquette.edu/data_nfp/7/\n",
    "\n",
    "data = pd.read_csv('FedCycleData071012.csv')"
   ]
  },
  {
   "cell_type": "code",
   "execution_count": 5,
   "metadata": {},
   "outputs": [
    {
     "name": "stdout",
     "output_type": "stream",
     "text": [
      "<class 'pandas.core.frame.DataFrame'>\n",
      "RangeIndex: 1665 entries, 0 to 1664\n",
      "Data columns (total 80 columns):\n",
      " #   Column                      Non-Null Count  Dtype \n",
      "---  ------                      --------------  ----- \n",
      " 0   ClientID                    1665 non-null   object\n",
      " 1   CycleNumber                 1665 non-null   int64 \n",
      " 2   Group                       1665 non-null   int64 \n",
      " 3   CycleWithPeakorNot          1665 non-null   int64 \n",
      " 4   ReproductiveCategory        1665 non-null   int64 \n",
      " 5   LengthofCycle               1665 non-null   int64 \n",
      " 6   MeanCycleLength             1665 non-null   object\n",
      " 7   EstimatedDayofOvulation     1665 non-null   object\n",
      " 8   LengthofLutealPhase         1665 non-null   object\n",
      " 9   FirstDayofHigh              1665 non-null   object\n",
      " 10  TotalNumberofHighDays       1665 non-null   object\n",
      " 11  TotalHighPostPeak           1665 non-null   object\n",
      " 12  TotalNumberofPeakDays       1665 non-null   object\n",
      " 13  TotalDaysofFertility        1665 non-null   object\n",
      " 14  TotalFertilityFormula       1665 non-null   object\n",
      " 15  LengthofMenses              1665 non-null   object\n",
      " 16  MeanMensesLength            1665 non-null   object\n",
      " 17  MensesScoreDayOne           1665 non-null   object\n",
      " 18  MensesScoreDayTwo           1665 non-null   object\n",
      " 19  MensesScoreDayThree         1665 non-null   object\n",
      " 20  MensesScoreDayFour          1665 non-null   object\n",
      " 21  MensesScoreDayFive          1665 non-null   object\n",
      " 22  MensesScoreDaySix           1665 non-null   object\n",
      " 23  MensesScoreDaySeven         1665 non-null   object\n",
      " 24  MensesScoreDayEight         1665 non-null   object\n",
      " 25  MensesScoreDayNine          1665 non-null   object\n",
      " 26  MensesScoreDayTen           1665 non-null   object\n",
      " 27  MensesScoreDay11            1665 non-null   object\n",
      " 28  MensesScoreDay12            1665 non-null   object\n",
      " 29  MensesScoreDay13            1665 non-null   object\n",
      " 30  MensesScoreDay14            1665 non-null   object\n",
      " 31  MensesScoreDay15            1665 non-null   object\n",
      " 32  TotalMensesScore            1665 non-null   object\n",
      " 33  MeanBleedingIntensity       1665 non-null   object\n",
      " 34  NumberofDaysofIntercourse   1665 non-null   object\n",
      " 35  IntercourseInFertileWindow  1665 non-null   object\n",
      " 36  UnusualBleeding             1665 non-null   object\n",
      " 37  PhasesBleeding              1665 non-null   object\n",
      " 38  IntercourseDuringUnusBleed  1665 non-null   object\n",
      " 39  Age                         1665 non-null   object\n",
      " 40  AgeM                        1665 non-null   object\n",
      " 41  Maristatus                  1665 non-null   object\n",
      " 42  MaristatusM                 1665 non-null   object\n",
      " 43  Yearsmarried                1665 non-null   object\n",
      " 44  Wedding                     1665 non-null   object\n",
      " 45  Religion                    1665 non-null   object\n",
      " 46  ReligionM                   1665 non-null   object\n",
      " 47  Ethnicity                   1665 non-null   object\n",
      " 48  EthnicityM                  1665 non-null   object\n",
      " 49  Schoolyears                 1665 non-null   object\n",
      " 50  SchoolyearsM                1665 non-null   object\n",
      " 51  OccupationM                 1665 non-null   object\n",
      " 52  IncomeM                     1665 non-null   object\n",
      " 53  Height                      1665 non-null   object\n",
      " 54  Weight                      1665 non-null   object\n",
      " 55  Reprocate                   1665 non-null   object\n",
      " 56  Numberpreg                  1665 non-null   object\n",
      " 57  Livingkids                  1665 non-null   object\n",
      " 58  Miscarriages                1665 non-null   object\n",
      " 59  Abortions                   1665 non-null   object\n",
      " 60  Medvits                     1665 non-null   object\n",
      " 61  Medvitexplain               1665 non-null   object\n",
      " 62  Gynosurgeries               1665 non-null   object\n",
      " 63  LivingkidsM                 1665 non-null   object\n",
      " 64  Boys                        1665 non-null   object\n",
      " 65  Girls                       1665 non-null   object\n",
      " 66  MedvitsM                    1665 non-null   object\n",
      " 67  MedvitexplainM              1665 non-null   object\n",
      " 68  Urosurgeries                1665 non-null   object\n",
      " 69  Breastfeeding               1665 non-null   object\n",
      " 70  Method                      1665 non-null   object\n",
      " 71  Prevmethod                  1665 non-null   object\n",
      " 72  Methoddate                  1665 non-null   object\n",
      " 73  Whychart                    1665 non-null   object\n",
      " 74  Nextpreg                    1665 non-null   object\n",
      " 75  NextpregM                   1665 non-null   object\n",
      " 76  Spousesame                  1665 non-null   object\n",
      " 77  SpousesameM                 1665 non-null   object\n",
      " 78  Timeattemptpreg             1665 non-null   object\n",
      " 79  BMI                         1665 non-null   object\n",
      "dtypes: int64(5), object(75)\n",
      "memory usage: 1.0+ MB\n"
     ]
    }
   ],
   "source": [
    "data.info()"
   ]
  },
  {
   "cell_type": "code",
   "execution_count": 4,
   "metadata": {},
   "outputs": [
    {
     "name": "stdout",
     "output_type": "stream",
     "text": [
      "Number of observations: 1665\n",
      "Number of participants: 159\n"
     ]
    }
   ],
   "source": [
    "print(f\"Number of observations: {len(data)}\")\n",
    "print(f'Number of participants: {data['ClientID'].nunique()}')"
   ]
  }
 ],
 "metadata": {
  "kernelspec": {
   "display_name": "Python 3",
   "language": "python",
   "name": "python3"
  },
  "language_info": {
   "codemirror_mode": {
    "name": "ipython",
    "version": 3
   },
   "file_extension": ".py",
   "mimetype": "text/x-python",
   "name": "python",
   "nbconvert_exporter": "python",
   "pygments_lexer": "ipython3",
   "version": "3.12.3"
  }
 },
 "nbformat": 4,
 "nbformat_minor": 2
}
