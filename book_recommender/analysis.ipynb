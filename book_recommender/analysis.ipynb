{
 "cells": [
  {
   "cell_type": "markdown",
   "metadata": {},
   "source": [
    "### Step 1: Import Libraries"
   ]
  },
  {
   "cell_type": "code",
   "execution_count": 2,
   "metadata": {},
   "outputs": [],
   "source": [
    "import numpy as np\n",
    "import pandas as pd\n",
    "import matplotlib.pyplot as plt\n",
    "import seaborn as sns\n",
    "from scipy.sparse import csr_matrix"
   ]
  },
  {
   "cell_type": "markdown",
   "metadata": {},
   "source": [
    "### Step 2: Load Data"
   ]
  },
  {
   "cell_type": "code",
   "execution_count": 3,
   "metadata": {},
   "outputs": [
    {
     "name": "stdout",
     "output_type": "stream",
     "text": [
      "<class 'pandas.core.frame.DataFrame'>\n",
      "RangeIndex: 1185684 entries, 0 to 1185683\n",
      "Data columns (total 4 columns):\n",
      " #   Column   Non-Null Count    Dtype \n",
      "---  ------   --------------    ----- \n",
      " 0   title    1185682 non-null  object\n",
      " 1   rating   1185684 non-null  int64 \n",
      " 2   user_id  1185684 non-null  int64 \n",
      " 3   book_id  1185684 non-null  object\n",
      "dtypes: int64(2), object(2)\n",
      "memory usage: 36.2+ MB\n"
     ]
    }
   ],
   "source": [
    "ratings = pd.read_csv('cleaned_data.csv', usecols=['user_id', 'book_id', 'title', 'rating'])\n",
    "\n",
    "ratings.info()"
   ]
  },
  {
   "cell_type": "markdown",
   "metadata": {},
   "source": [
    "### Step 3: Cleaning Data\n",
    "\n",
    "While preprocessing the data, all missing ratings were encoded as a 0. I only want to look at books that have been reviewed by users, so I will filter out all ratings less than 1. I will also make a separate data set books, which contains each book from ratings."
   ]
  },
  {
   "cell_type": "code",
   "execution_count": 5,
   "metadata": {},
   "outputs": [],
   "source": [
    "\n",
    "# removing null ratings (=0)\n",
    "ratings = ratings[ratings['rating'] > 0]\n",
    "\n",
    "books = ratings[['book_id', 'title']].drop_duplicates()\n",
    "\n",
    "books['link'] = 'https://www.goodreads.com/book/show/' + books['book_id']"
   ]
  },
  {
   "cell_type": "code",
   "execution_count": 6,
   "metadata": {},
   "outputs": [],
   "source": [
    "from scrape_metadata_recs import get_genres, parse_genres\n",
    "\n",
    "compiled_genres = pd.DataFrame()\n",
    "\n",
    "# chunk books\n",
    "def divide_chunks(l, n): \n",
    "      \n",
    "    # looping till length l \n",
    "    for i in range(0, len(l), n):  \n",
    "        yield l[i:i + n]\n",
    "\n",
    "stacks_of_books = list(divide_chunks(books['link'], 20))"
   ]
  },
  {
   "cell_type": "code",
   "execution_count": 7,
   "metadata": {},
   "outputs": [
    {
     "name": "stdout",
     "output_type": "stream",
     "text": [
      "5.0%  complete\n"
     ]
    },
    {
     "ename": "NoSuchWindowException",
     "evalue": "Message: no such window: target window already closed\nfrom unknown error: web view not found\n  (Session info: chrome=131.0.6778.69)\nStacktrace:\n0   chromedriver                        0x0000000102ce9548 cxxbridge1$str$ptr + 3618920\n1   chromedriver                        0x0000000102ce1d98 cxxbridge1$str$ptr + 3588280\n2   chromedriver                        0x00000001027509c4 cxxbridge1$string$len + 89228\n3   chromedriver                        0x000000010272bea0 core::str::slice_error_fail::ha0e52dbcb60e6bae + 3780\n4   chromedriver                        0x00000001027bace0 cxxbridge1$string$len + 524200\n5   chromedriver                        0x00000001027cdbbc cxxbridge1$string$len + 601732\n6   chromedriver                        0x00000001027895c0 cxxbridge1$string$len + 321672\n7   chromedriver                        0x000000010278a210 cxxbridge1$string$len + 324824\n8   chromedriver                        0x0000000102cb54bc cxxbridge1$str$ptr + 3405788\n9   chromedriver                        0x0000000102cb87dc cxxbridge1$str$ptr + 3418876\n10  chromedriver                        0x0000000102c9c130 cxxbridge1$str$ptr + 3302480\n11  chromedriver                        0x0000000102cb909c cxxbridge1$str$ptr + 3421116\n12  chromedriver                        0x0000000102c8d888 cxxbridge1$str$ptr + 3242920\n13  chromedriver                        0x0000000102cd29c8 cxxbridge1$str$ptr + 3525864\n14  chromedriver                        0x0000000102cd2b44 cxxbridge1$str$ptr + 3526244\n15  chromedriver                        0x0000000102ce1a0c cxxbridge1$str$ptr + 3587372\n16  libsystem_pthread.dylib             0x00000001904fef94 _pthread_start + 136\n17  libsystem_pthread.dylib             0x00000001904f9d34 thread_start + 8\n",
     "output_type": "error",
     "traceback": [
      "\u001b[0;31m---------------------------------------------------------------------------\u001b[0m",
      "\u001b[0;31mNoSuchWindowException\u001b[0m                     Traceback (most recent call last)",
      "Cell \u001b[0;32mIn[7], line 8\u001b[0m\n\u001b[1;32m      5\u001b[0m     i \u001b[38;5;241m=\u001b[39m i \u001b[38;5;241m+\u001b[39m\u001b[38;5;241m1\u001b[39m\n\u001b[1;32m      6\u001b[0m \u001b[38;5;28;01melse\u001b[39;00m:\n\u001b[0;32m----> 8\u001b[0m     genres \u001b[38;5;241m=\u001b[39m \u001b[43mget_genres\u001b[49m\u001b[43m(\u001b[49m\u001b[43mstack\u001b[49m\u001b[43m)\u001b[49m\n\u001b[1;32m     10\u001b[0m     genres[\u001b[38;5;124m'\u001b[39m\u001b[38;5;124mgenre\u001b[39m\u001b[38;5;124m'\u001b[39m] \u001b[38;5;241m=\u001b[39m genres[\u001b[38;5;124m'\u001b[39m\u001b[38;5;124mgenre\u001b[39m\u001b[38;5;124m'\u001b[39m]\u001b[38;5;241m.\u001b[39mastype(\u001b[38;5;28mstr\u001b[39m)\n\u001b[1;32m     12\u001b[0m     genres_parsed \u001b[38;5;241m=\u001b[39m parse_genres(genres[\u001b[38;5;124m'\u001b[39m\u001b[38;5;124mgenre\u001b[39m\u001b[38;5;124m'\u001b[39m], \u001b[38;5;241m25\u001b[39m)\n",
      "File \u001b[0;32m~/Documents/GitHub/goodreads/book_recommender/scrape_metadata_recs.py:42\u001b[0m, in \u001b[0;36mget_genres\u001b[0;34m(book_list)\u001b[0m\n\u001b[1;32m     40\u001b[0m \u001b[38;5;28;01mfor\u001b[39;00m book \u001b[38;5;129;01min\u001b[39;00m book_list:\n\u001b[1;32m     41\u001b[0m     time\u001b[38;5;241m.\u001b[39msleep(\u001b[38;5;241m3\u001b[39m)\n\u001b[0;32m---> 42\u001b[0m     \u001b[43mdriver\u001b[49m\u001b[38;5;241;43m.\u001b[39;49m\u001b[43mget\u001b[49m\u001b[43m(\u001b[49m\u001b[43mbook\u001b[49m\u001b[43m)\u001b[49m\n\u001b[1;32m     43\u001b[0m     driver\u001b[38;5;241m.\u001b[39mmaximize_window()\n\u001b[1;32m     44\u001b[0m     driver\u001b[38;5;241m.\u001b[39mexecute_script(\u001b[38;5;124m'\u001b[39m\u001b[38;5;124mwindow.scrollBy(0, 200)\u001b[39m\u001b[38;5;124m'\u001b[39m)\n",
      "File \u001b[0;32m/Library/Frameworks/Python.framework/Versions/3.12/lib/python3.12/site-packages/selenium/webdriver/remote/webdriver.py:363\u001b[0m, in \u001b[0;36mWebDriver.get\u001b[0;34m(self, url)\u001b[0m\n\u001b[1;32m    361\u001b[0m \u001b[38;5;28;01mdef\u001b[39;00m \u001b[38;5;21mget\u001b[39m(\u001b[38;5;28mself\u001b[39m, url: \u001b[38;5;28mstr\u001b[39m) \u001b[38;5;241m-\u001b[39m\u001b[38;5;241m>\u001b[39m \u001b[38;5;28;01mNone\u001b[39;00m:\n\u001b[1;32m    362\u001b[0m \u001b[38;5;250m    \u001b[39m\u001b[38;5;124;03m\"\"\"Loads a web page in the current browser session.\"\"\"\u001b[39;00m\n\u001b[0;32m--> 363\u001b[0m     \u001b[38;5;28;43mself\u001b[39;49m\u001b[38;5;241;43m.\u001b[39;49m\u001b[43mexecute\u001b[49m\u001b[43m(\u001b[49m\u001b[43mCommand\u001b[49m\u001b[38;5;241;43m.\u001b[39;49m\u001b[43mGET\u001b[49m\u001b[43m,\u001b[49m\u001b[43m \u001b[49m\u001b[43m{\u001b[49m\u001b[38;5;124;43m\"\u001b[39;49m\u001b[38;5;124;43murl\u001b[39;49m\u001b[38;5;124;43m\"\u001b[39;49m\u001b[43m:\u001b[49m\u001b[43m \u001b[49m\u001b[43murl\u001b[49m\u001b[43m}\u001b[49m\u001b[43m)\u001b[49m\n",
      "File \u001b[0;32m/Library/Frameworks/Python.framework/Versions/3.12/lib/python3.12/site-packages/selenium/webdriver/remote/webdriver.py:354\u001b[0m, in \u001b[0;36mWebDriver.execute\u001b[0;34m(self, driver_command, params)\u001b[0m\n\u001b[1;32m    352\u001b[0m response \u001b[38;5;241m=\u001b[39m \u001b[38;5;28mself\u001b[39m\u001b[38;5;241m.\u001b[39mcommand_executor\u001b[38;5;241m.\u001b[39mexecute(driver_command, params)\n\u001b[1;32m    353\u001b[0m \u001b[38;5;28;01mif\u001b[39;00m response:\n\u001b[0;32m--> 354\u001b[0m     \u001b[38;5;28;43mself\u001b[39;49m\u001b[38;5;241;43m.\u001b[39;49m\u001b[43merror_handler\u001b[49m\u001b[38;5;241;43m.\u001b[39;49m\u001b[43mcheck_response\u001b[49m\u001b[43m(\u001b[49m\u001b[43mresponse\u001b[49m\u001b[43m)\u001b[49m\n\u001b[1;32m    355\u001b[0m     response[\u001b[38;5;124m\"\u001b[39m\u001b[38;5;124mvalue\u001b[39m\u001b[38;5;124m\"\u001b[39m] \u001b[38;5;241m=\u001b[39m \u001b[38;5;28mself\u001b[39m\u001b[38;5;241m.\u001b[39m_unwrap_value(response\u001b[38;5;241m.\u001b[39mget(\u001b[38;5;124m\"\u001b[39m\u001b[38;5;124mvalue\u001b[39m\u001b[38;5;124m\"\u001b[39m, \u001b[38;5;28;01mNone\u001b[39;00m))\n\u001b[1;32m    356\u001b[0m     \u001b[38;5;28;01mreturn\u001b[39;00m response\n",
      "File \u001b[0;32m/Library/Frameworks/Python.framework/Versions/3.12/lib/python3.12/site-packages/selenium/webdriver/remote/errorhandler.py:229\u001b[0m, in \u001b[0;36mErrorHandler.check_response\u001b[0;34m(self, response)\u001b[0m\n\u001b[1;32m    227\u001b[0m         alert_text \u001b[38;5;241m=\u001b[39m value[\u001b[38;5;124m\"\u001b[39m\u001b[38;5;124malert\u001b[39m\u001b[38;5;124m\"\u001b[39m]\u001b[38;5;241m.\u001b[39mget(\u001b[38;5;124m\"\u001b[39m\u001b[38;5;124mtext\u001b[39m\u001b[38;5;124m\"\u001b[39m)\n\u001b[1;32m    228\u001b[0m     \u001b[38;5;28;01mraise\u001b[39;00m exception_class(message, screen, stacktrace, alert_text)  \u001b[38;5;66;03m# type: ignore[call-arg]  # mypy is not smart enough here\u001b[39;00m\n\u001b[0;32m--> 229\u001b[0m \u001b[38;5;28;01mraise\u001b[39;00m exception_class(message, screen, stacktrace)\n",
      "\u001b[0;31mNoSuchWindowException\u001b[0m: Message: no such window: target window already closed\nfrom unknown error: web view not found\n  (Session info: chrome=131.0.6778.69)\nStacktrace:\n0   chromedriver                        0x0000000102ce9548 cxxbridge1$str$ptr + 3618920\n1   chromedriver                        0x0000000102ce1d98 cxxbridge1$str$ptr + 3588280\n2   chromedriver                        0x00000001027509c4 cxxbridge1$string$len + 89228\n3   chromedriver                        0x000000010272bea0 core::str::slice_error_fail::ha0e52dbcb60e6bae + 3780\n4   chromedriver                        0x00000001027bace0 cxxbridge1$string$len + 524200\n5   chromedriver                        0x00000001027cdbbc cxxbridge1$string$len + 601732\n6   chromedriver                        0x00000001027895c0 cxxbridge1$string$len + 321672\n7   chromedriver                        0x000000010278a210 cxxbridge1$string$len + 324824\n8   chromedriver                        0x0000000102cb54bc cxxbridge1$str$ptr + 3405788\n9   chromedriver                        0x0000000102cb87dc cxxbridge1$str$ptr + 3418876\n10  chromedriver                        0x0000000102c9c130 cxxbridge1$str$ptr + 3302480\n11  chromedriver                        0x0000000102cb909c cxxbridge1$str$ptr + 3421116\n12  chromedriver                        0x0000000102c8d888 cxxbridge1$str$ptr + 3242920\n13  chromedriver                        0x0000000102cd29c8 cxxbridge1$str$ptr + 3525864\n14  chromedriver                        0x0000000102cd2b44 cxxbridge1$str$ptr + 3526244\n15  chromedriver                        0x0000000102ce1a0c cxxbridge1$str$ptr + 3587372\n16  libsystem_pthread.dylib             0x00000001904fef94 _pthread_start + 136\n17  libsystem_pthread.dylib             0x00000001904f9d34 thread_start + 8\n"
     ]
    }
   ],
   "source": [
    "i = 0\n",
    "for stack in stacks_of_books:\n",
    "\n",
    "    if i < 400:\n",
    "        i = i +1\n",
    "    else:\n",
    "\n",
    "        genres = get_genres(stack)\n",
    "\n",
    "        genres['genre'] = genres['genre'].astype(str)\n",
    "\n",
    "        genres_parsed = parse_genres(genres['genre'], 25)\n",
    "\n",
    "        genres_parsed['link'] = genres['link']\n",
    "\n",
    "        compiled_genres = pd.concat([compiled_genres, genres_parsed], axis=0)\n",
    "\n",
    "        compiled_genres.to_csv('genres_compiled3.csv')\n",
    "        \n",
    "        i = i + 1"
   ]
  },
  {
   "cell_type": "code",
   "execution_count": null,
   "metadata": {},
   "outputs": [],
   "source": [
    "genres1= pd.read_csv('genres_compiled.csv')\n",
    "\n",
    "genres2 = pd.read_csv('genres_combiled2')\n",
    "\n",
    "genres3 = pd.read_csv('genres_compiled3.csv')\n",
    "\n",
    "all_genres = "
   ]
  },
  {
   "cell_type": "markdown",
   "metadata": {},
   "source": [
    "### Step 4: Exploratory Data Analysis"
   ]
  },
  {
   "cell_type": "code",
   "execution_count": 12,
   "metadata": {},
   "outputs": [
    {
     "name": "stdout",
     "output_type": "stream",
     "text": [
      "Number of ratings: 774081\n",
      "Number of unique books: 330634\n",
      "Number of unique users: 1828\n",
      "Average number of ratings per user: 423.46\n",
      "Average number of ratings per book: 2.34\n"
     ]
    }
   ],
   "source": [
    "n_ratings = len(ratings)\n",
    "n_books = ratings['book_id'].nunique()\n",
    "n_users = ratings['user_id'].nunique()\n",
    "\n",
    "print(f\"Number of ratings: {n_ratings}\")\n",
    "print(f\"Number of unique books: {n_books}\")\n",
    "print(f\"Number of unique users: {n_users}\")\n",
    "print(f\"Average number of ratings per user: {round(n_ratings/n_users, 2)}\")\n",
    "print(f\"Average number of ratings per book: {round(n_ratings/n_books, 2)}\")"
   ]
  },
  {
   "cell_type": "markdown",
   "metadata": {},
   "source": [
    "### What is the distribution of books ratings?"
   ]
  },
  {
   "cell_type": "code",
   "execution_count": 13,
   "metadata": {},
   "outputs": [
    {
     "data": {
      "image/png": "[encoded data removed]",
      "text/plain": [
       "<Figure size 640x480 with 1 Axes>"
      ]
     },
     "metadata": {},
     "output_type": "display_data"
    }
   ],
   "source": [
    "sns.countplot(x='rating', data = ratings)\n",
    "plt.title(\"Distribution of book ratings\", fontsize=14)\n",
    "plt.show()"
   ]
  },
  {
   "cell_type": "code",
   "execution_count": 14,
   "metadata": {},
   "outputs": [
    {
     "name": "stdout",
     "output_type": "stream",
     "text": [
      "Mean global rating: 3.79.\n"
     ]
    }
   ],
   "source": [
    "print(f\"Mean global rating: {round(ratings['rating'].mean(),2)}.\")"
   ]
  },
  {
   "cell_type": "code",
   "execution_count": 15,
   "metadata": {},
   "outputs": [
    {
     "name": "stdout",
     "output_type": "stream",
     "text": [
      "Mean rating per user: 3.84.\n"
     ]
    }
   ],
   "source": [
    "mean_ratings = ratings.groupby('user_id')['rating'].mean()\n",
    "\n",
    "print(f\"Mean rating per user: {round(mean_ratings.mean(),2)}.\")"
   ]
  },
  {
   "cell_type": "markdown",
   "metadata": {},
   "source": [
    "### Which books are most frequently rated?"
   ]
  },
  {
   "cell_type": "code",
   "execution_count": 16,
   "metadata": {},
   "outputs": [
    {
     "name": "stdout",
     "output_type": "stream",
     "text": [
      "                                                title  count\n",
      "0                        Monstress, Vol. 1: Awakening    575\n",
      "1                                    The Great Gatsby    518\n",
      "2                                Lessons in Chemistry    468\n",
      "3                                  The Maltese Falcon    399\n",
      "4   The Inheritance Games        (The Inheritance ...    393\n",
      "5                                      The New Mother    384\n",
      "6                                        Daisy Darker    377\n",
      "7   How to Solve Your Own Murder        (Castle Kn...    377\n",
      "8                                           Annie Bot    377\n",
      "9   Heartstopper: Volume One        (Heartstopper,...    374\n",
      "10          Confusion        (Cazalet Chronicles, #3)    372\n",
      "11                         Notes from the Burning Age    372\n",
      "12                                   Sunstone, Vol. 1    371\n",
      "13             Shigidi and the Brass Head of Obalufon    370\n",
      "14                                A Life in Questions    369\n",
      "15                                 The Unsettled Dust    369\n",
      "16                                  The Fire Starters    369\n",
      "17                                  Moonraker's Bride    369\n",
      "18                                       SFerics 2017    368\n",
      "19            The Wheels of Chance: A Bicycling Idyll    368\n"
     ]
    },
    {
     "data": {
      "text/plain": [
       "4737"
      ]
     },
     "execution_count": 16,
     "metadata": {},
     "output_type": "execute_result"
    }
   ],
   "source": [
    "book_ratings = ratings.value_counts('title').reset_index()\n",
    "\n",
    "print(book_ratings.head(20))\n",
    "\n",
    "len(book_ratings[book_ratings['count'] > 20])\n"
   ]
  },
  {
   "cell_type": "markdown",
   "metadata": {},
   "source": [
    "### What are the lowest and highest rated books? \n",
    "\n",
    "Which book has the lowest and highest average rating?"
   ]
  },
  {
   "cell_type": "code",
   "execution_count": 17,
   "metadata": {},
   "outputs": [
    {
     "name": "stdout",
     "output_type": "stream",
     "text": [
      "Lowest rated book: Nocturne        (87th Precinct, #48)\n",
      "Highest rated book: !خرگوش گوش داد\n"
     ]
    }
   ],
   "source": [
    "mean_ratings = ratings.groupby('title')[['rating']].mean().reset_index().sort_values('rating', ascending =False)\n",
    "lowest_rated = mean_ratings['rating'].idxmin()\n",
    "highest_rated = mean_ratings['rating'].idxmax()\n",
    "\n",
    "print(f'Lowest rated book: {mean_ratings.iloc[lowest_rated, 0]}')\n",
    "print(f'Highest rated book: {mean_ratings.iloc[highest_rated, 0]}')\n"
   ]
  },
  {
   "cell_type": "markdown",
   "metadata": {},
   "source": [
    "#### Bayesian Average\n",
    "\n",
    "Below I calculate the bayesian average to get a better idea what the average reader thinks of each book."
   ]
  },
  {
   "cell_type": "code",
   "execution_count": 40,
   "metadata": {},
   "outputs": [
    {
     "data": {
      "text/html": [
       "<div>\n",
       "<style scoped>\n",
       "    .dataframe tbody tr th:only-of-type {\n",
       "        vertical-align: middle;\n",
       "    }\n",
       "\n",
       "    .dataframe tbody tr th {\n",
       "        vertical-align: top;\n",
       "    }\n",
       "\n",
       "    .dataframe thead th {\n",
       "        text-align: right;\n",
       "    }\n",
       "</style>\n",
       "<table border=\"1\" class=\"dataframe\">\n",
       "  <thead>\n",
       "    <tr style=\"text-align: right;\">\n",
       "      <th></th>\n",
       "      <th>book_id</th>\n",
       "      <th>count</th>\n",
       "      <th>mean</th>\n",
       "    </tr>\n",
       "  </thead>\n",
       "  <tbody>\n",
       "    <tr>\n",
       "      <th>204320</th>\n",
       "      <td>4671.The_Great_Gatsby</td>\n",
       "      <td>434</td>\n",
       "      <td>4.301843</td>\n",
       "    </tr>\n",
       "    <tr>\n",
       "      <th>254546</th>\n",
       "      <td>58065033-lessons-in-chemistry</td>\n",
       "      <td>392</td>\n",
       "      <td>3.505102</td>\n",
       "    </tr>\n",
       "    <tr>\n",
       "      <th>129305</th>\n",
       "      <td>29999.The_Maltese_Falcon</td>\n",
       "      <td>386</td>\n",
       "      <td>4.901554</td>\n",
       "    </tr>\n",
       "    <tr>\n",
       "      <th>59669</th>\n",
       "      <td>181350367-how-to-solve-your-own-murder</td>\n",
       "      <td>374</td>\n",
       "      <td>3.564171</td>\n",
       "    </tr>\n",
       "    <tr>\n",
       "      <th>38214</th>\n",
       "      <td>156023123-annie-bot</td>\n",
       "      <td>373</td>\n",
       "      <td>3.032172</td>\n",
       "    </tr>\n",
       "  </tbody>\n",
       "</table>\n",
       "</div>"
      ],
      "text/plain": [
       "                                       book_id  count      mean\n",
       "204320                   4671.The_Great_Gatsby    434  4.301843\n",
       "254546           58065033-lessons-in-chemistry    392  3.505102\n",
       "129305                29999.The_Maltese_Falcon    386  4.901554\n",
       "59669   181350367-how-to-solve-your-own-murder    374  3.564171\n",
       "38214                      156023123-annie-bot    373  3.032172"
      ]
     },
     "execution_count": 40,
     "metadata": {},
     "output_type": "execute_result"
    }
   ],
   "source": [
    "book_stats = ratings.groupby('book_id')['rating'].agg(['count', 'mean']).reset_index().sort_values('count', ascending=False)\n",
    "book_stats.head()"
   ]
  },
  {
   "cell_type": "code",
   "execution_count": 19,
   "metadata": {},
   "outputs": [
    {
     "name": "stdout",
     "output_type": "stream",
     "text": [
      "Average number of ratings for a given book: 2.34\n",
      "Average rating for a given book: 3.75\n"
     ]
    }
   ],
   "source": [
    "C = book_stats['count'].mean()\n",
    "m = book_stats['mean'].mean()\n",
    "\n",
    "print(f\"Average number of ratings for a given book: {C:.2f}\")\n",
    "print(f\"Average rating for a given book: {m:.2f}\")\n",
    "\n",
    "def bayesian_avg(ratings):\n",
    "    bayesian_avg = (C*m+ratings.sum())/(C+ratings.count())\n",
    "    return round(bayesian_avg, 3)"
   ]
  },
  {
   "cell_type": "code",
   "execution_count": 20,
   "metadata": {},
   "outputs": [],
   "source": [
    "bayesian_avg_ratings = ratings.groupby('book_id')['rating'].agg(bayesian_avg).reset_index()\n",
    "bayesian_avg_ratings.columns = ['book_id', 'bayesian_avg']\n",
    "book_stats = book_stats.merge(bayesian_avg_ratings, on='book_id')"
   ]
  },
  {
   "cell_type": "code",
   "execution_count": 21,
   "metadata": {},
   "outputs": [
    {
     "data": {
      "text/html": [
       "<div>\n",
       "<style scoped>\n",
       "    .dataframe tbody tr th:only-of-type {\n",
       "        vertical-align: middle;\n",
       "    }\n",
       "\n",
       "    .dataframe tbody tr th {\n",
       "        vertical-align: top;\n",
       "    }\n",
       "\n",
       "    .dataframe thead th {\n",
       "        text-align: right;\n",
       "    }\n",
       "</style>\n",
       "<table border=\"1\" class=\"dataframe\">\n",
       "  <thead>\n",
       "    <tr style=\"text-align: right;\">\n",
       "      <th></th>\n",
       "      <th>book_id</th>\n",
       "      <th>count</th>\n",
       "      <th>mean</th>\n",
       "      <th>bayesian_avg</th>\n",
       "      <th>title</th>\n",
       "    </tr>\n",
       "  </thead>\n",
       "  <tbody>\n",
       "    <tr>\n",
       "      <th>16</th>\n",
       "      <td>39968298-why-we-get-the-wrong-politicians</td>\n",
       "      <td>368</td>\n",
       "      <td>5.0</td>\n",
       "      <td>4.992</td>\n",
       "      <td>Why We Get the Wrong Politicians</td>\n",
       "    </tr>\n",
       "    <tr>\n",
       "      <th>11</th>\n",
       "      <td>4029946-the-unsettled-dust</td>\n",
       "      <td>369</td>\n",
       "      <td>5.0</td>\n",
       "      <td>4.992</td>\n",
       "      <td>The Unsettled Dust</td>\n",
       "    </tr>\n",
       "    <tr>\n",
       "      <th>15</th>\n",
       "      <td>202971275-david-whitaker-in-an-exciting-advent...</td>\n",
       "      <td>368</td>\n",
       "      <td>5.0</td>\n",
       "      <td>4.992</td>\n",
       "      <td>David Whitaker in an Exciting Adventure with T...</td>\n",
       "    </tr>\n",
       "    <tr>\n",
       "      <th>21</th>\n",
       "      <td>58309653-the-sun-makers</td>\n",
       "      <td>368</td>\n",
       "      <td>5.0</td>\n",
       "      <td>4.992</td>\n",
       "      <td>The Sun Makers        (The Black Archive, #60)</td>\n",
       "    </tr>\n",
       "    <tr>\n",
       "      <th>17</th>\n",
       "      <td>123014815-ex-marginalia</td>\n",
       "      <td>368</td>\n",
       "      <td>5.0</td>\n",
       "      <td>4.992</td>\n",
       "      <td>Ex Marginalia: Essays from the Edges of Specul...</td>\n",
       "    </tr>\n",
       "  </tbody>\n",
       "</table>\n",
       "</div>"
      ],
      "text/plain": [
       "                                              book_id  count  mean  \\\n",
       "16          39968298-why-we-get-the-wrong-politicians    368   5.0   \n",
       "11                         4029946-the-unsettled-dust    369   5.0   \n",
       "15  202971275-david-whitaker-in-an-exciting-advent...    368   5.0   \n",
       "21                            58309653-the-sun-makers    368   5.0   \n",
       "17                            123014815-ex-marginalia    368   5.0   \n",
       "\n",
       "    bayesian_avg                                              title  \n",
       "16         4.992                   Why We Get the Wrong Politicians  \n",
       "11         4.992                                 The Unsettled Dust  \n",
       "15         4.992  David Whitaker in an Exciting Adventure with T...  \n",
       "21         4.992     The Sun Makers        (The Black Archive, #60)  \n",
       "17         4.992  Ex Marginalia: Essays from the Edges of Specul...  "
      ]
     },
     "execution_count": 21,
     "metadata": {},
     "output_type": "execute_result"
    }
   ],
   "source": [
    "book_stats = book_stats.merge(books[['book_id', 'title']])\n",
    "book_stats = book_stats.sort_values(by='bayesian_avg', ascending = False)\n",
    "book_stats.head(5)"
   ]
  },
  {
   "cell_type": "code",
   "execution_count": 24,
   "metadata": {},
   "outputs": [
    {
     "data": {
      "text/html": [
       "<div>\n",
       "<style scoped>\n",
       "    .dataframe tbody tr th:only-of-type {\n",
       "        vertical-align: middle;\n",
       "    }\n",
       "\n",
       "    .dataframe tbody tr th {\n",
       "        vertical-align: top;\n",
       "    }\n",
       "\n",
       "    .dataframe thead th {\n",
       "        text-align: right;\n",
       "    }\n",
       "</style>\n",
       "<table border=\"1\" class=\"dataframe\">\n",
       "  <thead>\n",
       "    <tr style=\"text-align: right;\">\n",
       "      <th></th>\n",
       "      <th>book_id</th>\n",
       "      <th>count</th>\n",
       "      <th>mean</th>\n",
       "      <th>bayesian_avg</th>\n",
       "      <th>title</th>\n",
       "    </tr>\n",
       "  </thead>\n",
       "  <tbody>\n",
       "    <tr>\n",
       "      <th>235</th>\n",
       "      <td>36507266-boss-book-eight</td>\n",
       "      <td>158</td>\n",
       "      <td>1.0</td>\n",
       "      <td>1.040</td>\n",
       "      <td>Boss Book Eight</td>\n",
       "    </tr>\n",
       "    <tr>\n",
       "      <th>231</th>\n",
       "      <td>36558074-boss-book-seven</td>\n",
       "      <td>158</td>\n",
       "      <td>1.0</td>\n",
       "      <td>1.040</td>\n",
       "      <td>Boss Book Seven</td>\n",
       "    </tr>\n",
       "    <tr>\n",
       "      <th>354</th>\n",
       "      <td>36063739-sh-gun</td>\n",
       "      <td>122</td>\n",
       "      <td>1.0</td>\n",
       "      <td>1.052</td>\n",
       "      <td>Shōgun        (Asian Saga: Chronological Order...</td>\n",
       "    </tr>\n",
       "    <tr>\n",
       "      <th>550</th>\n",
       "      <td>3077290-little-zizi</td>\n",
       "      <td>89</td>\n",
       "      <td>1.0</td>\n",
       "      <td>1.070</td>\n",
       "      <td>Little Zizi</td>\n",
       "    </tr>\n",
       "    <tr>\n",
       "      <th>994</th>\n",
       "      <td>11305860-psycho-ii</td>\n",
       "      <td>63</td>\n",
       "      <td>1.0</td>\n",
       "      <td>1.098</td>\n",
       "      <td>Psycho II</td>\n",
       "    </tr>\n",
       "  </tbody>\n",
       "</table>\n",
       "</div>"
      ],
      "text/plain": [
       "                      book_id  count  mean  bayesian_avg  \\\n",
       "235  36507266-boss-book-eight    158   1.0         1.040   \n",
       "231  36558074-boss-book-seven    158   1.0         1.040   \n",
       "354           36063739-sh-gun    122   1.0         1.052   \n",
       "550       3077290-little-zizi     89   1.0         1.070   \n",
       "994        11305860-psycho-ii     63   1.0         1.098   \n",
       "\n",
       "                                                 title  \n",
       "235                                    Boss Book Eight  \n",
       "231                                    Boss Book Seven  \n",
       "354  Shōgun        (Asian Saga: Chronological Order...  \n",
       "550                                        Little Zizi  \n",
       "994                                          Psycho II  "
      ]
     },
     "execution_count": 24,
     "metadata": {},
     "output_type": "execute_result"
    }
   ],
   "source": [
    "book_stats.sort_values('bayesian_avg', ascending=True).head()"
   ]
  },
  {
   "cell_type": "code",
   "execution_count": 25,
   "metadata": {},
   "outputs": [],
   "source": [
    "def create_X(df):\n",
    "    \"\"\"\n",
    "    Generates a sparse matrix from ratings dataframe.\n",
    "    \n",
    "    Args:\n",
    "        df: pandas dataframe containing 3 columns (userId, movieId, rating)\n",
    "    \n",
    "    Returns:\n",
    "        X: sparse matrix\n",
    "        user_mapper: dict that maps user id's to user indices\n",
    "        user_inv_mapper: dict that maps user indices to user id's\n",
    "        book_mapper: dict that maps book id's to movie indices\n",
    "        book_inv_mapper: dict that maps book indices to movie id's\n",
    "    \"\"\"\n",
    "    M = df['user_id'].nunique()\n",
    "    N = df['book_id'].nunique()\n",
    "\n",
    "    user_mapper = dict(zip(np.unique(df[\"user_id\"]), list(range(M))))\n",
    "    book_mapper = dict(zip(np.unique(df[\"book_id\"]), list(range(N))))\n",
    "    \n",
    "    user_inv_mapper = dict(zip(list(range(M)), np.unique(df[\"user_id\"])))\n",
    "    book_inv_mapper = dict(zip(list(range(N)), np.unique(df[\"book_id\"])))\n",
    "    \n",
    "    user_index = [user_mapper[i] for i in df[\"user_id\"]]\n",
    "    item_index = [book_mapper[i] for i in df[\"book_id\"]]\n",
    "\n",
    "    X = csr_matrix((df[\"rating\"], (user_index,item_index)), shape=(M,N))\n",
    "    \n",
    "    return X, user_mapper, book_mapper, user_inv_mapper, book_inv_mapper\n",
    "\n",
    "X, user_mapper, book_mapper, user_inv_mapper, book_inv_mapper = create_X(ratings[['user_id', 'book_id', 'rating']])"
   ]
  },
  {
   "cell_type": "code",
   "execution_count": 26,
   "metadata": {},
   "outputs": [
    {
     "data": {
      "text/plain": [
       "(1828, 330634)"
      ]
     },
     "execution_count": 26,
     "metadata": {},
     "output_type": "execute_result"
    }
   ],
   "source": [
    "X.shape"
   ]
  },
  {
   "cell_type": "markdown",
   "metadata": {},
   "source": [
    "### Evaluating sparsity"
   ]
  },
  {
   "cell_type": "code",
   "execution_count": 27,
   "metadata": {},
   "outputs": [
    {
     "name": "stdout",
     "output_type": "stream",
     "text": [
      "Matrix sparsity: 0.12%\n"
     ]
    }
   ],
   "source": [
    "n_total = X.shape[0]*X.shape[1]\n",
    "n_ratings = X.nnz\n",
    "sparsity = n_ratings/n_total\n",
    "print(f\"Matrix sparsity: {round(sparsity*100,2)}%\")"
   ]
  },
  {
   "cell_type": "code",
   "execution_count": 28,
   "metadata": {},
   "outputs": [
    {
     "data": {
      "text/plain": [
       "1828"
      ]
     },
     "execution_count": 28,
     "metadata": {},
     "output_type": "execute_result"
    }
   ],
   "source": [
    "n_ratings_per_user = X.getnnz(axis=1)\n",
    "len(n_ratings_per_user)"
   ]
  },
  {
   "cell_type": "code",
   "execution_count": 29,
   "metadata": {},
   "outputs": [
    {
     "name": "stdout",
     "output_type": "stream",
     "text": [
      "Most active user rated 3858 books.\n",
      "Least active user rated 1 books.\n"
     ]
    }
   ],
   "source": [
    "print(f\"Most active user rated {n_ratings_per_user.max()} books.\")\n",
    "print(f\"Least active user rated {n_ratings_per_user.min()} books.\")"
   ]
  },
  {
   "cell_type": "code",
   "execution_count": 30,
   "metadata": {},
   "outputs": [
    {
     "data": {
      "text/plain": [
       "330634"
      ]
     },
     "execution_count": 30,
     "metadata": {},
     "output_type": "execute_result"
    }
   ],
   "source": [
    "n_ratings_per_book = X.getnnz(axis=0)\n",
    "len(n_ratings_per_book)"
   ]
  },
  {
   "cell_type": "code",
   "execution_count": 31,
   "metadata": {},
   "outputs": [
    {
     "name": "stdout",
     "output_type": "stream",
     "text": [
      "Most rated book has 278 ratings.\n",
      "Least rated book has 1 ratings.\n"
     ]
    }
   ],
   "source": [
    "print(f\"Most rated book has {n_ratings_per_book.max()} ratings.\")\n",
    "print(f\"Least rated book has {n_ratings_per_book.min()} ratings.\")"
   ]
  },
  {
   "cell_type": "code",
   "execution_count": 32,
   "metadata": {},
   "outputs": [
    {
     "name": "stderr",
     "output_type": "stream",
     "text": [
      "/var/folders/8j/jqvkfjr12ns3lzbxz2m8scx00000gp/T/ipykernel_7912/3135468427.py:3: FutureWarning: \n",
      "\n",
      "`shade` is now deprecated in favor of `fill`; setting `fill=True`.\n",
      "This will become an error in seaborn v0.14.0; please update your code.\n",
      "\n",
      "  sns.kdeplot(n_ratings_per_user, shade=True)\n",
      "/var/folders/8j/jqvkfjr12ns3lzbxz2m8scx00000gp/T/ipykernel_7912/3135468427.py:9: FutureWarning: \n",
      "\n",
      "`shade` is now deprecated in favor of `fill`; setting `fill=True`.\n",
      "This will become an error in seaborn v0.14.0; please update your code.\n",
      "\n",
      "  sns.kdeplot(n_ratings_per_book, shade=True)\n"
     ]
    },
    {
     "data": {
      "image/png": "[encoded data removed]",
      "text/plain": [
       "<Figure size 1600x400 with 2 Axes>"
      ]
     },
     "metadata": {},
     "output_type": "display_data"
    }
   ],
   "source": [
    "plt.figure(figsize=(16,4))\n",
    "plt.subplot(1,2,1)\n",
    "sns.kdeplot(n_ratings_per_user, shade=True)\n",
    "plt.xlim(0)\n",
    "plt.title(\"Number of Ratings Per User\", fontsize=14)\n",
    "plt.xlabel(\"number of ratings per user\")\n",
    "plt.ylabel(\"density\")\n",
    "plt.subplot(1,2,2)\n",
    "sns.kdeplot(n_ratings_per_book, shade=True)\n",
    "plt.xlim(0)\n",
    "plt.title(\"Number of Ratings Per Book\", fontsize=14)\n",
    "plt.xlabel(\"number of ratings per book\")\n",
    "plt.ylabel(\"density\")\n",
    "plt.show()"
   ]
  },
  {
   "cell_type": "markdown",
   "metadata": {},
   "source": [
    "### Step 5: Item-item Recommendations with k-Nearest Neighbors"
   ]
  },
  {
   "cell_type": "markdown",
   "metadata": {},
   "source": [
    "We are going to find the $k$ books that have the most similar user engagement vectors for book $i$."
   ]
  },
  {
   "cell_type": "code",
   "execution_count": 38,
   "metadata": {},
   "outputs": [],
   "source": [
    "from sklearn.neighbors import NearestNeighbors\n",
    "\n",
    "def find_similar_books(book_id, X, book_mapper, book_inv_mapper, k, metric='cosine'):\n",
    "    \"\"\"\n",
    "    Finds k-nearest neighbours for a given book id.\n",
    "    \n",
    "    Args:\n",
    "        movie_id: id of the book of interest\n",
    "        X: user-item utility matrix\n",
    "        k: number of similar movies to retrieve\n",
    "        metric: distance metric for kNN calculations\n",
    "    \n",
    "    Output: returns list of k similar book ID's\n",
    "    \"\"\"\n",
    "    X = X.T\n",
    "    neighbour_ids = []\n",
    "    \n",
    "    book_ind = book_mapper[book_id]\n",
    "    book_vec = X[book_ind]\n",
    "    if isinstance(book_vec, (np.ndarray)):\n",
    "        book_vec = book_vec.reshape(1,-1)\n",
    "    # use k+1 since kNN output includes the movieId of interest\n",
    "    kNN = NearestNeighbors(n_neighbors=k+1, algorithm=\"brute\", metric=metric)\n",
    "    kNN.fit(X)\n",
    "    neighbour = kNN.kneighbors(book_vec, return_distance=False)\n",
    "    for i in range(0,k):\n",
    "        n = neighbour.item(i)\n",
    "        neighbour_ids.append(book_inv_mapper[n])\n",
    "    neighbour_ids.pop(0)\n",
    "    return neighbour_ids"
   ]
  },
  {
   "cell_type": "markdown",
   "metadata": {},
   "source": [
    "## Step 6: Search for Book Recs\n",
    "`find_similar_books()` takes in a `book_id` and `X` matrix, and outputs a list of $k$ books that are similar to the `book_id` of interest."
   ]
  },
  {
   "cell_type": "code",
   "execution_count": 42,
   "metadata": {},
   "outputs": [
    {
     "data": {
      "text/plain": [
       "['770265.Humility',\n",
       " '59951278-film-noir-portraits',\n",
       " '200323566-defeating-evil',\n",
       " '8197828-slayground',\n",
       " '62981559-dopamine-nation',\n",
       " '60094198-a-swim-in-a-pond-in-the-rain',\n",
       " '28075710-saving-my-assassin',\n",
       " '17288638-salem-s-lot',\n",
       " '43124148-carrie']"
      ]
     },
     "execution_count": 42,
     "metadata": {},
     "output_type": "execute_result"
    }
   ],
   "source": [
    "similar_books = find_similar_books('4671.The_Great_Gatsby', X, book_mapper, book_inv_mapper, k=10)\n",
    "similar_books"
   ]
  },
  {
   "cell_type": "code",
   "execution_count": 1,
   "metadata": {},
   "outputs": [
    {
     "ename": "NameError",
     "evalue": "name 'books' is not defined",
     "output_type": "error",
     "traceback": [
      "\u001b[0;31m---------------------------------------------------------------------------\u001b[0m",
      "\u001b[0;31mNameError\u001b[0m                                 Traceback (most recent call last)",
      "Cell \u001b[0;32mIn[1], line 1\u001b[0m\n\u001b[0;32m----> 1\u001b[0m book_titles \u001b[38;5;241m=\u001b[39m \u001b[38;5;28mdict\u001b[39m(\u001b[38;5;28mzip\u001b[39m(\u001b[43mbooks\u001b[49m[\u001b[38;5;124m'\u001b[39m\u001b[38;5;124mbook_id\u001b[39m\u001b[38;5;124m'\u001b[39m], books[\u001b[38;5;124m'\u001b[39m\u001b[38;5;124mtitle\u001b[39m\u001b[38;5;124m'\u001b[39m]))\n\u001b[1;32m      3\u001b[0m \u001b[38;5;66;03m#book_id = '29044.The_Secret_History'\u001b[39;00m\n\u001b[1;32m      4\u001b[0m book_id \u001b[38;5;241m=\u001b[39m \u001b[38;5;124m'\u001b[39m\u001b[38;5;124m57945316-babel\u001b[39m\u001b[38;5;124m'\u001b[39m\n",
      "\u001b[0;31mNameError\u001b[0m: name 'books' is not defined"
     ]
    }
   ],
   "source": [
    "book_titles = dict(zip(books['book_id'], books['title']))\n",
    "\n",
    "#book_id = '29044.The_Secret_History'\n",
    "book_id = '57945316-babel'\n",
    "\n",
    "similar_books = find_similar_books(book_id, X, book_mapper, book_inv_mapper, metric='cosine', k=10)\n",
    "book_title = book_titles[book_id]\n",
    "\n",
    "print(f\"Because you liked {book_title}:\")\n",
    "for i in similar_books:\n",
    "    print(book_titles[i])"
   ]
  }
 ],
 "metadata": {
  "kernelspec": {
   "display_name": "Python 3",
   "language": "python",
   "name": "python3"
  },
  "language_info": {
   "codemirror_mode": {
    "name": "ipython",
    "version": 3
   },
   "file_extension": ".py",
   "mimetype": "text/x-python",
   "name": "python",
   "nbconvert_exporter": "python",
   "pygments_lexer": "ipython3",
   "version": "3.12.3"
  }
 },
 "nbformat": 4,
 "nbformat_minor": 2
}
